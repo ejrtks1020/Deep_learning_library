{
  "nbformat": 4,
  "nbformat_minor": 0,
  "metadata": {
    "colab": {
      "name": "_2 텐서플로우 회귀 분석 모델.ipynb",
      "provenance": [],
      "collapsed_sections": [],
      "include_colab_link": true
    },
    "kernelspec": {
      "name": "python3",
      "display_name": "Python 3"
    },
    "accelerator": "GPU"
  },
  "cells": [
    {
      "cell_type": "markdown",
      "metadata": {
        "id": "view-in-github",
        "colab_type": "text"
      },
      "source": [
        "<a href=\"https://colab.research.google.com/github/ejrtks1020/Deep_learning_library/blob/main/_2_%ED%85%90%EC%84%9C%ED%94%8C%EB%A1%9C%EC%9A%B0_%ED%9A%8C%EA%B7%80_%EB%B6%84%EC%84%9D_%EB%AA%A8%EB%8D%B8.ipynb\" target=\"_parent\"><img src=\"https://colab.research.google.com/assets/colab-badge.svg\" alt=\"Open In Colab\"/></a>"
      ]
    },
    {
      "cell_type": "markdown",
      "metadata": {
        "id": "ME4xVKRSvWxH"
      },
      "source": [
        "# 텐서플로우 회귀 분석 모델\n",
        "\n",
        "- 다양한 방법이 존재\n",
        "- 텐서플로우2만 사용하는 방법, 케라스를 이용한 방법, 둘을 모두 섞은 방법 등등  \n"
      ]
    },
    {
      "cell_type": "markdown",
      "metadata": {
        "id": "Lw9JHQ2btU9O"
      },
      "source": [
        "## 선형 회귀(Linear Regression)"
      ]
    },
    {
      "cell_type": "code",
      "metadata": {
        "id": "rc0SydSstXAj"
      },
      "source": [
        "import numpy as np\n",
        "import tensorflow as tf\n",
        "import matplotlib.pyplot as plt\n",
        "plt.style.use(['seaborn-whitegrid'])"
      ],
      "execution_count": null,
      "outputs": []
    },
    {
      "cell_type": "code",
      "metadata": {
        "id": "qvFld-m-tcnD"
      },
      "source": [
        "learning_rate = 0.01\n",
        "training_steps = 1000"
      ],
      "execution_count": null,
      "outputs": []
    },
    {
      "cell_type": "code",
      "metadata": {
        "id": "0-3wzjHjtgBg"
      },
      "source": [
        "X = np.random.randn(50)\n",
        "Y = 2 * X + np.random.randn(50)"
      ],
      "execution_count": null,
      "outputs": []
    },
    {
      "cell_type": "code",
      "metadata": {
        "id": "yAdt62LKti-W"
      },
      "source": [
        "W = tf.Variable(np.random.randn(), name = 'weight')\n",
        "b = tf.Variable(np.random.randn(), name = 'bias')\n",
        "\n",
        "def linear_regression(x):\n",
        "  return W * x + b\n",
        "\n",
        "def mean_square(y_pred, y_true):\n",
        "  return tf.reduce_mean(tf.square(y_pred - y_true))\n",
        "\n",
        "optimizer = tf.optimizers.SGD(learning_rate)"
      ],
      "execution_count": null,
      "outputs": []
    },
    {
      "cell_type": "code",
      "metadata": {
        "id": "P8mLzC5vuCwp"
      },
      "source": [
        "def run_optimization():\n",
        "  with tf.GradientTape() as tape:\n",
        "    pred = linear_regression(X)\n",
        "    loss = mean_square(pred ,Y)\n",
        "\n",
        "  gradients = tape.gradient(loss, [W, b]) # 기울기(gradients) 값을 가져온다\n",
        "  optimizer.apply_gradients(zip(gradients, [W, b])) # 가져운 기울기 값과 업데이트 해야될 weight와 bias값을 같이 할당\n"
      ],
      "execution_count": null,
      "outputs": []
    },
    {
      "cell_type": "code",
      "metadata": {
        "id": "dpMeJIaquPld",
        "colab": {
          "base_uri": "https://localhost:8080/"
        },
        "outputId": "fc435b0a-4d53-4b9d-cc87-70150a50f137"
      },
      "source": [
        "for step in range(1 ,training_steps + 1):\n",
        "  run_optimization()\n",
        "\n",
        "  if step % 50 == 0:\n",
        "    pred = linear_regression(X)\n",
        "    loss = mean_square(pred, Y)\n",
        "    print('step: {:4d}\\tloss: {:4f}\\tW: {:.4f}\\tb: {:.4f}'.format(step, loss, W.numpy(), b.numpy()))"
      ],
      "execution_count": null,
      "outputs": [
        {
          "output_type": "stream",
          "name": "stdout",
          "text": [
            "step:   50\tloss: 2.028017\tW: 1.2665\tb: 0.9718\n",
            "step:  100\tloss: 0.896018\tW: 1.7719\tb: 0.4521\n",
            "step:  150\tloss: 0.739610\tW: 1.9254\tb: 0.2291\n",
            "step:  200\tloss: 0.716214\tW: 1.9759\tb: 0.1372\n",
            "step:  250\tloss: 0.712619\tW: 1.9937\tb: 0.1001\n",
            "step:  300\tloss: 0.712062\tW: 2.0002\tb: 0.0852\n",
            "step:  350\tloss: 0.711976\tW: 2.0027\tb: 0.0793\n",
            "step:  400\tloss: 0.711962\tW: 2.0037\tb: 0.0770\n",
            "step:  450\tloss: 0.711960\tW: 2.0040\tb: 0.0761\n",
            "step:  500\tloss: 0.711960\tW: 2.0042\tb: 0.0757\n",
            "step:  550\tloss: 0.711960\tW: 2.0042\tb: 0.0756\n",
            "step:  600\tloss: 0.711960\tW: 2.0043\tb: 0.0755\n",
            "step:  650\tloss: 0.711960\tW: 2.0043\tb: 0.0755\n",
            "step:  700\tloss: 0.711960\tW: 2.0043\tb: 0.0755\n",
            "step:  750\tloss: 0.711960\tW: 2.0043\tb: 0.0755\n",
            "step:  800\tloss: 0.711960\tW: 2.0043\tb: 0.0755\n",
            "step:  850\tloss: 0.711960\tW: 2.0043\tb: 0.0755\n",
            "step:  900\tloss: 0.711960\tW: 2.0043\tb: 0.0755\n",
            "step:  950\tloss: 0.711960\tW: 2.0043\tb: 0.0755\n",
            "step: 1000\tloss: 0.711960\tW: 2.0043\tb: 0.0755\n"
          ]
        }
      ]
    },
    {
      "cell_type": "code",
      "metadata": {
        "id": "is397GkquXu1",
        "colab": {
          "base_uri": "https://localhost:8080/",
          "height": 262
        },
        "outputId": "e5958094-64fa-4a8f-b8e6-994407915afe"
      },
      "source": [
        "plt.plot(X, Y, 'ro', label = 'Data')\n",
        "plt.plot(X , np.array(W * X + b), label = 'Fitted Line')\n",
        "plt.legend()\n",
        "plt.grid()\n",
        "plt.show()"
      ],
      "execution_count": null,
      "outputs": [
        {
          "output_type": "display_data",
          "data": {
            "image/png": "[encoded data removed]",
            "text/plain": [
              "<Figure size 432x288 with 1 Axes>"
            ]
          },
          "metadata": {
            "needs_background": "light"
          }
        }
      ]
    },
    {
      "cell_type": "markdown",
      "metadata": {
        "id": "hmwhh8v7ooEh"
      },
      "source": [
        "## 다항 회귀 (Nonlinear Regression)\n"
      ]
    },
    {
      "cell_type": "markdown",
      "metadata": {
        "id": "JzPHMupUouoj"
      },
      "source": [
        "### modules import"
      ]
    },
    {
      "cell_type": "code",
      "metadata": {
        "id": "nwjaLZxmosFb"
      },
      "source": [
        "from tensorflow.keras.optimizers import Adam"
      ],
      "execution_count": null,
      "outputs": []
    },
    {
      "cell_type": "markdown",
      "metadata": {
        "id": "a4Eypd3lqIH7"
      },
      "source": [
        "### Hyper Parameters"
      ]
    },
    {
      "cell_type": "code",
      "metadata": {
        "id": "PwYv4RjrqKDk"
      },
      "source": [
        "epochs = 1000\n",
        "learning_rate = 0.04"
      ],
      "execution_count": null,
      "outputs": []
    },
    {
      "cell_type": "markdown",
      "metadata": {
        "id": "SBFf3xYkpK__"
      },
      "source": [
        "### 변수 지정"
      ]
    },
    {
      "cell_type": "code",
      "metadata": {
        "id": "rdYHM586osJT"
      },
      "source": [
        "a = tf.Variable(np.random.randn())\n",
        "b = tf.Variable(np.random.randn())\n",
        "c = tf.Variable(np.random.randn())"
      ],
      "execution_count": null,
      "outputs": []
    },
    {
      "cell_type": "code",
      "metadata": {
        "colab": {
          "base_uri": "https://localhost:8080/"
        },
        "id": "1lpPIrZBHV-H",
        "outputId": "08ec7337-a4ab-4454-a3bd-3a87a8168350"
      },
      "source": [
        "print(a) #그냥 출력하면 객체정보만 나오므로 넘파이로 변환해서 출력해야한다."
      ],
      "execution_count": null,
      "outputs": [
        {
          "output_type": "stream",
          "name": "stdout",
          "text": [
            "<tf.Variable 'Variable:0' shape=() dtype=float32, numpy=0.58313453>\n"
          ]
        }
      ]
    },
    {
      "cell_type": "code",
      "metadata": {
        "id": "n0BoMoSgqmR2",
        "colab": {
          "base_uri": "https://localhost:8080/"
        },
        "outputId": "a627f2fa-d8af-4237-b12d-9facbc39a465"
      },
      "source": [
        "print(a.numpy())\n",
        "print(b.numpy())\n",
        "print(c.numpy())"
      ],
      "execution_count": null,
      "outputs": [
        {
          "output_type": "stream",
          "name": "stdout",
          "text": [
            "-1.7935073\n",
            "0.52825105\n",
            "-2.0557625\n"
          ]
        }
      ]
    },
    {
      "cell_type": "markdown",
      "metadata": {
        "id": "3-ks5u2ypTtb"
      },
      "source": [
        "### 데이터 지정"
      ]
    },
    {
      "cell_type": "code",
      "metadata": {
        "id": "rgVzGBLEor8l"
      },
      "source": [
        "X = np.random.randn(50)\n",
        "Y = X **2 + X * np.random.randn(50)    # 실제 a = 2, b = 1, c = 0에 가깝게 가중치 abc가 최적화 되어야한다."
      ],
      "execution_count": null,
      "outputs": []
    },
    {
      "cell_type": "code",
      "metadata": {
        "id": "uodrzxT1rU1G",
        "colab": {
          "base_uri": "https://localhost:8080/",
          "height": 262
        },
        "outputId": "54728024-9fcf-44ac-853e-366907a29d16"
      },
      "source": [
        "line_x = np.arange(min(X), max(X), 0.001)\n",
        "line_y = a * line_x ** 2 + b* line_x + c\n",
        "\n",
        "x_ = np.arange(-4.0, 4.0, 0.001)\n",
        "y_ = a*x_ **2 + b * x_ + c\n",
        "\n",
        "plt.scatter(X, Y, label = 'X data')\n",
        "plt.plot(x_, y_, 'g--', label = 'original line')\n",
        "plt.plot(line_x, line_y, 'r--', label = 'before train')\n",
        "plt.xlim(-4.0, 4.0)\n",
        "plt.legend()\n",
        "\n",
        "plt.show()"
      ],
      "execution_count": null,
      "outputs": [
        {
          "output_type": "display_data",
          "data": {
            "image/png": "[encoded data removed]",
            "text/plain": [
              "<Figure size 432x288 with 1 Axes>"
            ]
          },
          "metadata": {
            "needs_background": "light"
          }
        }
      ]
    },
    {
      "cell_type": "markdown",
      "metadata": {
        "id": "7C56lq45uM-V"
      },
      "source": [
        "### Util Functions"
      ]
    },
    {
      "cell_type": "code",
      "metadata": {
        "id": "_pvdH6U9uJ8i"
      },
      "source": [
        "def compute_loss():\n",
        "  pred_y = a *(np.array(X)**2) + b*np.array(X) + c\n",
        "  loss = tf.reduce_mean((Y - pred_y)**2)\n",
        "  return loss"
      ],
      "execution_count": null,
      "outputs": []
    },
    {
      "cell_type": "markdown",
      "metadata": {
        "id": "kcme5VWPp6fz"
      },
      "source": [
        "### Optimizer"
      ]
    },
    {
      "cell_type": "code",
      "metadata": {
        "id": "R4TSy8j2or5J"
      },
      "source": [
        "optimizer = Adam(learning_rate = learning_rate)"
      ],
      "execution_count": null,
      "outputs": []
    },
    {
      "cell_type": "markdown",
      "metadata": {
        "id": "5QVfbg2uqEx8"
      },
      "source": [
        "### 학습"
      ]
    },
    {
      "cell_type": "code",
      "metadata": {
        "id": "DBjCdWz9or1p",
        "colab": {
          "base_uri": "https://localhost:8080/"
        },
        "outputId": "affb20da-1a6d-448b-bee9-45c1a7cdc330"
      },
      "source": [
        "for epoch in range(1, epochs + 1, 1):\n",
        "  optimizer.minimize(compute_loss, var_list = [a,b,c]) # loss 값을 최소화하는 방향으로 a, b, c를 최적화\n",
        "\n",
        "  if epoch % 100 == 0:\n",
        "    print('epoch: {:4d}\\ta: {:.4f}\\tb: {:.4f}\\tc: {:.4f}'.format(epoch, a.numpy(), b.numpy(), c.numpy()))"
      ],
      "execution_count": null,
      "outputs": [
        {
          "output_type": "stream",
          "name": "stdout",
          "text": [
            "epoch:  100\ta: 0.6018\tb: 0.3416\tc: 0.3004\n",
            "epoch:  200\ta: 0.7703\tb: 0.2227\tc: 0.2217\n",
            "epoch:  300\ta: 0.8072\tb: 0.2057\tc: 0.1338\n",
            "epoch:  400\ta: 0.8189\tb: 0.2003\tc: 0.1062\n",
            "epoch:  500\ta: 0.8215\tb: 0.1991\tc: 0.1001\n",
            "epoch:  600\ta: 0.8219\tb: 0.1989\tc: 0.0992\n",
            "epoch:  700\ta: 0.8219\tb: 0.1989\tc: 0.0991\n",
            "epoch:  800\ta: 0.8219\tb: 0.1989\tc: 0.0991\n",
            "epoch:  900\ta: 0.8219\tb: 0.1989\tc: 0.0991\n",
            "epoch: 1000\ta: 0.8219\tb: 0.1989\tc: 0.0991\n"
          ]
        }
      ]
    },
    {
      "cell_type": "markdown",
      "metadata": {
        "id": "Fbyej01IumFX"
      },
      "source": [
        "### 학습 후의 회귀선"
      ]
    },
    {
      "cell_type": "code",
      "metadata": {
        "id": "gKqDyDwXugdP",
        "colab": {
          "base_uri": "https://localhost:8080/",
          "height": 262
        },
        "outputId": "b54130b4-fb81-4560-ab6b-b63890d2f44e"
      },
      "source": [
        "line_x = np.arange(min(X), max(X), 0.001)\n",
        "line_y = a * line_x ** 2 + b* line_x + c\n",
        "\n",
        "\n",
        "plt.scatter(X, Y, label = 'X data')\n",
        "plt.plot(x_, y_, 'g--', label = 'original line')\n",
        "plt.plot(line_x, line_y, 'r--', label = 'after train')\n",
        "plt.xlim(-4.0, 4.0)\n",
        "plt.legend()\n",
        "\n",
        "plt.show()"
      ],
      "execution_count": null,
      "outputs": [
        {
          "output_type": "display_data",
          "data": {
            "image/png": "[encoded data removed]",
            "text/plain": [
              "<Figure size 432x288 with 1 Axes>"
            ]
          },
          "metadata": {
            "needs_background": "light"
          }
        }
      ]
    },
    {
      "cell_type": "markdown",
      "metadata": {
        "id": "jtCFXjS6uwry"
      },
      "source": [
        "## 로지스틱 회귀(Logistic Regression)\n",
        "- 다항 분류, MNIST"
      ]
    },
    {
      "cell_type": "markdown",
      "metadata": {
        "id": "GIdxzXa1vJmt"
      },
      "source": [
        "### modules import"
      ]
    },
    {
      "cell_type": "code",
      "metadata": {
        "id": "LGHeQjgYumXM"
      },
      "source": [
        "from tensorflow.keras.datasets import mnist"
      ],
      "execution_count": null,
      "outputs": []
    },
    {
      "cell_type": "markdown",
      "metadata": {
        "id": "96xeDaPJvFW1"
      },
      "source": [
        "### 하이퍼 파라미터 (Hyper Parameter)\n"
      ]
    },
    {
      "cell_type": "code",
      "metadata": {
        "id": "-lPlvJz1u6k-"
      },
      "source": [
        "num_classes = 10\n",
        "num_features = 784\n",
        "\n",
        "learning_rate = 0.1\n",
        "training_steps = 1000\n",
        "batch_size = 256"
      ],
      "execution_count": null,
      "outputs": []
    },
    {
      "cell_type": "markdown",
      "metadata": {
        "id": "ZM5M9h8NvDWV"
      },
      "source": [
        "### 데이터 로드"
      ]
    },
    {
      "cell_type": "code",
      "metadata": {
        "id": "qnobrT26vAvQ"
      },
      "source": [
        "(x_train, y_train), (x_test, y_test) = mnist.load_data()\n",
        "\n",
        "x_train, x_test = np.array(x_train, np.float32), np.array(x_test, np.float32)\n",
        "\n",
        "x_train, x_test = x_train.reshape(-1, num_features), x_test.reshape(-1, num_features) # 28 x 28을 1차원으로 펼침\n",
        "\n",
        "x_train, x_test = x_train / 255., x_test /255. #이미지값은 0~ 255의 값을 가지기때문에 0과 1사이 값으로 normalization"
      ],
      "execution_count": null,
      "outputs": []
    },
    {
      "cell_type": "code",
      "metadata": {
        "colab": {
          "base_uri": "https://localhost:8080/"
        },
        "id": "PcZW0OCpf6em",
        "outputId": "50aee529-7980-43b6-c4a7-869a8372a4a7"
      },
      "source": [
        "x_train.shape, x_test.shape"
      ],
      "execution_count": null,
      "outputs": [
        {
          "output_type": "execute_result",
          "data": {
            "text/plain": [
              "((60000, 784), (10000, 784))"
            ]
          },
          "metadata": {},
          "execution_count": 27
        }
      ]
    },
    {
      "cell_type": "markdown",
      "metadata": {
        "id": "o3bJVBPtve43"
      },
      "source": [
        "### tf.data API 사용\n",
        "- 03 에서 다시 다룸 "
      ]
    },
    {
      "cell_type": "code",
      "metadata": {
        "id": "-OWS2nV_vPly"
      },
      "source": [
        "train_data = tf.data.Dataset.from_tensor_slices((x_train, y_train))\n",
        "train_data=  train_data.repeat().shuffle(5000).batch(batch_size).prefetch(1) #데이터 API를 이용해 셔플과 배치를 구성함"
      ],
      "execution_count": null,
      "outputs": []
    },
    {
      "cell_type": "markdown",
      "metadata": {
        "id": "fHbbQ29awub_"
      },
      "source": [
        "### 변수 지정"
      ]
    },
    {
      "cell_type": "code",
      "metadata": {
        "id": "NTMKizyIww0x"
      },
      "source": [
        "W = tf.Variable(tf.random.normal([num_features, num_classes]), 'weight')\n",
        "b = tf.Variable(tf.zeros([num_classes]), name = 'bias')"
      ],
      "execution_count": null,
      "outputs": []
    },
    {
      "cell_type": "markdown",
      "metadata": {
        "id": "kiK9LRUNwxC1"
      },
      "source": [
        "### Util Functions"
      ]
    },
    {
      "cell_type": "code",
      "metadata": {
        "id": "ylkNeSdhvbi6"
      },
      "source": [
        "def logistic_regression(x):\n",
        "  return tf.nn.softmax(tf.matmul(x, W) + b)\n",
        "\n",
        "def cross_entropy(pred_y, true_y):   #대표적 loss function\n",
        "  true_y = tf.one_hot(true_y ,depth = num_classes)\n",
        "  pred_y = tf.clip_by_value(pred_y, 1e-9, 1.) # 출력값의 범위를 정한다, 0이들어가면 안되므로 최솟값은 아주작은 값으로 지정\n",
        "\n",
        "  return tf.reduce_mean(-tf.reduce_sum(true_y * tf.math.log(pred_y), 1))\n",
        "\n",
        "def accuracy(y_pred, y_true):\n",
        "  correct_prediction = tf.equal(tf.argmax(y_pred, 1), tf.cast(y_true, tf.int64))\n",
        "  return tf.reduce_mean(tf.cast(correct_prediction, tf.float32))"
      ],
      "execution_count": null,
      "outputs": []
    },
    {
      "cell_type": "markdown",
      "metadata": {
        "id": "ePdcyFeUxVNu"
      },
      "source": [
        "### Optimizer"
      ]
    },
    {
      "cell_type": "code",
      "metadata": {
        "id": "uAQHksH_xW6h"
      },
      "source": [
        "optimizer = tf.optimizers.SGD(learning_rate)"
      ],
      "execution_count": null,
      "outputs": []
    },
    {
      "cell_type": "code",
      "metadata": {
        "id": "hksbn4Njvvyk"
      },
      "source": [
        "def run_optimization(x, y):\n",
        "  with tf.GradientTape() as tape:\n",
        "    pred = logistic_regression(x)\n",
        "    loss =cross_entropy(pred, y)\n",
        "\n",
        "  gradients = tape.gradient(loss, [W,b])\n",
        "  optimizer.apply_gradients(zip(gradients, [W, b])) # w,b를 zip으로 묶어서 gradients에따라서 W, b가 업데이트 될수있도록 함\n",
        "\n",
        "  \n"
      ],
      "execution_count": null,
      "outputs": []
    },
    {
      "cell_type": "markdown",
      "metadata": {
        "id": "6B0i4_VvzheR"
      },
      "source": [
        "### 학습 진행"
      ]
    },
    {
      "cell_type": "code",
      "metadata": {
        "id": "k1z97_GVwrOV",
        "colab": {
          "base_uri": "https://localhost:8080/"
        },
        "outputId": "f6488981-0382-4b37-8561-d1142106143b"
      },
      "source": [
        "for step, (batch_x, batch_y) in enumerate(train_data.take(training_steps), 1):\n",
        "  run_optimization(batch_x, batch_y)\n",
        "\n",
        "  if step % 50 == 0:\n",
        "    pred = logistic_regression(batch_x)\n",
        "    loss = cross_entropy(pred, batch_y)\n",
        "    acc = accuracy(pred, batch_y)\n",
        "    print('step: {:4d}\\tloss: {:.4f}\\taccuracy: {:4f}'.format(step, loss, acc))"
      ],
      "execution_count": null,
      "outputs": [
        {
          "output_type": "stream",
          "name": "stdout",
          "text": [
            "step:   50\tloss: 6.4168\taccuracy: 0.304688\n",
            "step:  100\tloss: 4.5206\taccuracy: 0.406250\n",
            "step:  150\tloss: 3.1259\taccuracy: 0.535156\n",
            "step:  200\tloss: 1.9861\taccuracy: 0.617188\n",
            "step:  250\tloss: 1.6579\taccuracy: 0.660156\n",
            "step:  300\tloss: 1.9000\taccuracy: 0.660156\n",
            "step:  350\tloss: 1.9503\taccuracy: 0.703125\n",
            "step:  400\tloss: 1.4305\taccuracy: 0.707031\n",
            "step:  450\tloss: 0.9008\taccuracy: 0.781250\n",
            "step:  500\tloss: 1.3282\taccuracy: 0.777344\n",
            "step:  550\tloss: 1.3111\taccuracy: 0.753906\n",
            "step:  600\tloss: 1.0450\taccuracy: 0.792969\n",
            "step:  650\tloss: 1.1720\taccuracy: 0.765625\n",
            "step:  700\tloss: 1.1702\taccuracy: 0.792969\n",
            "step:  750\tloss: 1.5777\taccuracy: 0.687500\n",
            "step:  800\tloss: 1.1907\taccuracy: 0.808594\n",
            "step:  850\tloss: 1.1530\taccuracy: 0.753906\n",
            "step:  900\tloss: 1.0101\taccuracy: 0.792969\n",
            "step:  950\tloss: 0.9179\taccuracy: 0.785156\n",
            "step: 1000\tloss: 1.0487\taccuracy: 0.804688\n"
          ]
        }
      ]
    },
    {
      "cell_type": "markdown",
      "metadata": {
        "id": "RTv-fBSMzj3e"
      },
      "source": [
        "###  테스트"
      ]
    },
    {
      "cell_type": "code",
      "metadata": {
        "id": "MlKYyRnWxbzs",
        "colab": {
          "base_uri": "https://localhost:8080/"
        },
        "outputId": "7a8daead-d71f-4787-dd88-41668431f00b"
      },
      "source": [
        "pred = logistic_regression(x_test)\n",
        "print('Test Accuracy: {}'.format(accuracy(pred, y_test)))"
      ],
      "execution_count": null,
      "outputs": [
        {
          "output_type": "stream",
          "name": "stdout",
          "text": [
            "Test Accuracy: 0.8176000118255615\n"
          ]
        }
      ]
    },
    {
      "cell_type": "markdown",
      "metadata": {
        "id": "NX_R9BP3zkzH"
      },
      "source": [
        "### 시각화"
      ]
    },
    {
      "cell_type": "code",
      "metadata": {
        "id": "Y2sVd13zyh3a",
        "colab": {
          "base_uri": "https://localhost:8080/",
          "height": 212
        },
        "outputId": "30e0821e-3cf5-41c3-d333-1a06080f497b"
      },
      "source": [
        "num_images = 5\n",
        "test_images = x_test[:num_images]\n",
        "predictions = logistic_regression(test_images)\n",
        "print(predictions.shape)\n",
        "plt.figure(figsize = (14, 8))\n",
        "\n",
        "for i in range(1, num_images + 1, 1):\n",
        "  plt.subplot(1, num_images, i)\n",
        "  plt.imshow(np.reshape(test_images[i-1], [28, 28]), cmap = 'gray') # 784를 다시 28 x 28형태로 변환\n",
        "  plt.title('Model prediction: {}'.format(np.argmax(predictions.numpy()[i-1])))\n",
        "\n",
        "plt.show()"
      ],
      "execution_count": null,
      "outputs": [
        {
          "output_type": "stream",
          "name": "stdout",
          "text": [
            "(5, 10)\n"
          ]
        },
        {
          "output_type": "display_data",
          "data": {
            "image/png": "[encoded data removed]",
            "text/plain": [
              "<Figure size 1008x576 with 5 Axes>"
            ]
          },
          "metadata": {}
        }
      ]
    }
  ]
}