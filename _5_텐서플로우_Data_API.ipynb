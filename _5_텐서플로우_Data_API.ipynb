{
  "nbformat": 4,
  "nbformat_minor": 0,
  "metadata": {
    "colab": {
      "name": "_5 텐서플로우 Data API.ipynb",
      "provenance": [],
      "collapsed_sections": [],
      "include_colab_link": true
    },
    "kernelspec": {
      "name": "python3",
      "display_name": "Python 3"
    },
    "widgets": {
      "application/vnd.jupyter.widget-state+json": {
        "de90c60955a043258a81ea1aae9eac7f": {
          "model_module": "@jupyter-widgets/controls",
          "model_name": "HBoxModel",
          "model_module_version": "1.5.0",
          "state": {
            "_view_name": "HBoxView",
            "_dom_classes": [],
            "_model_name": "HBoxModel",
            "_view_module": "@jupyter-widgets/controls",
            "_model_module_version": "1.5.0",
            "_view_count": null,
            "_view_module_version": "1.5.0",
            "box_style": "",
            "layout": "IPY_MODEL_d9a6864d7efc4ff89ec6745c868d5bce",
            "_model_module": "@jupyter-widgets/controls",
            "children": [
              "IPY_MODEL_cdbc9c814b574833bf84b5239f7c2fe1",
              "IPY_MODEL_0d90d41ab55e4f5bb49808f10ac7bcb3",
              "IPY_MODEL_8d0d0190b5b9459fb68cb21daf03b3ad"
            ]
          }
        },
        "d9a6864d7efc4ff89ec6745c868d5bce": {
          "model_module": "@jupyter-widgets/base",
          "model_name": "LayoutModel",
          "model_module_version": "1.2.0",
          "state": {
            "_view_name": "LayoutView",
            "grid_template_rows": null,
            "right": null,
            "justify_content": null,
            "_view_module": "@jupyter-widgets/base",
            "overflow": null,
            "_model_module_version": "1.2.0",
            "_view_count": null,
            "flex_flow": null,
            "width": null,
            "min_width": null,
            "border": null,
            "align_items": null,
            "bottom": null,
            "_model_module": "@jupyter-widgets/base",
            "top": null,
            "grid_column": null,
            "overflow_y": null,
            "overflow_x": null,
            "grid_auto_flow": null,
            "grid_area": null,
            "grid_template_columns": null,
            "flex": null,
            "_model_name": "LayoutModel",
            "justify_items": null,
            "grid_row": null,
            "max_height": null,
            "align_content": null,
            "visibility": null,
            "align_self": null,
            "height": null,
            "min_height": null,
            "padding": null,
            "grid_auto_rows": null,
            "grid_gap": null,
            "max_width": null,
            "order": null,
            "_view_module_version": "1.2.0",
            "grid_template_areas": null,
            "object_position": null,
            "object_fit": null,
            "grid_auto_columns": null,
            "margin": null,
            "display": null,
            "left": null
          }
        },
        "cdbc9c814b574833bf84b5239f7c2fe1": {
          "model_module": "@jupyter-widgets/controls",
          "model_name": "HTMLModel",
          "model_module_version": "1.5.0",
          "state": {
            "_view_name": "HTMLView",
            "style": "IPY_MODEL_01491336a9784203a825f988a4cf86e1",
            "_dom_classes": [],
            "description": "",
            "_model_name": "HTMLModel",
            "placeholder": "​",
            "_view_module": "@jupyter-widgets/controls",
            "_model_module_version": "1.5.0",
            "value": "Dl Completed...: 100%",
            "_view_count": null,
            "_view_module_version": "1.5.0",
            "description_tooltip": null,
            "_model_module": "@jupyter-widgets/controls",
            "layout": "IPY_MODEL_620d3b25bc784743b994df63617c7976"
          }
        },
        "0d90d41ab55e4f5bb49808f10ac7bcb3": {
          "model_module": "@jupyter-widgets/controls",
          "model_name": "FloatProgressModel",
          "model_module_version": "1.5.0",
          "state": {
            "_view_name": "ProgressView",
            "style": "IPY_MODEL_eb2fdb8de3c14fe6ba4af923fe1a52a3",
            "_dom_classes": [],
            "description": "",
            "_model_name": "FloatProgressModel",
            "bar_style": "success",
            "max": 4,
            "_view_module": "@jupyter-widgets/controls",
            "_model_module_version": "1.5.0",
            "value": 4,
            "_view_count": null,
            "_view_module_version": "1.5.0",
            "orientation": "horizontal",
            "min": 0,
            "description_tooltip": null,
            "_model_module": "@jupyter-widgets/controls",
            "layout": "IPY_MODEL_32a1f59c21624b57a149ae80585187a3"
          }
        },
        "8d0d0190b5b9459fb68cb21daf03b3ad": {
          "model_module": "@jupyter-widgets/controls",
          "model_name": "HTMLModel",
          "model_module_version": "1.5.0",
          "state": {
            "_view_name": "HTMLView",
            "style": "IPY_MODEL_7ef54616c99b4e4e9c84f9fcb091c364",
            "_dom_classes": [],
            "description": "",
            "_model_name": "HTMLModel",
            "placeholder": "​",
            "_view_module": "@jupyter-widgets/controls",
            "_model_module_version": "1.5.0",
            "value": " 4/4 [00:01&lt;00:00,  1.79 file/s]",
            "_view_count": null,
            "_view_module_version": "1.5.0",
            "description_tooltip": null,
            "_model_module": "@jupyter-widgets/controls",
            "layout": "IPY_MODEL_53cd94a6c84b4cf18f80a3b8242228db"
          }
        },
        "01491336a9784203a825f988a4cf86e1": {
          "model_module": "@jupyter-widgets/controls",
          "model_name": "DescriptionStyleModel",
          "model_module_version": "1.5.0",
          "state": {
            "_view_name": "StyleView",
            "_model_name": "DescriptionStyleModel",
            "description_width": "",
            "_view_module": "@jupyter-widgets/base",
            "_model_module_version": "1.5.0",
            "_view_count": null,
            "_view_module_version": "1.2.0",
            "_model_module": "@jupyter-widgets/controls"
          }
        },
        "620d3b25bc784743b994df63617c7976": {
          "model_module": "@jupyter-widgets/base",
          "model_name": "LayoutModel",
          "model_module_version": "1.2.0",
          "state": {
            "_view_name": "LayoutView",
            "grid_template_rows": null,
            "right": null,
            "justify_content": null,
            "_view_module": "@jupyter-widgets/base",
            "overflow": null,
            "_model_module_version": "1.2.0",
            "_view_count": null,
            "flex_flow": null,
            "width": null,
            "min_width": null,
            "border": null,
            "align_items": null,
            "bottom": null,
            "_model_module": "@jupyter-widgets/base",
            "top": null,
            "grid_column": null,
            "overflow_y": null,
            "overflow_x": null,
            "grid_auto_flow": null,
            "grid_area": null,
            "grid_template_columns": null,
            "flex": null,
            "_model_name": "LayoutModel",
            "justify_items": null,
            "grid_row": null,
            "max_height": null,
            "align_content": null,
            "visibility": null,
            "align_self": null,
            "height": null,
            "min_height": null,
            "padding": null,
            "grid_auto_rows": null,
            "grid_gap": null,
            "max_width": null,
            "order": null,
            "_view_module_version": "1.2.0",
            "grid_template_areas": null,
            "object_position": null,
            "object_fit": null,
            "grid_auto_columns": null,
            "margin": null,
            "display": null,
            "left": null
          }
        },
        "eb2fdb8de3c14fe6ba4af923fe1a52a3": {
          "model_module": "@jupyter-widgets/controls",
          "model_name": "ProgressStyleModel",
          "model_module_version": "1.5.0",
          "state": {
            "_view_name": "StyleView",
            "_model_name": "ProgressStyleModel",
            "description_width": "",
            "_view_module": "@jupyter-widgets/base",
            "_model_module_version": "1.5.0",
            "_view_count": null,
            "_view_module_version": "1.2.0",
            "bar_color": null,
            "_model_module": "@jupyter-widgets/controls"
          }
        },
        "32a1f59c21624b57a149ae80585187a3": {
          "model_module": "@jupyter-widgets/base",
          "model_name": "LayoutModel",
          "model_module_version": "1.2.0",
          "state": {
            "_view_name": "LayoutView",
            "grid_template_rows": null,
            "right": null,
            "justify_content": null,
            "_view_module": "@jupyter-widgets/base",
            "overflow": null,
            "_model_module_version": "1.2.0",
            "_view_count": null,
            "flex_flow": null,
            "width": null,
            "min_width": null,
            "border": null,
            "align_items": null,
            "bottom": null,
            "_model_module": "@jupyter-widgets/base",
            "top": null,
            "grid_column": null,
            "overflow_y": null,
            "overflow_x": null,
            "grid_auto_flow": null,
            "grid_area": null,
            "grid_template_columns": null,
            "flex": null,
            "_model_name": "LayoutModel",
            "justify_items": null,
            "grid_row": null,
            "max_height": null,
            "align_content": null,
            "visibility": null,
            "align_self": null,
            "height": null,
            "min_height": null,
            "padding": null,
            "grid_auto_rows": null,
            "grid_gap": null,
            "max_width": null,
            "order": null,
            "_view_module_version": "1.2.0",
            "grid_template_areas": null,
            "object_position": null,
            "object_fit": null,
            "grid_auto_columns": null,
            "margin": null,
            "display": null,
            "left": null
          }
        },
        "7ef54616c99b4e4e9c84f9fcb091c364": {
          "model_module": "@jupyter-widgets/controls",
          "model_name": "DescriptionStyleModel",
          "model_module_version": "1.5.0",
          "state": {
            "_view_name": "StyleView",
            "_model_name": "DescriptionStyleModel",
            "description_width": "",
            "_view_module": "@jupyter-widgets/base",
            "_model_module_version": "1.5.0",
            "_view_count": null,
            "_view_module_version": "1.2.0",
            "_model_module": "@jupyter-widgets/controls"
          }
        },
        "53cd94a6c84b4cf18f80a3b8242228db": {
          "model_module": "@jupyter-widgets/base",
          "model_name": "LayoutModel",
          "model_module_version": "1.2.0",
          "state": {
            "_view_name": "LayoutView",
            "grid_template_rows": null,
            "right": null,
            "justify_content": null,
            "_view_module": "@jupyter-widgets/base",
            "overflow": null,
            "_model_module_version": "1.2.0",
            "_view_count": null,
            "flex_flow": null,
            "width": null,
            "min_width": null,
            "border": null,
            "align_items": null,
            "bottom": null,
            "_model_module": "@jupyter-widgets/base",
            "top": null,
            "grid_column": null,
            "overflow_y": null,
            "overflow_x": null,
            "grid_auto_flow": null,
            "grid_area": null,
            "grid_template_columns": null,
            "flex": null,
            "_model_name": "LayoutModel",
            "justify_items": null,
            "grid_row": null,
            "max_height": null,
            "align_content": null,
            "visibility": null,
            "align_self": null,
            "height": null,
            "min_height": null,
            "padding": null,
            "grid_auto_rows": null,
            "grid_gap": null,
            "max_width": null,
            "order": null,
            "_view_module_version": "1.2.0",
            "grid_template_areas": null,
            "object_position": null,
            "object_fit": null,
            "grid_auto_columns": null,
            "margin": null,
            "display": null,
            "left": null
          }
        },
        "0d587b3a963b4a4bb131016aead0c78d": {
          "model_module": "@jupyter-widgets/controls",
          "model_name": "HBoxModel",
          "model_module_version": "1.5.0",
          "state": {
            "_view_name": "HBoxView",
            "_dom_classes": [],
            "_model_name": "HBoxModel",
            "_view_module": "@jupyter-widgets/controls",
            "_model_module_version": "1.5.0",
            "_view_count": null,
            "_view_module_version": "1.5.0",
            "box_style": "",
            "layout": "IPY_MODEL_0aa4d517b82c4afd90679dbdf9900437",
            "_model_module": "@jupyter-widgets/controls",
            "children": [
              "IPY_MODEL_3480bceb449741189abf22d2801c0af0",
              "IPY_MODEL_c78aac0d972f46b69ca71c93a36309f9",
              "IPY_MODEL_2ebab6b412204b5d81220845806417af"
            ]
          }
        },
        "0aa4d517b82c4afd90679dbdf9900437": {
          "model_module": "@jupyter-widgets/base",
          "model_name": "LayoutModel",
          "model_module_version": "1.2.0",
          "state": {
            "_view_name": "LayoutView",
            "grid_template_rows": null,
            "right": null,
            "justify_content": null,
            "_view_module": "@jupyter-widgets/base",
            "overflow": null,
            "_model_module_version": "1.2.0",
            "_view_count": null,
            "flex_flow": null,
            "width": null,
            "min_width": null,
            "border": null,
            "align_items": null,
            "bottom": null,
            "_model_module": "@jupyter-widgets/base",
            "top": null,
            "grid_column": null,
            "overflow_y": null,
            "overflow_x": null,
            "grid_auto_flow": null,
            "grid_area": null,
            "grid_template_columns": null,
            "flex": null,
            "_model_name": "LayoutModel",
            "justify_items": null,
            "grid_row": null,
            "max_height": null,
            "align_content": null,
            "visibility": null,
            "align_self": null,
            "height": null,
            "min_height": null,
            "padding": null,
            "grid_auto_rows": null,
            "grid_gap": null,
            "max_width": null,
            "order": null,
            "_view_module_version": "1.2.0",
            "grid_template_areas": null,
            "object_position": null,
            "object_fit": null,
            "grid_auto_columns": null,
            "margin": null,
            "display": null,
            "left": null
          }
        },
        "3480bceb449741189abf22d2801c0af0": {
          "model_module": "@jupyter-widgets/controls",
          "model_name": "HTMLModel",
          "model_module_version": "1.5.0",
          "state": {
            "_view_name": "HTMLView",
            "style": "IPY_MODEL_6c048f16623e4e9694dcb62006f868eb",
            "_dom_classes": [],
            "description": "",
            "_model_name": "HTMLModel",
            "placeholder": "​",
            "_view_module": "@jupyter-widgets/controls",
            "_model_module_version": "1.5.0",
            "value": "Dl Completed...: 100%",
            "_view_count": null,
            "_view_module_version": "1.5.0",
            "description_tooltip": null,
            "_model_module": "@jupyter-widgets/controls",
            "layout": "IPY_MODEL_53f959ad3d2e4af9b927ec4c62204190"
          }
        },
        "c78aac0d972f46b69ca71c93a36309f9": {
          "model_module": "@jupyter-widgets/controls",
          "model_name": "FloatProgressModel",
          "model_module_version": "1.5.0",
          "state": {
            "_view_name": "ProgressView",
            "style": "IPY_MODEL_2c89115973524ed68a584e265e35f84e",
            "_dom_classes": [],
            "description": "",
            "_model_name": "FloatProgressModel",
            "bar_style": "success",
            "max": 1,
            "_view_module": "@jupyter-widgets/controls",
            "_model_module_version": "1.5.0",
            "value": 1,
            "_view_count": null,
            "_view_module_version": "1.5.0",
            "orientation": "horizontal",
            "min": 0,
            "description_tooltip": null,
            "_model_module": "@jupyter-widgets/controls",
            "layout": "IPY_MODEL_1af5352d46874fd99ea5e0ea9dfd6b55"
          }
        },
        "2ebab6b412204b5d81220845806417af": {
          "model_module": "@jupyter-widgets/controls",
          "model_name": "HTMLModel",
          "model_module_version": "1.5.0",
          "state": {
            "_view_name": "HTMLView",
            "style": "IPY_MODEL_9159c467fe3d473e92b8753e1624d9f6",
            "_dom_classes": [],
            "description": "",
            "_model_name": "HTMLModel",
            "placeholder": "​",
            "_view_module": "@jupyter-widgets/controls",
            "_model_module_version": "1.5.0",
            "value": " 1/1 [00:09&lt;00:00,  9.29s/ url]",
            "_view_count": null,
            "_view_module_version": "1.5.0",
            "description_tooltip": null,
            "_model_module": "@jupyter-widgets/controls",
            "layout": "IPY_MODEL_504913ad3772433ea56579cff5011797"
          }
        },
        "6c048f16623e4e9694dcb62006f868eb": {
          "model_module": "@jupyter-widgets/controls",
          "model_name": "DescriptionStyleModel",
          "model_module_version": "1.5.0",
          "state": {
            "_view_name": "StyleView",
            "_model_name": "DescriptionStyleModel",
            "description_width": "",
            "_view_module": "@jupyter-widgets/base",
            "_model_module_version": "1.5.0",
            "_view_count": null,
            "_view_module_version": "1.2.0",
            "_model_module": "@jupyter-widgets/controls"
          }
        },
        "53f959ad3d2e4af9b927ec4c62204190": {
          "model_module": "@jupyter-widgets/base",
          "model_name": "LayoutModel",
          "model_module_version": "1.2.0",
          "state": {
            "_view_name": "LayoutView",
            "grid_template_rows": null,
            "right": null,
            "justify_content": null,
            "_view_module": "@jupyter-widgets/base",
            "overflow": null,
            "_model_module_version": "1.2.0",
            "_view_count": null,
            "flex_flow": null,
            "width": null,
            "min_width": null,
            "border": null,
            "align_items": null,
            "bottom": null,
            "_model_module": "@jupyter-widgets/base",
            "top": null,
            "grid_column": null,
            "overflow_y": null,
            "overflow_x": null,
            "grid_auto_flow": null,
            "grid_area": null,
            "grid_template_columns": null,
            "flex": null,
            "_model_name": "LayoutModel",
            "justify_items": null,
            "grid_row": null,
            "max_height": null,
            "align_content": null,
            "visibility": null,
            "align_self": null,
            "height": null,
            "min_height": null,
            "padding": null,
            "grid_auto_rows": null,
            "grid_gap": null,
            "max_width": null,
            "order": null,
            "_view_module_version": "1.2.0",
            "grid_template_areas": null,
            "object_position": null,
            "object_fit": null,
            "grid_auto_columns": null,
            "margin": null,
            "display": null,
            "left": null
          }
        },
        "2c89115973524ed68a584e265e35f84e": {
          "model_module": "@jupyter-widgets/controls",
          "model_name": "ProgressStyleModel",
          "model_module_version": "1.5.0",
          "state": {
            "_view_name": "StyleView",
            "_model_name": "ProgressStyleModel",
            "description_width": "",
            "_view_module": "@jupyter-widgets/base",
            "_model_module_version": "1.5.0",
            "_view_count": null,
            "_view_module_version": "1.2.0",
            "bar_color": null,
            "_model_module": "@jupyter-widgets/controls"
          }
        },
        "1af5352d46874fd99ea5e0ea9dfd6b55": {
          "model_module": "@jupyter-widgets/base",
          "model_name": "LayoutModel",
          "model_module_version": "1.2.0",
          "state": {
            "_view_name": "LayoutView",
            "grid_template_rows": null,
            "right": null,
            "justify_content": null,
            "_view_module": "@jupyter-widgets/base",
            "overflow": null,
            "_model_module_version": "1.2.0",
            "_view_count": null,
            "flex_flow": null,
            "width": "20px",
            "min_width": null,
            "border": null,
            "align_items": null,
            "bottom": null,
            "_model_module": "@jupyter-widgets/base",
            "top": null,
            "grid_column": null,
            "overflow_y": null,
            "overflow_x": null,
            "grid_auto_flow": null,
            "grid_area": null,
            "grid_template_columns": null,
            "flex": null,
            "_model_name": "LayoutModel",
            "justify_items": null,
            "grid_row": null,
            "max_height": null,
            "align_content": null,
            "visibility": null,
            "align_self": null,
            "height": null,
            "min_height": null,
            "padding": null,
            "grid_auto_rows": null,
            "grid_gap": null,
            "max_width": null,
            "order": null,
            "_view_module_version": "1.2.0",
            "grid_template_areas": null,
            "object_position": null,
            "object_fit": null,
            "grid_auto_columns": null,
            "margin": null,
            "display": null,
            "left": null
          }
        },
        "9159c467fe3d473e92b8753e1624d9f6": {
          "model_module": "@jupyter-widgets/controls",
          "model_name": "DescriptionStyleModel",
          "model_module_version": "1.5.0",
          "state": {
            "_view_name": "StyleView",
            "_model_name": "DescriptionStyleModel",
            "description_width": "",
            "_view_module": "@jupyter-widgets/base",
            "_model_module_version": "1.5.0",
            "_view_count": null,
            "_view_module_version": "1.2.0",
            "_model_module": "@jupyter-widgets/controls"
          }
        },
        "504913ad3772433ea56579cff5011797": {
          "model_module": "@jupyter-widgets/base",
          "model_name": "LayoutModel",
          "model_module_version": "1.2.0",
          "state": {
            "_view_name": "LayoutView",
            "grid_template_rows": null,
            "right": null,
            "justify_content": null,
            "_view_module": "@jupyter-widgets/base",
            "overflow": null,
            "_model_module_version": "1.2.0",
            "_view_count": null,
            "flex_flow": null,
            "width": null,
            "min_width": null,
            "border": null,
            "align_items": null,
            "bottom": null,
            "_model_module": "@jupyter-widgets/base",
            "top": null,
            "grid_column": null,
            "overflow_y": null,
            "overflow_x": null,
            "grid_auto_flow": null,
            "grid_area": null,
            "grid_template_columns": null,
            "flex": null,
            "_model_name": "LayoutModel",
            "justify_items": null,
            "grid_row": null,
            "max_height": null,
            "align_content": null,
            "visibility": null,
            "align_self": null,
            "height": null,
            "min_height": null,
            "padding": null,
            "grid_auto_rows": null,
            "grid_gap": null,
            "max_width": null,
            "order": null,
            "_view_module_version": "1.2.0",
            "grid_template_areas": null,
            "object_position": null,
            "object_fit": null,
            "grid_auto_columns": null,
            "margin": null,
            "display": null,
            "left": null
          }
        },
        "dcf5163a6da844e5825873221d1a59f7": {
          "model_module": "@jupyter-widgets/controls",
          "model_name": "HBoxModel",
          "model_module_version": "1.5.0",
          "state": {
            "_view_name": "HBoxView",
            "_dom_classes": [],
            "_model_name": "HBoxModel",
            "_view_module": "@jupyter-widgets/controls",
            "_model_module_version": "1.5.0",
            "_view_count": null,
            "_view_module_version": "1.5.0",
            "box_style": "",
            "layout": "IPY_MODEL_dac1cb5b8ff04e1f8e8c54ff8fa11b5f",
            "_model_module": "@jupyter-widgets/controls",
            "children": [
              "IPY_MODEL_9b3e2e292d4b45ed9f14a5d6872ce80f",
              "IPY_MODEL_e70e1f46a9024dbcaea6a0d6a76d59d3",
              "IPY_MODEL_4e1701531b214e5b97a3a640abfbc2e8"
            ]
          }
        },
        "dac1cb5b8ff04e1f8e8c54ff8fa11b5f": {
          "model_module": "@jupyter-widgets/base",
          "model_name": "LayoutModel",
          "model_module_version": "1.2.0",
          "state": {
            "_view_name": "LayoutView",
            "grid_template_rows": null,
            "right": null,
            "justify_content": null,
            "_view_module": "@jupyter-widgets/base",
            "overflow": null,
            "_model_module_version": "1.2.0",
            "_view_count": null,
            "flex_flow": null,
            "width": null,
            "min_width": null,
            "border": null,
            "align_items": null,
            "bottom": null,
            "_model_module": "@jupyter-widgets/base",
            "top": null,
            "grid_column": null,
            "overflow_y": null,
            "overflow_x": null,
            "grid_auto_flow": null,
            "grid_area": null,
            "grid_template_columns": null,
            "flex": null,
            "_model_name": "LayoutModel",
            "justify_items": null,
            "grid_row": null,
            "max_height": null,
            "align_content": null,
            "visibility": null,
            "align_self": null,
            "height": null,
            "min_height": null,
            "padding": null,
            "grid_auto_rows": null,
            "grid_gap": null,
            "max_width": null,
            "order": null,
            "_view_module_version": "1.2.0",
            "grid_template_areas": null,
            "object_position": null,
            "object_fit": null,
            "grid_auto_columns": null,
            "margin": null,
            "display": null,
            "left": null
          }
        },
        "9b3e2e292d4b45ed9f14a5d6872ce80f": {
          "model_module": "@jupyter-widgets/controls",
          "model_name": "HTMLModel",
          "model_module_version": "1.5.0",
          "state": {
            "_view_name": "HTMLView",
            "style": "IPY_MODEL_e3f2187e4cda4646854180955519cfbc",
            "_dom_classes": [],
            "description": "",
            "_model_name": "HTMLModel",
            "placeholder": "​",
            "_view_module": "@jupyter-widgets/controls",
            "_model_module_version": "1.5.0",
            "value": "Dl Size...: 100%",
            "_view_count": null,
            "_view_module_version": "1.5.0",
            "description_tooltip": null,
            "_model_module": "@jupyter-widgets/controls",
            "layout": "IPY_MODEL_0cc0823896534d749454ce0daeb4ea48"
          }
        },
        "e70e1f46a9024dbcaea6a0d6a76d59d3": {
          "model_module": "@jupyter-widgets/controls",
          "model_name": "FloatProgressModel",
          "model_module_version": "1.5.0",
          "state": {
            "_view_name": "ProgressView",
            "style": "IPY_MODEL_cc500c8f33b24555a6ca6bae6557b276",
            "_dom_classes": [],
            "description": "",
            "_model_name": "FloatProgressModel",
            "bar_style": "success",
            "max": 1,
            "_view_module": "@jupyter-widgets/controls",
            "_model_module_version": "1.5.0",
            "value": 1,
            "_view_count": null,
            "_view_module_version": "1.5.0",
            "orientation": "horizontal",
            "min": 0,
            "description_tooltip": null,
            "_model_module": "@jupyter-widgets/controls",
            "layout": "IPY_MODEL_d39676448bb541e38d164eb26c7c9051"
          }
        },
        "4e1701531b214e5b97a3a640abfbc2e8": {
          "model_module": "@jupyter-widgets/controls",
          "model_name": "HTMLModel",
          "model_module_version": "1.5.0",
          "state": {
            "_view_name": "HTMLView",
            "style": "IPY_MODEL_c1ac33c279064e2aba36119d52293782",
            "_dom_classes": [],
            "description": "",
            "_model_name": "HTMLModel",
            "placeholder": "​",
            "_view_module": "@jupyter-widgets/controls",
            "_model_module_version": "1.5.0",
            "value": " 80/80 [00:09&lt;00:00, 18.68 MiB/s]",
            "_view_count": null,
            "_view_module_version": "1.5.0",
            "description_tooltip": null,
            "_model_module": "@jupyter-widgets/controls",
            "layout": "IPY_MODEL_ca00fbda5d704578a8d26b3796fc54f4"
          }
        },
        "e3f2187e4cda4646854180955519cfbc": {
          "model_module": "@jupyter-widgets/controls",
          "model_name": "DescriptionStyleModel",
          "model_module_version": "1.5.0",
          "state": {
            "_view_name": "StyleView",
            "_model_name": "DescriptionStyleModel",
            "description_width": "",
            "_view_module": "@jupyter-widgets/base",
            "_model_module_version": "1.5.0",
            "_view_count": null,
            "_view_module_version": "1.2.0",
            "_model_module": "@jupyter-widgets/controls"
          }
        },
        "0cc0823896534d749454ce0daeb4ea48": {
          "model_module": "@jupyter-widgets/base",
          "model_name": "LayoutModel",
          "model_module_version": "1.2.0",
          "state": {
            "_view_name": "LayoutView",
            "grid_template_rows": null,
            "right": null,
            "justify_content": null,
            "_view_module": "@jupyter-widgets/base",
            "overflow": null,
            "_model_module_version": "1.2.0",
            "_view_count": null,
            "flex_flow": null,
            "width": null,
            "min_width": null,
            "border": null,
            "align_items": null,
            "bottom": null,
            "_model_module": "@jupyter-widgets/base",
            "top": null,
            "grid_column": null,
            "overflow_y": null,
            "overflow_x": null,
            "grid_auto_flow": null,
            "grid_area": null,
            "grid_template_columns": null,
            "flex": null,
            "_model_name": "LayoutModel",
            "justify_items": null,
            "grid_row": null,
            "max_height": null,
            "align_content": null,
            "visibility": null,
            "align_self": null,
            "height": null,
            "min_height": null,
            "padding": null,
            "grid_auto_rows": null,
            "grid_gap": null,
            "max_width": null,
            "order": null,
            "_view_module_version": "1.2.0",
            "grid_template_areas": null,
            "object_position": null,
            "object_fit": null,
            "grid_auto_columns": null,
            "margin": null,
            "display": null,
            "left": null
          }
        },
        "cc500c8f33b24555a6ca6bae6557b276": {
          "model_module": "@jupyter-widgets/controls",
          "model_name": "ProgressStyleModel",
          "model_module_version": "1.5.0",
          "state": {
            "_view_name": "StyleView",
            "_model_name": "ProgressStyleModel",
            "description_width": "",
            "_view_module": "@jupyter-widgets/base",
            "_model_module_version": "1.5.0",
            "_view_count": null,
            "_view_module_version": "1.2.0",
            "bar_color": null,
            "_model_module": "@jupyter-widgets/controls"
          }
        },
        "d39676448bb541e38d164eb26c7c9051": {
          "model_module": "@jupyter-widgets/base",
          "model_name": "LayoutModel",
          "model_module_version": "1.2.0",
          "state": {
            "_view_name": "LayoutView",
            "grid_template_rows": null,
            "right": null,
            "justify_content": null,
            "_view_module": "@jupyter-widgets/base",
            "overflow": null,
            "_model_module_version": "1.2.0",
            "_view_count": null,
            "flex_flow": null,
            "width": "20px",
            "min_width": null,
            "border": null,
            "align_items": null,
            "bottom": null,
            "_model_module": "@jupyter-widgets/base",
            "top": null,
            "grid_column": null,
            "overflow_y": null,
            "overflow_x": null,
            "grid_auto_flow": null,
            "grid_area": null,
            "grid_template_columns": null,
            "flex": null,
            "_model_name": "LayoutModel",
            "justify_items": null,
            "grid_row": null,
            "max_height": null,
            "align_content": null,
            "visibility": null,
            "align_self": null,
            "height": null,
            "min_height": null,
            "padding": null,
            "grid_auto_rows": null,
            "grid_gap": null,
            "max_width": null,
            "order": null,
            "_view_module_version": "1.2.0",
            "grid_template_areas": null,
            "object_position": null,
            "object_fit": null,
            "grid_auto_columns": null,
            "margin": null,
            "display": null,
            "left": null
          }
        },
        "c1ac33c279064e2aba36119d52293782": {
          "model_module": "@jupyter-widgets/controls",
          "model_name": "DescriptionStyleModel",
          "model_module_version": "1.5.0",
          "state": {
            "_view_name": "StyleView",
            "_model_name": "DescriptionStyleModel",
            "description_width": "",
            "_view_module": "@jupyter-widgets/base",
            "_model_module_version": "1.5.0",
            "_view_count": null,
            "_view_module_version": "1.2.0",
            "_model_module": "@jupyter-widgets/controls"
          }
        },
        "ca00fbda5d704578a8d26b3796fc54f4": {
          "model_module": "@jupyter-widgets/base",
          "model_name": "LayoutModel",
          "model_module_version": "1.2.0",
          "state": {
            "_view_name": "LayoutView",
            "grid_template_rows": null,
            "right": null,
            "justify_content": null,
            "_view_module": "@jupyter-widgets/base",
            "overflow": null,
            "_model_module_version": "1.2.0",
            "_view_count": null,
            "flex_flow": null,
            "width": null,
            "min_width": null,
            "border": null,
            "align_items": null,
            "bottom": null,
            "_model_module": "@jupyter-widgets/base",
            "top": null,
            "grid_column": null,
            "overflow_y": null,
            "overflow_x": null,
            "grid_auto_flow": null,
            "grid_area": null,
            "grid_template_columns": null,
            "flex": null,
            "_model_name": "LayoutModel",
            "justify_items": null,
            "grid_row": null,
            "max_height": null,
            "align_content": null,
            "visibility": null,
            "align_self": null,
            "height": null,
            "min_height": null,
            "padding": null,
            "grid_auto_rows": null,
            "grid_gap": null,
            "max_width": null,
            "order": null,
            "_view_module_version": "1.2.0",
            "grid_template_areas": null,
            "object_position": null,
            "object_fit": null,
            "grid_auto_columns": null,
            "margin": null,
            "display": null,
            "left": null
          }
        },
        "0ff1e5e5c1624a4cb0f5dad653d9e283": {
          "model_module": "@jupyter-widgets/controls",
          "model_name": "HBoxModel",
          "model_module_version": "1.5.0",
          "state": {
            "_view_name": "HBoxView",
            "_dom_classes": [],
            "_model_name": "HBoxModel",
            "_view_module": "@jupyter-widgets/controls",
            "_model_module_version": "1.5.0",
            "_view_count": null,
            "_view_module_version": "1.5.0",
            "box_style": "",
            "layout": "IPY_MODEL_ad34a145e79a40c282688f67733cfb35",
            "_model_module": "@jupyter-widgets/controls",
            "children": [
              "IPY_MODEL_a7d1e07d69d24520adac2a64d5d57fe6",
              "IPY_MODEL_e3a11872a5fa48f9af9c5e8079605575",
              "IPY_MODEL_6679c67159514c32bd81748eaa5c7acb"
            ]
          }
        },
        "ad34a145e79a40c282688f67733cfb35": {
          "model_module": "@jupyter-widgets/base",
          "model_name": "LayoutModel",
          "model_module_version": "1.2.0",
          "state": {
            "_view_name": "LayoutView",
            "grid_template_rows": null,
            "right": null,
            "justify_content": null,
            "_view_module": "@jupyter-widgets/base",
            "overflow": null,
            "_model_module_version": "1.2.0",
            "_view_count": null,
            "flex_flow": null,
            "width": null,
            "min_width": null,
            "border": null,
            "align_items": null,
            "bottom": null,
            "_model_module": "@jupyter-widgets/base",
            "top": null,
            "grid_column": null,
            "overflow_y": null,
            "overflow_x": null,
            "grid_auto_flow": null,
            "grid_area": null,
            "grid_template_columns": null,
            "flex": null,
            "_model_name": "LayoutModel",
            "justify_items": null,
            "grid_row": null,
            "max_height": null,
            "align_content": null,
            "visibility": null,
            "align_self": null,
            "height": null,
            "min_height": null,
            "padding": null,
            "grid_auto_rows": null,
            "grid_gap": null,
            "max_width": null,
            "order": null,
            "_view_module_version": "1.2.0",
            "grid_template_areas": null,
            "object_position": null,
            "object_fit": null,
            "grid_auto_columns": null,
            "margin": null,
            "display": null,
            "left": null
          }
        },
        "a7d1e07d69d24520adac2a64d5d57fe6": {
          "model_module": "@jupyter-widgets/controls",
          "model_name": "HTMLModel",
          "model_module_version": "1.5.0",
          "state": {
            "_view_name": "HTMLView",
            "style": "IPY_MODEL_c7db08b8b31e489c95dcd005e572afbc",
            "_dom_classes": [],
            "description": "",
            "_model_name": "HTMLModel",
            "placeholder": "​",
            "_view_module": "@jupyter-widgets/controls",
            "_model_module_version": "1.5.0",
            "value": "",
            "_view_count": null,
            "_view_module_version": "1.5.0",
            "description_tooltip": null,
            "_model_module": "@jupyter-widgets/controls",
            "layout": "IPY_MODEL_02d55f31627949cdafcd641271214b33"
          }
        },
        "e3a11872a5fa48f9af9c5e8079605575": {
          "model_module": "@jupyter-widgets/controls",
          "model_name": "FloatProgressModel",
          "model_module_version": "1.5.0",
          "state": {
            "_view_name": "ProgressView",
            "style": "IPY_MODEL_e5564c07897d487b9e169242f0c6c3af",
            "_dom_classes": [],
            "description": "",
            "_model_name": "FloatProgressModel",
            "bar_style": "info",
            "max": 1,
            "_view_module": "@jupyter-widgets/controls",
            "_model_module_version": "1.5.0",
            "value": 1,
            "_view_count": null,
            "_view_module_version": "1.5.0",
            "orientation": "horizontal",
            "min": 0,
            "description_tooltip": null,
            "_model_module": "@jupyter-widgets/controls",
            "layout": "IPY_MODEL_e74b24480db94e369ea60886278f08dc"
          }
        },
        "6679c67159514c32bd81748eaa5c7acb": {
          "model_module": "@jupyter-widgets/controls",
          "model_name": "HTMLModel",
          "model_module_version": "1.5.0",
          "state": {
            "_view_name": "HTMLView",
            "style": "IPY_MODEL_1448dc9455e64b0e864992bc1c950fe3",
            "_dom_classes": [],
            "description": "",
            "_model_name": "HTMLModel",
            "placeholder": "​",
            "_view_module": "@jupyter-widgets/controls",
            "_model_module_version": "1.5.0",
            "value": " 24608/0 [00:08&lt;00:00, 4054.71 examples/s]",
            "_view_count": null,
            "_view_module_version": "1.5.0",
            "description_tooltip": null,
            "_model_module": "@jupyter-widgets/controls",
            "layout": "IPY_MODEL_5b2ed03794ae420fb845a466e2bed0ce"
          }
        },
        "c7db08b8b31e489c95dcd005e572afbc": {
          "model_module": "@jupyter-widgets/controls",
          "model_name": "DescriptionStyleModel",
          "model_module_version": "1.5.0",
          "state": {
            "_view_name": "StyleView",
            "_model_name": "DescriptionStyleModel",
            "description_width": "",
            "_view_module": "@jupyter-widgets/base",
            "_model_module_version": "1.5.0",
            "_view_count": null,
            "_view_module_version": "1.2.0",
            "_model_module": "@jupyter-widgets/controls"
          }
        },
        "02d55f31627949cdafcd641271214b33": {
          "model_module": "@jupyter-widgets/base",
          "model_name": "LayoutModel",
          "model_module_version": "1.2.0",
          "state": {
            "_view_name": "LayoutView",
            "grid_template_rows": null,
            "right": null,
            "justify_content": null,
            "_view_module": "@jupyter-widgets/base",
            "overflow": null,
            "_model_module_version": "1.2.0",
            "_view_count": null,
            "flex_flow": null,
            "width": null,
            "min_width": null,
            "border": null,
            "align_items": null,
            "bottom": null,
            "_model_module": "@jupyter-widgets/base",
            "top": null,
            "grid_column": null,
            "overflow_y": null,
            "overflow_x": null,
            "grid_auto_flow": null,
            "grid_area": null,
            "grid_template_columns": null,
            "flex": null,
            "_model_name": "LayoutModel",
            "justify_items": null,
            "grid_row": null,
            "max_height": null,
            "align_content": null,
            "visibility": null,
            "align_self": null,
            "height": null,
            "min_height": null,
            "padding": null,
            "grid_auto_rows": null,
            "grid_gap": null,
            "max_width": null,
            "order": null,
            "_view_module_version": "1.2.0",
            "grid_template_areas": null,
            "object_position": null,
            "object_fit": null,
            "grid_auto_columns": null,
            "margin": null,
            "display": null,
            "left": null
          }
        },
        "e5564c07897d487b9e169242f0c6c3af": {
          "model_module": "@jupyter-widgets/controls",
          "model_name": "ProgressStyleModel",
          "model_module_version": "1.5.0",
          "state": {
            "_view_name": "StyleView",
            "_model_name": "ProgressStyleModel",
            "description_width": "",
            "_view_module": "@jupyter-widgets/base",
            "_model_module_version": "1.5.0",
            "_view_count": null,
            "_view_module_version": "1.2.0",
            "bar_color": null,
            "_model_module": "@jupyter-widgets/controls"
          }
        },
        "e74b24480db94e369ea60886278f08dc": {
          "model_module": "@jupyter-widgets/base",
          "model_name": "LayoutModel",
          "model_module_version": "1.2.0",
          "state": {
            "_view_name": "LayoutView",
            "grid_template_rows": null,
            "right": null,
            "justify_content": null,
            "_view_module": "@jupyter-widgets/base",
            "overflow": null,
            "_model_module_version": "1.2.0",
            "_view_count": null,
            "flex_flow": null,
            "width": "20px",
            "min_width": null,
            "border": null,
            "align_items": null,
            "bottom": null,
            "_model_module": "@jupyter-widgets/base",
            "top": null,
            "grid_column": null,
            "overflow_y": null,
            "overflow_x": null,
            "grid_auto_flow": null,
            "grid_area": null,
            "grid_template_columns": null,
            "flex": null,
            "_model_name": "LayoutModel",
            "justify_items": null,
            "grid_row": null,
            "max_height": null,
            "align_content": null,
            "visibility": null,
            "align_self": null,
            "height": null,
            "min_height": null,
            "padding": null,
            "grid_auto_rows": null,
            "grid_gap": null,
            "max_width": null,
            "order": null,
            "_view_module_version": "1.2.0",
            "grid_template_areas": null,
            "object_position": null,
            "object_fit": null,
            "grid_auto_columns": null,
            "margin": null,
            "display": null,
            "left": null
          }
        },
        "1448dc9455e64b0e864992bc1c950fe3": {
          "model_module": "@jupyter-widgets/controls",
          "model_name": "DescriptionStyleModel",
          "model_module_version": "1.5.0",
          "state": {
            "_view_name": "StyleView",
            "_model_name": "DescriptionStyleModel",
            "description_width": "",
            "_view_module": "@jupyter-widgets/base",
            "_model_module_version": "1.5.0",
            "_view_count": null,
            "_view_module_version": "1.2.0",
            "_model_module": "@jupyter-widgets/controls"
          }
        },
        "5b2ed03794ae420fb845a466e2bed0ce": {
          "model_module": "@jupyter-widgets/base",
          "model_name": "LayoutModel",
          "model_module_version": "1.2.0",
          "state": {
            "_view_name": "LayoutView",
            "grid_template_rows": null,
            "right": null,
            "justify_content": null,
            "_view_module": "@jupyter-widgets/base",
            "overflow": null,
            "_model_module_version": "1.2.0",
            "_view_count": null,
            "flex_flow": null,
            "width": null,
            "min_width": null,
            "border": null,
            "align_items": null,
            "bottom": null,
            "_model_module": "@jupyter-widgets/base",
            "top": null,
            "grid_column": null,
            "overflow_y": null,
            "overflow_x": null,
            "grid_auto_flow": null,
            "grid_area": null,
            "grid_template_columns": null,
            "flex": null,
            "_model_name": "LayoutModel",
            "justify_items": null,
            "grid_row": null,
            "max_height": null,
            "align_content": null,
            "visibility": null,
            "align_self": null,
            "height": null,
            "min_height": null,
            "padding": null,
            "grid_auto_rows": null,
            "grid_gap": null,
            "max_width": null,
            "order": null,
            "_view_module_version": "1.2.0",
            "grid_template_areas": null,
            "object_position": null,
            "object_fit": null,
            "grid_auto_columns": null,
            "margin": null,
            "display": null,
            "left": null
          }
        },
        "937f61c440854e39baa6e5544e7bfaed": {
          "model_module": "@jupyter-widgets/controls",
          "model_name": "HBoxModel",
          "model_module_version": "1.5.0",
          "state": {
            "_view_name": "HBoxView",
            "_dom_classes": [],
            "_model_name": "HBoxModel",
            "_view_module": "@jupyter-widgets/controls",
            "_model_module_version": "1.5.0",
            "_view_count": null,
            "_view_module_version": "1.5.0",
            "box_style": "",
            "layout": "IPY_MODEL_6333cde839a6487f9e7f13b1aa97d28b",
            "_model_module": "@jupyter-widgets/controls",
            "children": [
              "IPY_MODEL_6e1b5fd685594d6ab0b26fa7bfd428b4",
              "IPY_MODEL_0431edc7323a406c9378d6abfbad1c52",
              "IPY_MODEL_3c7097ca8b7541149c9d280a83352342"
            ]
          }
        },
        "6333cde839a6487f9e7f13b1aa97d28b": {
          "model_module": "@jupyter-widgets/base",
          "model_name": "LayoutModel",
          "model_module_version": "1.2.0",
          "state": {
            "_view_name": "LayoutView",
            "grid_template_rows": null,
            "right": null,
            "justify_content": null,
            "_view_module": "@jupyter-widgets/base",
            "overflow": null,
            "_model_module_version": "1.2.0",
            "_view_count": null,
            "flex_flow": null,
            "width": null,
            "min_width": null,
            "border": null,
            "align_items": null,
            "bottom": null,
            "_model_module": "@jupyter-widgets/base",
            "top": null,
            "grid_column": null,
            "overflow_y": null,
            "overflow_x": null,
            "grid_auto_flow": null,
            "grid_area": null,
            "grid_template_columns": null,
            "flex": null,
            "_model_name": "LayoutModel",
            "justify_items": null,
            "grid_row": null,
            "max_height": null,
            "align_content": null,
            "visibility": null,
            "align_self": null,
            "height": null,
            "min_height": null,
            "padding": null,
            "grid_auto_rows": null,
            "grid_gap": null,
            "max_width": null,
            "order": null,
            "_view_module_version": "1.2.0",
            "grid_template_areas": null,
            "object_position": null,
            "object_fit": null,
            "grid_auto_columns": null,
            "margin": null,
            "display": null,
            "left": null
          }
        },
        "6e1b5fd685594d6ab0b26fa7bfd428b4": {
          "model_module": "@jupyter-widgets/controls",
          "model_name": "HTMLModel",
          "model_module_version": "1.5.0",
          "state": {
            "_view_name": "HTMLView",
            "style": "IPY_MODEL_12190218b81348c48dd67ca89edaee35",
            "_dom_classes": [],
            "description": "",
            "_model_name": "HTMLModel",
            "placeholder": "​",
            "_view_module": "@jupyter-widgets/controls",
            "_model_module_version": "1.5.0",
            "value": "100%",
            "_view_count": null,
            "_view_module_version": "1.5.0",
            "description_tooltip": null,
            "_model_module": "@jupyter-widgets/controls",
            "layout": "IPY_MODEL_9579142ae6f043f0b47107c271da9cbc"
          }
        },
        "0431edc7323a406c9378d6abfbad1c52": {
          "model_module": "@jupyter-widgets/controls",
          "model_name": "FloatProgressModel",
          "model_module_version": "1.5.0",
          "state": {
            "_view_name": "ProgressView",
            "style": "IPY_MODEL_c2c2e73cba2046a5b29af694cf80e695",
            "_dom_classes": [],
            "description": "",
            "_model_name": "FloatProgressModel",
            "bar_style": "danger",
            "max": 25000,
            "_view_module": "@jupyter-widgets/controls",
            "_model_module_version": "1.5.0",
            "value": 24999,
            "_view_count": null,
            "_view_module_version": "1.5.0",
            "orientation": "horizontal",
            "min": 0,
            "description_tooltip": null,
            "_model_module": "@jupyter-widgets/controls",
            "layout": "IPY_MODEL_0983681f09384e97b422f427f8f8bfa0"
          }
        },
        "3c7097ca8b7541149c9d280a83352342": {
          "model_module": "@jupyter-widgets/controls",
          "model_name": "HTMLModel",
          "model_module_version": "1.5.0",
          "state": {
            "_view_name": "HTMLView",
            "style": "IPY_MODEL_c491f5a0cdfd4e5c811d40016adb8876",
            "_dom_classes": [],
            "description": "",
            "_model_name": "HTMLModel",
            "placeholder": "​",
            "_view_module": "@jupyter-widgets/controls",
            "_model_module_version": "1.5.0",
            "value": " 24999/25000 [00:00&lt;00:00, 112053.28 examples/s]",
            "_view_count": null,
            "_view_module_version": "1.5.0",
            "description_tooltip": null,
            "_model_module": "@jupyter-widgets/controls",
            "layout": "IPY_MODEL_c8486e0bae1c49cf894687e239e713ae"
          }
        },
        "12190218b81348c48dd67ca89edaee35": {
          "model_module": "@jupyter-widgets/controls",
          "model_name": "DescriptionStyleModel",
          "model_module_version": "1.5.0",
          "state": {
            "_view_name": "StyleView",
            "_model_name": "DescriptionStyleModel",
            "description_width": "",
            "_view_module": "@jupyter-widgets/base",
            "_model_module_version": "1.5.0",
            "_view_count": null,
            "_view_module_version": "1.2.0",
            "_model_module": "@jupyter-widgets/controls"
          }
        },
        "9579142ae6f043f0b47107c271da9cbc": {
          "model_module": "@jupyter-widgets/base",
          "model_name": "LayoutModel",
          "model_module_version": "1.2.0",
          "state": {
            "_view_name": "LayoutView",
            "grid_template_rows": null,
            "right": null,
            "justify_content": null,
            "_view_module": "@jupyter-widgets/base",
            "overflow": null,
            "_model_module_version": "1.2.0",
            "_view_count": null,
            "flex_flow": null,
            "width": null,
            "min_width": null,
            "border": null,
            "align_items": null,
            "bottom": null,
            "_model_module": "@jupyter-widgets/base",
            "top": null,
            "grid_column": null,
            "overflow_y": null,
            "overflow_x": null,
            "grid_auto_flow": null,
            "grid_area": null,
            "grid_template_columns": null,
            "flex": null,
            "_model_name": "LayoutModel",
            "justify_items": null,
            "grid_row": null,
            "max_height": null,
            "align_content": null,
            "visibility": null,
            "align_self": null,
            "height": null,
            "min_height": null,
            "padding": null,
            "grid_auto_rows": null,
            "grid_gap": null,
            "max_width": null,
            "order": null,
            "_view_module_version": "1.2.0",
            "grid_template_areas": null,
            "object_position": null,
            "object_fit": null,
            "grid_auto_columns": null,
            "margin": null,
            "display": null,
            "left": null
          }
        },
        "c2c2e73cba2046a5b29af694cf80e695": {
          "model_module": "@jupyter-widgets/controls",
          "model_name": "ProgressStyleModel",
          "model_module_version": "1.5.0",
          "state": {
            "_view_name": "StyleView",
            "_model_name": "ProgressStyleModel",
            "description_width": "",
            "_view_module": "@jupyter-widgets/base",
            "_model_module_version": "1.5.0",
            "_view_count": null,
            "_view_module_version": "1.2.0",
            "bar_color": null,
            "_model_module": "@jupyter-widgets/controls"
          }
        },
        "0983681f09384e97b422f427f8f8bfa0": {
          "model_module": "@jupyter-widgets/base",
          "model_name": "LayoutModel",
          "model_module_version": "1.2.0",
          "state": {
            "_view_name": "LayoutView",
            "grid_template_rows": null,
            "right": null,
            "justify_content": null,
            "_view_module": "@jupyter-widgets/base",
            "overflow": null,
            "_model_module_version": "1.2.0",
            "_view_count": null,
            "flex_flow": null,
            "width": null,
            "min_width": null,
            "border": null,
            "align_items": null,
            "bottom": null,
            "_model_module": "@jupyter-widgets/base",
            "top": null,
            "grid_column": null,
            "overflow_y": null,
            "overflow_x": null,
            "grid_auto_flow": null,
            "grid_area": null,
            "grid_template_columns": null,
            "flex": null,
            "_model_name": "LayoutModel",
            "justify_items": null,
            "grid_row": null,
            "max_height": null,
            "align_content": null,
            "visibility": null,
            "align_self": null,
            "height": null,
            "min_height": null,
            "padding": null,
            "grid_auto_rows": null,
            "grid_gap": null,
            "max_width": null,
            "order": null,
            "_view_module_version": "1.2.0",
            "grid_template_areas": null,
            "object_position": null,
            "object_fit": null,
            "grid_auto_columns": null,
            "margin": null,
            "display": null,
            "left": null
          }
        },
        "c491f5a0cdfd4e5c811d40016adb8876": {
          "model_module": "@jupyter-widgets/controls",
          "model_name": "DescriptionStyleModel",
          "model_module_version": "1.5.0",
          "state": {
            "_view_name": "StyleView",
            "_model_name": "DescriptionStyleModel",
            "description_width": "",
            "_view_module": "@jupyter-widgets/base",
            "_model_module_version": "1.5.0",
            "_view_count": null,
            "_view_module_version": "1.2.0",
            "_model_module": "@jupyter-widgets/controls"
          }
        },
        "c8486e0bae1c49cf894687e239e713ae": {
          "model_module": "@jupyter-widgets/base",
          "model_name": "LayoutModel",
          "model_module_version": "1.2.0",
          "state": {
            "_view_name": "LayoutView",
            "grid_template_rows": null,
            "right": null,
            "justify_content": null,
            "_view_module": "@jupyter-widgets/base",
            "overflow": null,
            "_model_module_version": "1.2.0",
            "_view_count": null,
            "flex_flow": null,
            "width": null,
            "min_width": null,
            "border": null,
            "align_items": null,
            "bottom": null,
            "_model_module": "@jupyter-widgets/base",
            "top": null,
            "grid_column": null,
            "overflow_y": null,
            "overflow_x": null,
            "grid_auto_flow": null,
            "grid_area": null,
            "grid_template_columns": null,
            "flex": null,
            "_model_name": "LayoutModel",
            "justify_items": null,
            "grid_row": null,
            "max_height": null,
            "align_content": null,
            "visibility": null,
            "align_self": null,
            "height": null,
            "min_height": null,
            "padding": null,
            "grid_auto_rows": null,
            "grid_gap": null,
            "max_width": null,
            "order": null,
            "_view_module_version": "1.2.0",
            "grid_template_areas": null,
            "object_position": null,
            "object_fit": null,
            "grid_auto_columns": null,
            "margin": null,
            "display": null,
            "left": null
          }
        },
        "1993ab4ac02b4015b7f4182592824388": {
          "model_module": "@jupyter-widgets/controls",
          "model_name": "HBoxModel",
          "model_module_version": "1.5.0",
          "state": {
            "_view_name": "HBoxView",
            "_dom_classes": [],
            "_model_name": "HBoxModel",
            "_view_module": "@jupyter-widgets/controls",
            "_model_module_version": "1.5.0",
            "_view_count": null,
            "_view_module_version": "1.5.0",
            "box_style": "",
            "layout": "IPY_MODEL_cc6a8b6aaf134ba5bfa4ff4292b07156",
            "_model_module": "@jupyter-widgets/controls",
            "children": [
              "IPY_MODEL_e5094a0e0c434638b63a897ea0f6e310",
              "IPY_MODEL_bda18f1005014268858c42b25ddfad7c",
              "IPY_MODEL_4455cdabc7814768abbd781e42752238"
            ]
          }
        },
        "cc6a8b6aaf134ba5bfa4ff4292b07156": {
          "model_module": "@jupyter-widgets/base",
          "model_name": "LayoutModel",
          "model_module_version": "1.2.0",
          "state": {
            "_view_name": "LayoutView",
            "grid_template_rows": null,
            "right": null,
            "justify_content": null,
            "_view_module": "@jupyter-widgets/base",
            "overflow": null,
            "_model_module_version": "1.2.0",
            "_view_count": null,
            "flex_flow": null,
            "width": null,
            "min_width": null,
            "border": null,
            "align_items": null,
            "bottom": null,
            "_model_module": "@jupyter-widgets/base",
            "top": null,
            "grid_column": null,
            "overflow_y": null,
            "overflow_x": null,
            "grid_auto_flow": null,
            "grid_area": null,
            "grid_template_columns": null,
            "flex": null,
            "_model_name": "LayoutModel",
            "justify_items": null,
            "grid_row": null,
            "max_height": null,
            "align_content": null,
            "visibility": null,
            "align_self": null,
            "height": null,
            "min_height": null,
            "padding": null,
            "grid_auto_rows": null,
            "grid_gap": null,
            "max_width": null,
            "order": null,
            "_view_module_version": "1.2.0",
            "grid_template_areas": null,
            "object_position": null,
            "object_fit": null,
            "grid_auto_columns": null,
            "margin": null,
            "display": null,
            "left": null
          }
        },
        "e5094a0e0c434638b63a897ea0f6e310": {
          "model_module": "@jupyter-widgets/controls",
          "model_name": "HTMLModel",
          "model_module_version": "1.5.0",
          "state": {
            "_view_name": "HTMLView",
            "style": "IPY_MODEL_972af69fe5b34a7c9849639d7c8d0654",
            "_dom_classes": [],
            "description": "",
            "_model_name": "HTMLModel",
            "placeholder": "​",
            "_view_module": "@jupyter-widgets/controls",
            "_model_module_version": "1.5.0",
            "value": "",
            "_view_count": null,
            "_view_module_version": "1.5.0",
            "description_tooltip": null,
            "_model_module": "@jupyter-widgets/controls",
            "layout": "IPY_MODEL_20af1e79763b4bad9b0161a8b1243ae7"
          }
        },
        "bda18f1005014268858c42b25ddfad7c": {
          "model_module": "@jupyter-widgets/controls",
          "model_name": "FloatProgressModel",
          "model_module_version": "1.5.0",
          "state": {
            "_view_name": "ProgressView",
            "style": "IPY_MODEL_d2c3ac398bf247a4b842b86bf4ea15c8",
            "_dom_classes": [],
            "description": "",
            "_model_name": "FloatProgressModel",
            "bar_style": "info",
            "max": 1,
            "_view_module": "@jupyter-widgets/controls",
            "_model_module_version": "1.5.0",
            "value": 1,
            "_view_count": null,
            "_view_module_version": "1.5.0",
            "orientation": "horizontal",
            "min": 0,
            "description_tooltip": null,
            "_model_module": "@jupyter-widgets/controls",
            "layout": "IPY_MODEL_4ab9ed133f7441b09cb393a61ad5325d"
          }
        },
        "4455cdabc7814768abbd781e42752238": {
          "model_module": "@jupyter-widgets/controls",
          "model_name": "HTMLModel",
          "model_module_version": "1.5.0",
          "state": {
            "_view_name": "HTMLView",
            "style": "IPY_MODEL_838e76366fd748878e014260da93e86c",
            "_dom_classes": [],
            "description": "",
            "_model_name": "HTMLModel",
            "placeholder": "​",
            "_view_module": "@jupyter-widgets/controls",
            "_model_module_version": "1.5.0",
            "value": " 24712/0 [00:07&lt;00:00, 3926.99 examples/s]",
            "_view_count": null,
            "_view_module_version": "1.5.0",
            "description_tooltip": null,
            "_model_module": "@jupyter-widgets/controls",
            "layout": "IPY_MODEL_ad5f093940fb4fda8e899ff07d4e1219"
          }
        },
        "972af69fe5b34a7c9849639d7c8d0654": {
          "model_module": "@jupyter-widgets/controls",
          "model_name": "DescriptionStyleModel",
          "model_module_version": "1.5.0",
          "state": {
            "_view_name": "StyleView",
            "_model_name": "DescriptionStyleModel",
            "description_width": "",
            "_view_module": "@jupyter-widgets/base",
            "_model_module_version": "1.5.0",
            "_view_count": null,
            "_view_module_version": "1.2.0",
            "_model_module": "@jupyter-widgets/controls"
          }
        },
        "20af1e79763b4bad9b0161a8b1243ae7": {
          "model_module": "@jupyter-widgets/base",
          "model_name": "LayoutModel",
          "model_module_version": "1.2.0",
          "state": {
            "_view_name": "LayoutView",
            "grid_template_rows": null,
            "right": null,
            "justify_content": null,
            "_view_module": "@jupyter-widgets/base",
            "overflow": null,
            "_model_module_version": "1.2.0",
            "_view_count": null,
            "flex_flow": null,
            "width": null,
            "min_width": null,
            "border": null,
            "align_items": null,
            "bottom": null,
            "_model_module": "@jupyter-widgets/base",
            "top": null,
            "grid_column": null,
            "overflow_y": null,
            "overflow_x": null,
            "grid_auto_flow": null,
            "grid_area": null,
            "grid_template_columns": null,
            "flex": null,
            "_model_name": "LayoutModel",
            "justify_items": null,
            "grid_row": null,
            "max_height": null,
            "align_content": null,
            "visibility": null,
            "align_self": null,
            "height": null,
            "min_height": null,
            "padding": null,
            "grid_auto_rows": null,
            "grid_gap": null,
            "max_width": null,
            "order": null,
            "_view_module_version": "1.2.0",
            "grid_template_areas": null,
            "object_position": null,
            "object_fit": null,
            "grid_auto_columns": null,
            "margin": null,
            "display": null,
            "left": null
          }
        },
        "d2c3ac398bf247a4b842b86bf4ea15c8": {
          "model_module": "@jupyter-widgets/controls",
          "model_name": "ProgressStyleModel",
          "model_module_version": "1.5.0",
          "state": {
            "_view_name": "StyleView",
            "_model_name": "ProgressStyleModel",
            "description_width": "",
            "_view_module": "@jupyter-widgets/base",
            "_model_module_version": "1.5.0",
            "_view_count": null,
            "_view_module_version": "1.2.0",
            "bar_color": null,
            "_model_module": "@jupyter-widgets/controls"
          }
        },
        "4ab9ed133f7441b09cb393a61ad5325d": {
          "model_module": "@jupyter-widgets/base",
          "model_name": "LayoutModel",
          "model_module_version": "1.2.0",
          "state": {
            "_view_name": "LayoutView",
            "grid_template_rows": null,
            "right": null,
            "justify_content": null,
            "_view_module": "@jupyter-widgets/base",
            "overflow": null,
            "_model_module_version": "1.2.0",
            "_view_count": null,
            "flex_flow": null,
            "width": "20px",
            "min_width": null,
            "border": null,
            "align_items": null,
            "bottom": null,
            "_model_module": "@jupyter-widgets/base",
            "top": null,
            "grid_column": null,
            "overflow_y": null,
            "overflow_x": null,
            "grid_auto_flow": null,
            "grid_area": null,
            "grid_template_columns": null,
            "flex": null,
            "_model_name": "LayoutModel",
            "justify_items": null,
            "grid_row": null,
            "max_height": null,
            "align_content": null,
            "visibility": null,
            "align_self": null,
            "height": null,
            "min_height": null,
            "padding": null,
            "grid_auto_rows": null,
            "grid_gap": null,
            "max_width": null,
            "order": null,
            "_view_module_version": "1.2.0",
            "grid_template_areas": null,
            "object_position": null,
            "object_fit": null,
            "grid_auto_columns": null,
            "margin": null,
            "display": null,
            "left": null
          }
        },
        "838e76366fd748878e014260da93e86c": {
          "model_module": "@jupyter-widgets/controls",
          "model_name": "DescriptionStyleModel",
          "model_module_version": "1.5.0",
          "state": {
            "_view_name": "StyleView",
            "_model_name": "DescriptionStyleModel",
            "description_width": "",
            "_view_module": "@jupyter-widgets/base",
            "_model_module_version": "1.5.0",
            "_view_count": null,
            "_view_module_version": "1.2.0",
            "_model_module": "@jupyter-widgets/controls"
          }
        },
        "ad5f093940fb4fda8e899ff07d4e1219": {
          "model_module": "@jupyter-widgets/base",
          "model_name": "LayoutModel",
          "model_module_version": "1.2.0",
          "state": {
            "_view_name": "LayoutView",
            "grid_template_rows": null,
            "right": null,
            "justify_content": null,
            "_view_module": "@jupyter-widgets/base",
            "overflow": null,
            "_model_module_version": "1.2.0",
            "_view_count": null,
            "flex_flow": null,
            "width": null,
            "min_width": null,
            "border": null,
            "align_items": null,
            "bottom": null,
            "_model_module": "@jupyter-widgets/base",
            "top": null,
            "grid_column": null,
            "overflow_y": null,
            "overflow_x": null,
            "grid_auto_flow": null,
            "grid_area": null,
            "grid_template_columns": null,
            "flex": null,
            "_model_name": "LayoutModel",
            "justify_items": null,
            "grid_row": null,
            "max_height": null,
            "align_content": null,
            "visibility": null,
            "align_self": null,
            "height": null,
            "min_height": null,
            "padding": null,
            "grid_auto_rows": null,
            "grid_gap": null,
            "max_width": null,
            "order": null,
            "_view_module_version": "1.2.0",
            "grid_template_areas": null,
            "object_position": null,
            "object_fit": null,
            "grid_auto_columns": null,
            "margin": null,
            "display": null,
            "left": null
          }
        },
        "189876f0f3d948ec814d0290bb89a2f6": {
          "model_module": "@jupyter-widgets/controls",
          "model_name": "HBoxModel",
          "model_module_version": "1.5.0",
          "state": {
            "_view_name": "HBoxView",
            "_dom_classes": [],
            "_model_name": "HBoxModel",
            "_view_module": "@jupyter-widgets/controls",
            "_model_module_version": "1.5.0",
            "_view_count": null,
            "_view_module_version": "1.5.0",
            "box_style": "",
            "layout": "IPY_MODEL_8119f516ecae4789ab7b38fc77e8db7d",
            "_model_module": "@jupyter-widgets/controls",
            "children": [
              "IPY_MODEL_1e6b079064a74a8ca6bf6fb9dfbaec28",
              "IPY_MODEL_efaf1186817448a89c2ec2a51ada0a92",
              "IPY_MODEL_12d35495abd34305936f179676e93460"
            ]
          }
        },
        "8119f516ecae4789ab7b38fc77e8db7d": {
          "model_module": "@jupyter-widgets/base",
          "model_name": "LayoutModel",
          "model_module_version": "1.2.0",
          "state": {
            "_view_name": "LayoutView",
            "grid_template_rows": null,
            "right": null,
            "justify_content": null,
            "_view_module": "@jupyter-widgets/base",
            "overflow": null,
            "_model_module_version": "1.2.0",
            "_view_count": null,
            "flex_flow": null,
            "width": null,
            "min_width": null,
            "border": null,
            "align_items": null,
            "bottom": null,
            "_model_module": "@jupyter-widgets/base",
            "top": null,
            "grid_column": null,
            "overflow_y": null,
            "overflow_x": null,
            "grid_auto_flow": null,
            "grid_area": null,
            "grid_template_columns": null,
            "flex": null,
            "_model_name": "LayoutModel",
            "justify_items": null,
            "grid_row": null,
            "max_height": null,
            "align_content": null,
            "visibility": null,
            "align_self": null,
            "height": null,
            "min_height": null,
            "padding": null,
            "grid_auto_rows": null,
            "grid_gap": null,
            "max_width": null,
            "order": null,
            "_view_module_version": "1.2.0",
            "grid_template_areas": null,
            "object_position": null,
            "object_fit": null,
            "grid_auto_columns": null,
            "margin": null,
            "display": null,
            "left": null
          }
        },
        "1e6b079064a74a8ca6bf6fb9dfbaec28": {
          "model_module": "@jupyter-widgets/controls",
          "model_name": "HTMLModel",
          "model_module_version": "1.5.0",
          "state": {
            "_view_name": "HTMLView",
            "style": "IPY_MODEL_fadc77d87a63402cae44f672515423e1",
            "_dom_classes": [],
            "description": "",
            "_model_name": "HTMLModel",
            "placeholder": "​",
            "_view_module": "@jupyter-widgets/controls",
            "_model_module_version": "1.5.0",
            "value": "100%",
            "_view_count": null,
            "_view_module_version": "1.5.0",
            "description_tooltip": null,
            "_model_module": "@jupyter-widgets/controls",
            "layout": "IPY_MODEL_3d9c447972f743b2b81f287b070a6e9b"
          }
        },
        "efaf1186817448a89c2ec2a51ada0a92": {
          "model_module": "@jupyter-widgets/controls",
          "model_name": "FloatProgressModel",
          "model_module_version": "1.5.0",
          "state": {
            "_view_name": "ProgressView",
            "style": "IPY_MODEL_f684be278ef44cbbaed0f40054e7a7dc",
            "_dom_classes": [],
            "description": "",
            "_model_name": "FloatProgressModel",
            "bar_style": "danger",
            "max": 25000,
            "_view_module": "@jupyter-widgets/controls",
            "_model_module_version": "1.5.0",
            "value": 24999,
            "_view_count": null,
            "_view_module_version": "1.5.0",
            "orientation": "horizontal",
            "min": 0,
            "description_tooltip": null,
            "_model_module": "@jupyter-widgets/controls",
            "layout": "IPY_MODEL_164e0e80d5f5404dacf537656aaf9fbb"
          }
        },
        "12d35495abd34305936f179676e93460": {
          "model_module": "@jupyter-widgets/controls",
          "model_name": "HTMLModel",
          "model_module_version": "1.5.0",
          "state": {
            "_view_name": "HTMLView",
            "style": "IPY_MODEL_98f1978a13a84539bee4b20dd501d944",
            "_dom_classes": [],
            "description": "",
            "_model_name": "HTMLModel",
            "placeholder": "​",
            "_view_module": "@jupyter-widgets/controls",
            "_model_module_version": "1.5.0",
            "value": " 24999/25000 [00:00&lt;00:00, 106808.46 examples/s]",
            "_view_count": null,
            "_view_module_version": "1.5.0",
            "description_tooltip": null,
            "_model_module": "@jupyter-widgets/controls",
            "layout": "IPY_MODEL_2552c2a0b2c645e18ae9da7cc05486ac"
          }
        },
        "fadc77d87a63402cae44f672515423e1": {
          "model_module": "@jupyter-widgets/controls",
          "model_name": "DescriptionStyleModel",
          "model_module_version": "1.5.0",
          "state": {
            "_view_name": "StyleView",
            "_model_name": "DescriptionStyleModel",
            "description_width": "",
            "_view_module": "@jupyter-widgets/base",
            "_model_module_version": "1.5.0",
            "_view_count": null,
            "_view_module_version": "1.2.0",
            "_model_module": "@jupyter-widgets/controls"
          }
        },
        "3d9c447972f743b2b81f287b070a6e9b": {
          "model_module": "@jupyter-widgets/base",
          "model_name": "LayoutModel",
          "model_module_version": "1.2.0",
          "state": {
            "_view_name": "LayoutView",
            "grid_template_rows": null,
            "right": null,
            "justify_content": null,
            "_view_module": "@jupyter-widgets/base",
            "overflow": null,
            "_model_module_version": "1.2.0",
            "_view_count": null,
            "flex_flow": null,
            "width": null,
            "min_width": null,
            "border": null,
            "align_items": null,
            "bottom": null,
            "_model_module": "@jupyter-widgets/base",
            "top": null,
            "grid_column": null,
            "overflow_y": null,
            "overflow_x": null,
            "grid_auto_flow": null,
            "grid_area": null,
            "grid_template_columns": null,
            "flex": null,
            "_model_name": "LayoutModel",
            "justify_items": null,
            "grid_row": null,
            "max_height": null,
            "align_content": null,
            "visibility": null,
            "align_self": null,
            "height": null,
            "min_height": null,
            "padding": null,
            "grid_auto_rows": null,
            "grid_gap": null,
            "max_width": null,
            "order": null,
            "_view_module_version": "1.2.0",
            "grid_template_areas": null,
            "object_position": null,
            "object_fit": null,
            "grid_auto_columns": null,
            "margin": null,
            "display": null,
            "left": null
          }
        },
        "f684be278ef44cbbaed0f40054e7a7dc": {
          "model_module": "@jupyter-widgets/controls",
          "model_name": "ProgressStyleModel",
          "model_module_version": "1.5.0",
          "state": {
            "_view_name": "StyleView",
            "_model_name": "ProgressStyleModel",
            "description_width": "",
            "_view_module": "@jupyter-widgets/base",
            "_model_module_version": "1.5.0",
            "_view_count": null,
            "_view_module_version": "1.2.0",
            "bar_color": null,
            "_model_module": "@jupyter-widgets/controls"
          }
        },
        "164e0e80d5f5404dacf537656aaf9fbb": {
          "model_module": "@jupyter-widgets/base",
          "model_name": "LayoutModel",
          "model_module_version": "1.2.0",
          "state": {
            "_view_name": "LayoutView",
            "grid_template_rows": null,
            "right": null,
            "justify_content": null,
            "_view_module": "@jupyter-widgets/base",
            "overflow": null,
            "_model_module_version": "1.2.0",
            "_view_count": null,
            "flex_flow": null,
            "width": null,
            "min_width": null,
            "border": null,
            "align_items": null,
            "bottom": null,
            "_model_module": "@jupyter-widgets/base",
            "top": null,
            "grid_column": null,
            "overflow_y": null,
            "overflow_x": null,
            "grid_auto_flow": null,
            "grid_area": null,
            "grid_template_columns": null,
            "flex": null,
            "_model_name": "LayoutModel",
            "justify_items": null,
            "grid_row": null,
            "max_height": null,
            "align_content": null,
            "visibility": null,
            "align_self": null,
            "height": null,
            "min_height": null,
            "padding": null,
            "grid_auto_rows": null,
            "grid_gap": null,
            "max_width": null,
            "order": null,
            "_view_module_version": "1.2.0",
            "grid_template_areas": null,
            "object_position": null,
            "object_fit": null,
            "grid_auto_columns": null,
            "margin": null,
            "display": null,
            "left": null
          }
        },
        "98f1978a13a84539bee4b20dd501d944": {
          "model_module": "@jupyter-widgets/controls",
          "model_name": "DescriptionStyleModel",
          "model_module_version": "1.5.0",
          "state": {
            "_view_name": "StyleView",
            "_model_name": "DescriptionStyleModel",
            "description_width": "",
            "_view_module": "@jupyter-widgets/base",
            "_model_module_version": "1.5.0",
            "_view_count": null,
            "_view_module_version": "1.2.0",
            "_model_module": "@jupyter-widgets/controls"
          }
        },
        "2552c2a0b2c645e18ae9da7cc05486ac": {
          "model_module": "@jupyter-widgets/base",
          "model_name": "LayoutModel",
          "model_module_version": "1.2.0",
          "state": {
            "_view_name": "LayoutView",
            "grid_template_rows": null,
            "right": null,
            "justify_content": null,
            "_view_module": "@jupyter-widgets/base",
            "overflow": null,
            "_model_module_version": "1.2.0",
            "_view_count": null,
            "flex_flow": null,
            "width": null,
            "min_width": null,
            "border": null,
            "align_items": null,
            "bottom": null,
            "_model_module": "@jupyter-widgets/base",
            "top": null,
            "grid_column": null,
            "overflow_y": null,
            "overflow_x": null,
            "grid_auto_flow": null,
            "grid_area": null,
            "grid_template_columns": null,
            "flex": null,
            "_model_name": "LayoutModel",
            "justify_items": null,
            "grid_row": null,
            "max_height": null,
            "align_content": null,
            "visibility": null,
            "align_self": null,
            "height": null,
            "min_height": null,
            "padding": null,
            "grid_auto_rows": null,
            "grid_gap": null,
            "max_width": null,
            "order": null,
            "_view_module_version": "1.2.0",
            "grid_template_areas": null,
            "object_position": null,
            "object_fit": null,
            "grid_auto_columns": null,
            "margin": null,
            "display": null,
            "left": null
          }
        },
        "97707c74b8784620a77097701065ac7c": {
          "model_module": "@jupyter-widgets/controls",
          "model_name": "HBoxModel",
          "model_module_version": "1.5.0",
          "state": {
            "_view_name": "HBoxView",
            "_dom_classes": [],
            "_model_name": "HBoxModel",
            "_view_module": "@jupyter-widgets/controls",
            "_model_module_version": "1.5.0",
            "_view_count": null,
            "_view_module_version": "1.5.0",
            "box_style": "",
            "layout": "IPY_MODEL_479e60f2df92469b8673dc0ec56dc15e",
            "_model_module": "@jupyter-widgets/controls",
            "children": [
              "IPY_MODEL_49cd5113623e4d70b232d10983ae5328",
              "IPY_MODEL_e46a5f58f71049eb9c0a8d6e92f1851b",
              "IPY_MODEL_820bfdf83f0440549421964623584872"
            ]
          }
        },
        "479e60f2df92469b8673dc0ec56dc15e": {
          "model_module": "@jupyter-widgets/base",
          "model_name": "LayoutModel",
          "model_module_version": "1.2.0",
          "state": {
            "_view_name": "LayoutView",
            "grid_template_rows": null,
            "right": null,
            "justify_content": null,
            "_view_module": "@jupyter-widgets/base",
            "overflow": null,
            "_model_module_version": "1.2.0",
            "_view_count": null,
            "flex_flow": null,
            "width": null,
            "min_width": null,
            "border": null,
            "align_items": null,
            "bottom": null,
            "_model_module": "@jupyter-widgets/base",
            "top": null,
            "grid_column": null,
            "overflow_y": null,
            "overflow_x": null,
            "grid_auto_flow": null,
            "grid_area": null,
            "grid_template_columns": null,
            "flex": null,
            "_model_name": "LayoutModel",
            "justify_items": null,
            "grid_row": null,
            "max_height": null,
            "align_content": null,
            "visibility": null,
            "align_self": null,
            "height": null,
            "min_height": null,
            "padding": null,
            "grid_auto_rows": null,
            "grid_gap": null,
            "max_width": null,
            "order": null,
            "_view_module_version": "1.2.0",
            "grid_template_areas": null,
            "object_position": null,
            "object_fit": null,
            "grid_auto_columns": null,
            "margin": null,
            "display": null,
            "left": null
          }
        },
        "49cd5113623e4d70b232d10983ae5328": {
          "model_module": "@jupyter-widgets/controls",
          "model_name": "HTMLModel",
          "model_module_version": "1.5.0",
          "state": {
            "_view_name": "HTMLView",
            "style": "IPY_MODEL_c150365fa37848cba54ac2cec7db4bf9",
            "_dom_classes": [],
            "description": "",
            "_model_name": "HTMLModel",
            "placeholder": "​",
            "_view_module": "@jupyter-widgets/controls",
            "_model_module_version": "1.5.0",
            "value": "",
            "_view_count": null,
            "_view_module_version": "1.5.0",
            "description_tooltip": null,
            "_model_module": "@jupyter-widgets/controls",
            "layout": "IPY_MODEL_cb00eac8071c429c8828610d0629d461"
          }
        },
        "e46a5f58f71049eb9c0a8d6e92f1851b": {
          "model_module": "@jupyter-widgets/controls",
          "model_name": "FloatProgressModel",
          "model_module_version": "1.5.0",
          "state": {
            "_view_name": "ProgressView",
            "style": "IPY_MODEL_5275d2ff892d473cb178de421f0458e7",
            "_dom_classes": [],
            "description": "",
            "_model_name": "FloatProgressModel",
            "bar_style": "info",
            "max": 1,
            "_view_module": "@jupyter-widgets/controls",
            "_model_module_version": "1.5.0",
            "value": 1,
            "_view_count": null,
            "_view_module_version": "1.5.0",
            "orientation": "horizontal",
            "min": 0,
            "description_tooltip": null,
            "_model_module": "@jupyter-widgets/controls",
            "layout": "IPY_MODEL_b4bf174af9a64420bf0cd0ff907633af"
          }
        },
        "820bfdf83f0440549421964623584872": {
          "model_module": "@jupyter-widgets/controls",
          "model_name": "HTMLModel",
          "model_module_version": "1.5.0",
          "state": {
            "_view_name": "HTMLView",
            "style": "IPY_MODEL_5d591f7a4e904ba0ba74babb3e601dd4",
            "_dom_classes": [],
            "description": "",
            "_model_name": "HTMLModel",
            "placeholder": "​",
            "_view_module": "@jupyter-widgets/controls",
            "_model_module_version": "1.5.0",
            "value": " 49757/0 [00:17&lt;00:00, 3825.50 examples/s]",
            "_view_count": null,
            "_view_module_version": "1.5.0",
            "description_tooltip": null,
            "_model_module": "@jupyter-widgets/controls",
            "layout": "IPY_MODEL_b54197b41ffe4b4688ed10f5d8f09708"
          }
        },
        "c150365fa37848cba54ac2cec7db4bf9": {
          "model_module": "@jupyter-widgets/controls",
          "model_name": "DescriptionStyleModel",
          "model_module_version": "1.5.0",
          "state": {
            "_view_name": "StyleView",
            "_model_name": "DescriptionStyleModel",
            "description_width": "",
            "_view_module": "@jupyter-widgets/base",
            "_model_module_version": "1.5.0",
            "_view_count": null,
            "_view_module_version": "1.2.0",
            "_model_module": "@jupyter-widgets/controls"
          }
        },
        "cb00eac8071c429c8828610d0629d461": {
          "model_module": "@jupyter-widgets/base",
          "model_name": "LayoutModel",
          "model_module_version": "1.2.0",
          "state": {
            "_view_name": "LayoutView",
            "grid_template_rows": null,
            "right": null,
            "justify_content": null,
            "_view_module": "@jupyter-widgets/base",
            "overflow": null,
            "_model_module_version": "1.2.0",
            "_view_count": null,
            "flex_flow": null,
            "width": null,
            "min_width": null,
            "border": null,
            "align_items": null,
            "bottom": null,
            "_model_module": "@jupyter-widgets/base",
            "top": null,
            "grid_column": null,
            "overflow_y": null,
            "overflow_x": null,
            "grid_auto_flow": null,
            "grid_area": null,
            "grid_template_columns": null,
            "flex": null,
            "_model_name": "LayoutModel",
            "justify_items": null,
            "grid_row": null,
            "max_height": null,
            "align_content": null,
            "visibility": null,
            "align_self": null,
            "height": null,
            "min_height": null,
            "padding": null,
            "grid_auto_rows": null,
            "grid_gap": null,
            "max_width": null,
            "order": null,
            "_view_module_version": "1.2.0",
            "grid_template_areas": null,
            "object_position": null,
            "object_fit": null,
            "grid_auto_columns": null,
            "margin": null,
            "display": null,
            "left": null
          }
        },
        "5275d2ff892d473cb178de421f0458e7": {
          "model_module": "@jupyter-widgets/controls",
          "model_name": "ProgressStyleModel",
          "model_module_version": "1.5.0",
          "state": {
            "_view_name": "StyleView",
            "_model_name": "ProgressStyleModel",
            "description_width": "",
            "_view_module": "@jupyter-widgets/base",
            "_model_module_version": "1.5.0",
            "_view_count": null,
            "_view_module_version": "1.2.0",
            "bar_color": null,
            "_model_module": "@jupyter-widgets/controls"
          }
        },
        "b4bf174af9a64420bf0cd0ff907633af": {
          "model_module": "@jupyter-widgets/base",
          "model_name": "LayoutModel",
          "model_module_version": "1.2.0",
          "state": {
            "_view_name": "LayoutView",
            "grid_template_rows": null,
            "right": null,
            "justify_content": null,
            "_view_module": "@jupyter-widgets/base",
            "overflow": null,
            "_model_module_version": "1.2.0",
            "_view_count": null,
            "flex_flow": null,
            "width": "20px",
            "min_width": null,
            "border": null,
            "align_items": null,
            "bottom": null,
            "_model_module": "@jupyter-widgets/base",
            "top": null,
            "grid_column": null,
            "overflow_y": null,
            "overflow_x": null,
            "grid_auto_flow": null,
            "grid_area": null,
            "grid_template_columns": null,
            "flex": null,
            "_model_name": "LayoutModel",
            "justify_items": null,
            "grid_row": null,
            "max_height": null,
            "align_content": null,
            "visibility": null,
            "align_self": null,
            "height": null,
            "min_height": null,
            "padding": null,
            "grid_auto_rows": null,
            "grid_gap": null,
            "max_width": null,
            "order": null,
            "_view_module_version": "1.2.0",
            "grid_template_areas": null,
            "object_position": null,
            "object_fit": null,
            "grid_auto_columns": null,
            "margin": null,
            "display": null,
            "left": null
          }
        },
        "5d591f7a4e904ba0ba74babb3e601dd4": {
          "model_module": "@jupyter-widgets/controls",
          "model_name": "DescriptionStyleModel",
          "model_module_version": "1.5.0",
          "state": {
            "_view_name": "StyleView",
            "_model_name": "DescriptionStyleModel",
            "description_width": "",
            "_view_module": "@jupyter-widgets/base",
            "_model_module_version": "1.5.0",
            "_view_count": null,
            "_view_module_version": "1.2.0",
            "_model_module": "@jupyter-widgets/controls"
          }
        },
        "b54197b41ffe4b4688ed10f5d8f09708": {
          "model_module": "@jupyter-widgets/base",
          "model_name": "LayoutModel",
          "model_module_version": "1.2.0",
          "state": {
            "_view_name": "LayoutView",
            "grid_template_rows": null,
            "right": null,
            "justify_content": null,
            "_view_module": "@jupyter-widgets/base",
            "overflow": null,
            "_model_module_version": "1.2.0",
            "_view_count": null,
            "flex_flow": null,
            "width": null,
            "min_width": null,
            "border": null,
            "align_items": null,
            "bottom": null,
            "_model_module": "@jupyter-widgets/base",
            "top": null,
            "grid_column": null,
            "overflow_y": null,
            "overflow_x": null,
            "grid_auto_flow": null,
            "grid_area": null,
            "grid_template_columns": null,
            "flex": null,
            "_model_name": "LayoutModel",
            "justify_items": null,
            "grid_row": null,
            "max_height": null,
            "align_content": null,
            "visibility": null,
            "align_self": null,
            "height": null,
            "min_height": null,
            "padding": null,
            "grid_auto_rows": null,
            "grid_gap": null,
            "max_width": null,
            "order": null,
            "_view_module_version": "1.2.0",
            "grid_template_areas": null,
            "object_position": null,
            "object_fit": null,
            "grid_auto_columns": null,
            "margin": null,
            "display": null,
            "left": null
          }
        },
        "c171127e52c049068d22a9a5e2606b14": {
          "model_module": "@jupyter-widgets/controls",
          "model_name": "HBoxModel",
          "model_module_version": "1.5.0",
          "state": {
            "_view_name": "HBoxView",
            "_dom_classes": [],
            "_model_name": "HBoxModel",
            "_view_module": "@jupyter-widgets/controls",
            "_model_module_version": "1.5.0",
            "_view_count": null,
            "_view_module_version": "1.5.0",
            "box_style": "",
            "layout": "IPY_MODEL_18185d7eb18340a59c9d8b5d695b6cf9",
            "_model_module": "@jupyter-widgets/controls",
            "children": [
              "IPY_MODEL_6907918705f64c58ba89e7236176b25f",
              "IPY_MODEL_d2648695bbba4ecdacc616bfa3848485",
              "IPY_MODEL_1643426f9cd64b05b9ce42e273dace5a"
            ]
          }
        },
        "18185d7eb18340a59c9d8b5d695b6cf9": {
          "model_module": "@jupyter-widgets/base",
          "model_name": "LayoutModel",
          "model_module_version": "1.2.0",
          "state": {
            "_view_name": "LayoutView",
            "grid_template_rows": null,
            "right": null,
            "justify_content": null,
            "_view_module": "@jupyter-widgets/base",
            "overflow": null,
            "_model_module_version": "1.2.0",
            "_view_count": null,
            "flex_flow": null,
            "width": null,
            "min_width": null,
            "border": null,
            "align_items": null,
            "bottom": null,
            "_model_module": "@jupyter-widgets/base",
            "top": null,
            "grid_column": null,
            "overflow_y": null,
            "overflow_x": null,
            "grid_auto_flow": null,
            "grid_area": null,
            "grid_template_columns": null,
            "flex": null,
            "_model_name": "LayoutModel",
            "justify_items": null,
            "grid_row": null,
            "max_height": null,
            "align_content": null,
            "visibility": null,
            "align_self": null,
            "height": null,
            "min_height": null,
            "padding": null,
            "grid_auto_rows": null,
            "grid_gap": null,
            "max_width": null,
            "order": null,
            "_view_module_version": "1.2.0",
            "grid_template_areas": null,
            "object_position": null,
            "object_fit": null,
            "grid_auto_columns": null,
            "margin": null,
            "display": null,
            "left": null
          }
        },
        "6907918705f64c58ba89e7236176b25f": {
          "model_module": "@jupyter-widgets/controls",
          "model_name": "HTMLModel",
          "model_module_version": "1.5.0",
          "state": {
            "_view_name": "HTMLView",
            "style": "IPY_MODEL_4f8b09f0efab423ca0ba6c8992e10761",
            "_dom_classes": [],
            "description": "",
            "_model_name": "HTMLModel",
            "placeholder": "​",
            "_view_module": "@jupyter-widgets/controls",
            "_model_module_version": "1.5.0",
            "value": "100%",
            "_view_count": null,
            "_view_module_version": "1.5.0",
            "description_tooltip": null,
            "_model_module": "@jupyter-widgets/controls",
            "layout": "IPY_MODEL_1b12ae27aa384ddaae886e05fd3bdf10"
          }
        },
        "d2648695bbba4ecdacc616bfa3848485": {
          "model_module": "@jupyter-widgets/controls",
          "model_name": "FloatProgressModel",
          "model_module_version": "1.5.0",
          "state": {
            "_view_name": "ProgressView",
            "style": "IPY_MODEL_ba0632764e314340b0f1db11c796a957",
            "_dom_classes": [],
            "description": "",
            "_model_name": "FloatProgressModel",
            "bar_style": "danger",
            "max": 50000,
            "_view_module": "@jupyter-widgets/controls",
            "_model_module_version": "1.5.0",
            "value": 49999,
            "_view_count": null,
            "_view_module_version": "1.5.0",
            "orientation": "horizontal",
            "min": 0,
            "description_tooltip": null,
            "_model_module": "@jupyter-widgets/controls",
            "layout": "IPY_MODEL_a466728e229c4328a7155f5f12df0b70"
          }
        },
        "1643426f9cd64b05b9ce42e273dace5a": {
          "model_module": "@jupyter-widgets/controls",
          "model_name": "HTMLModel",
          "model_module_version": "1.5.0",
          "state": {
            "_view_name": "HTMLView",
            "style": "IPY_MODEL_f725c4c92c2542fa9095213c80e855e1",
            "_dom_classes": [],
            "description": "",
            "_model_name": "HTMLModel",
            "placeholder": "​",
            "_view_module": "@jupyter-widgets/controls",
            "_model_module_version": "1.5.0",
            "value": " 49999/50000 [00:00&lt;00:00, 177751.09 examples/s]",
            "_view_count": null,
            "_view_module_version": "1.5.0",
            "description_tooltip": null,
            "_model_module": "@jupyter-widgets/controls",
            "layout": "IPY_MODEL_b578c3766a644425866a34eb79dc6197"
          }
        },
        "4f8b09f0efab423ca0ba6c8992e10761": {
          "model_module": "@jupyter-widgets/controls",
          "model_name": "DescriptionStyleModel",
          "model_module_version": "1.5.0",
          "state": {
            "_view_name": "StyleView",
            "_model_name": "DescriptionStyleModel",
            "description_width": "",
            "_view_module": "@jupyter-widgets/base",
            "_model_module_version": "1.5.0",
            "_view_count": null,
            "_view_module_version": "1.2.0",
            "_model_module": "@jupyter-widgets/controls"
          }
        },
        "1b12ae27aa384ddaae886e05fd3bdf10": {
          "model_module": "@jupyter-widgets/base",
          "model_name": "LayoutModel",
          "model_module_version": "1.2.0",
          "state": {
            "_view_name": "LayoutView",
            "grid_template_rows": null,
            "right": null,
            "justify_content": null,
            "_view_module": "@jupyter-widgets/base",
            "overflow": null,
            "_model_module_version": "1.2.0",
            "_view_count": null,
            "flex_flow": null,
            "width": null,
            "min_width": null,
            "border": null,
            "align_items": null,
            "bottom": null,
            "_model_module": "@jupyter-widgets/base",
            "top": null,
            "grid_column": null,
            "overflow_y": null,
            "overflow_x": null,
            "grid_auto_flow": null,
            "grid_area": null,
            "grid_template_columns": null,
            "flex": null,
            "_model_name": "LayoutModel",
            "justify_items": null,
            "grid_row": null,
            "max_height": null,
            "align_content": null,
            "visibility": null,
            "align_self": null,
            "height": null,
            "min_height": null,
            "padding": null,
            "grid_auto_rows": null,
            "grid_gap": null,
            "max_width": null,
            "order": null,
            "_view_module_version": "1.2.0",
            "grid_template_areas": null,
            "object_position": null,
            "object_fit": null,
            "grid_auto_columns": null,
            "margin": null,
            "display": null,
            "left": null
          }
        },
        "ba0632764e314340b0f1db11c796a957": {
          "model_module": "@jupyter-widgets/controls",
          "model_name": "ProgressStyleModel",
          "model_module_version": "1.5.0",
          "state": {
            "_view_name": "StyleView",
            "_model_name": "ProgressStyleModel",
            "description_width": "",
            "_view_module": "@jupyter-widgets/base",
            "_model_module_version": "1.5.0",
            "_view_count": null,
            "_view_module_version": "1.2.0",
            "bar_color": null,
            "_model_module": "@jupyter-widgets/controls"
          }
        },
        "a466728e229c4328a7155f5f12df0b70": {
          "model_module": "@jupyter-widgets/base",
          "model_name": "LayoutModel",
          "model_module_version": "1.2.0",
          "state": {
            "_view_name": "LayoutView",
            "grid_template_rows": null,
            "right": null,
            "justify_content": null,
            "_view_module": "@jupyter-widgets/base",
            "overflow": null,
            "_model_module_version": "1.2.0",
            "_view_count": null,
            "flex_flow": null,
            "width": null,
            "min_width": null,
            "border": null,
            "align_items": null,
            "bottom": null,
            "_model_module": "@jupyter-widgets/base",
            "top": null,
            "grid_column": null,
            "overflow_y": null,
            "overflow_x": null,
            "grid_auto_flow": null,
            "grid_area": null,
            "grid_template_columns": null,
            "flex": null,
            "_model_name": "LayoutModel",
            "justify_items": null,
            "grid_row": null,
            "max_height": null,
            "align_content": null,
            "visibility": null,
            "align_self": null,
            "height": null,
            "min_height": null,
            "padding": null,
            "grid_auto_rows": null,
            "grid_gap": null,
            "max_width": null,
            "order": null,
            "_view_module_version": "1.2.0",
            "grid_template_areas": null,
            "object_position": null,
            "object_fit": null,
            "grid_auto_columns": null,
            "margin": null,
            "display": null,
            "left": null
          }
        },
        "f725c4c92c2542fa9095213c80e855e1": {
          "model_module": "@jupyter-widgets/controls",
          "model_name": "DescriptionStyleModel",
          "model_module_version": "1.5.0",
          "state": {
            "_view_name": "StyleView",
            "_model_name": "DescriptionStyleModel",
            "description_width": "",
            "_view_module": "@jupyter-widgets/base",
            "_model_module_version": "1.5.0",
            "_view_count": null,
            "_view_module_version": "1.2.0",
            "_model_module": "@jupyter-widgets/controls"
          }
        },
        "b578c3766a644425866a34eb79dc6197": {
          "model_module": "@jupyter-widgets/base",
          "model_name": "LayoutModel",
          "model_module_version": "1.2.0",
          "state": {
            "_view_name": "LayoutView",
            "grid_template_rows": null,
            "right": null,
            "justify_content": null,
            "_view_module": "@jupyter-widgets/base",
            "overflow": null,
            "_model_module_version": "1.2.0",
            "_view_count": null,
            "flex_flow": null,
            "width": null,
            "min_width": null,
            "border": null,
            "align_items": null,
            "bottom": null,
            "_model_module": "@jupyter-widgets/base",
            "top": null,
            "grid_column": null,
            "overflow_y": null,
            "overflow_x": null,
            "grid_auto_flow": null,
            "grid_area": null,
            "grid_template_columns": null,
            "flex": null,
            "_model_name": "LayoutModel",
            "justify_items": null,
            "grid_row": null,
            "max_height": null,
            "align_content": null,
            "visibility": null,
            "align_self": null,
            "height": null,
            "min_height": null,
            "padding": null,
            "grid_auto_rows": null,
            "grid_gap": null,
            "max_width": null,
            "order": null,
            "_view_module_version": "1.2.0",
            "grid_template_areas": null,
            "object_position": null,
            "object_fit": null,
            "grid_auto_columns": null,
            "margin": null,
            "display": null,
            "left": null
          }
        }
      }
    }
  },
  "cells": [
    {
      "cell_type": "markdown",
      "metadata": {
        "id": "view-in-github",
        "colab_type": "text"
      },
      "source": [
        "<a href=\"https://colab.research.google.com/github/ejrtks1020/Deep_learning_library/blob/main/_5_%ED%85%90%EC%84%9C%ED%94%8C%EB%A1%9C%EC%9A%B0_Data_API.ipynb\" target=\"_parent\"><img src=\"https://colab.research.google.com/assets/colab-badge.svg\" alt=\"Open In Colab\"/></a>"
      ]
    },
    {
      "cell_type": "markdown",
      "metadata": {
        "id": "pvT4Kena44U-"
      },
      "source": [
        "# Data API\n",
        "\n",
        "- `tf.data`: https://www.tensorflow.org/api_docs/python/tf/data\n",
        "- `tf.data.datasets`\n",
        "\n"
      ]
    },
    {
      "cell_type": "markdown",
      "metadata": {
        "id": "qMJ7xx8N882t"
      },
      "source": [
        "## tf.data.datasets"
      ]
    },
    {
      "cell_type": "code",
      "metadata": {
        "id": "uA_5y-rv5K0x"
      },
      "source": [
        "import tensorflow as tf\n",
        "import tensorflow_datasets as tfds"
      ],
      "execution_count": null,
      "outputs": []
    },
    {
      "cell_type": "code",
      "metadata": {
        "id": "_77BigY5g3hd",
        "colab": {
          "base_uri": "https://localhost:8080/"
        },
        "outputId": "099d0641-a9b4-4ae7-ea92-a0955c736581"
      },
      "source": [
        "builders = tfds.list_builders()\n",
        "print(builders)"
      ],
      "execution_count": null,
      "outputs": [
        {
          "output_type": "stream",
          "name": "stdout",
          "text": [
            "['abstract_reasoning', 'accentdb', 'aeslc', 'aflw2k3d', 'ag_news_subset', 'ai2_arc', 'ai2_arc_with_ir', 'amazon_us_reviews', 'anli', 'arc', 'bair_robot_pushing_small', 'bccd', 'beans', 'big_patent', 'bigearthnet', 'billsum', 'binarized_mnist', 'binary_alpha_digits', 'blimp', 'bool_q', 'c4', 'caltech101', 'caltech_birds2010', 'caltech_birds2011', 'cars196', 'cassava', 'cats_vs_dogs', 'celeb_a', 'celeb_a_hq', 'cfq', 'chexpert', 'cifar10', 'cifar100', 'cifar10_1', 'cifar10_corrupted', 'citrus_leaves', 'cityscapes', 'civil_comments', 'clevr', 'clic', 'clinc_oos', 'cmaterdb', 'cnn_dailymail', 'coco', 'coco_captions', 'coil100', 'colorectal_histology', 'colorectal_histology_large', 'common_voice', 'coqa', 'cos_e', 'cosmos_qa', 'covid19sum', 'crema_d', 'curated_breast_imaging_ddsm', 'cycle_gan', 'deep_weeds', 'definite_pronoun_resolution', 'dementiabank', 'diabetic_retinopathy_detection', 'div2k', 'dmlab', 'downsampled_imagenet', 'dsprites', 'dtd', 'duke_ultrasound', 'emnist', 'eraser_multi_rc', 'esnli', 'eurosat', 'fashion_mnist', 'flic', 'flores', 'food101', 'forest_fires', 'fuss', 'gap', 'geirhos_conflict_stimuli', 'genomics_ood', 'german_credit_numeric', 'gigaword', 'glue', 'goemotions', 'gpt3', 'groove', 'gtzan', 'gtzan_music_speech', 'hellaswag', 'higgs', 'horses_or_humans', 'i_naturalist2017', 'imagenet2012', 'imagenet2012_corrupted', 'imagenet2012_real', 'imagenet2012_subset', 'imagenet_a', 'imagenet_r', 'imagenet_resized', 'imagenet_v2', 'imagenette', 'imagewang', 'imdb_reviews', 'irc_disentanglement', 'iris', 'kitti', 'kmnist', 'lfw', 'librispeech', 'librispeech_lm', 'libritts', 'ljspeech', 'lm1b', 'lost_and_found', 'lsun', 'malaria', 'math_dataset', 'mctaco', 'mnist', 'mnist_corrupted', 'movie_lens', 'movie_rationales', 'movielens', 'moving_mnist', 'multi_news', 'multi_nli', 'multi_nli_mismatch', 'natural_questions', 'natural_questions_open', 'newsroom', 'nsynth', 'nyu_depth_v2', 'omniglot', 'open_images_challenge2019_detection', 'open_images_v4', 'openbookqa', 'opinion_abstracts', 'opinosis', 'opus', 'oxford_flowers102', 'oxford_iiit_pet', 'para_crawl', 'patch_camelyon', 'paws_wiki', 'paws_x_wiki', 'pet_finder', 'pg19', 'places365_small', 'plant_leaves', 'plant_village', 'plantae_k', 'qa4mre', 'qasc', 'quickdraw_bitmap', 'radon', 'reddit', 'reddit_disentanglement', 'reddit_tifu', 'resisc45', 'robonet', 'rock_paper_scissors', 'rock_you', 'salient_span_wikipedia', 'samsum', 'savee', 'scan', 'scene_parse150', 'scicite', 'scientific_papers', 'sentiment140', 'shapes3d', 'smallnorb', 'snli', 'so2sat', 'speech_commands', 'spoken_digit', 'squad', 'stanford_dogs', 'stanford_online_products', 'starcraft_video', 'stl10', 'sun397', 'super_glue', 'svhn_cropped', 'ted_hrlr_translate', 'ted_multi_translate', 'tedlium', 'tf_flowers', 'the300w_lp', 'tiny_shakespeare', 'titanic', 'trec', 'trivia_qa', 'tydi_qa', 'uc_merced', 'ucf101', 'vctk', 'vgg_face2', 'visual_domain_decathlon', 'voc', 'voxceleb', 'voxforge', 'waymo_open_dataset', 'web_questions', 'wider_face', 'wiki40b', 'wikihow', 'wikipedia', 'wikipedia_toxicity_subtypes', 'wine_quality', 'winogrande', 'wmt14_translate', 'wmt15_translate', 'wmt16_translate', 'wmt17_translate', 'wmt18_translate', 'wmt19_translate', 'wmt_t2t_translate', 'wmt_translate', 'wordnet', 'xnli', 'xquad', 'xsum', 'yelp_polarity_reviews', 'yes_no']\n"
          ]
        }
      ]
    },
    {
      "cell_type": "code",
      "metadata": {
        "id": "wmRzwmofg3ef",
        "colab": {
          "base_uri": "https://localhost:8080/",
          "height": 214,
          "referenced_widgets": [
            "de90c60955a043258a81ea1aae9eac7f",
            "d9a6864d7efc4ff89ec6745c868d5bce",
            "cdbc9c814b574833bf84b5239f7c2fe1",
            "0d90d41ab55e4f5bb49808f10ac7bcb3",
            "8d0d0190b5b9459fb68cb21daf03b3ad",
            "01491336a9784203a825f988a4cf86e1",
            "620d3b25bc784743b994df63617c7976",
            "eb2fdb8de3c14fe6ba4af923fe1a52a3",
            "32a1f59c21624b57a149ae80585187a3",
            "7ef54616c99b4e4e9c84f9fcb091c364",
            "53cd94a6c84b4cf18f80a3b8242228db"
          ]
        },
        "outputId": "5e997b47-3dac-4e32-d70b-2aa758fad4b6"
      },
      "source": [
        "data, info = tfds.load('mnist', with_info = True)"
      ],
      "execution_count": null,
      "outputs": [
        {
          "output_type": "stream",
          "name": "stdout",
          "text": [
            "\u001b[1mDownloading and preparing dataset mnist/3.0.1 (download: 11.06 MiB, generated: 21.00 MiB, total: 32.06 MiB) to /root/tensorflow_datasets/mnist/3.0.1...\u001b[0m\n"
          ]
        },
        {
          "output_type": "stream",
          "name": "stderr",
          "text": [
            "WARNING:absl:Dataset mnist is hosted on GCS. It will automatically be downloaded to your\n",
            "local data directory. If you'd instead prefer to read directly from our public\n",
            "GCS bucket (recommended if you're running on GCP), you can instead pass\n",
            "`try_gcs=True` to `tfds.load` or set `data_dir=gs://tfds-data/datasets`.\n",
            "\n"
          ]
        },
        {
          "output_type": "display_data",
          "data": {
            "application/vnd.jupyter.widget-view+json": {
              "model_id": "de90c60955a043258a81ea1aae9eac7f",
              "version_minor": 0,
              "version_major": 2
            },
            "text/plain": [
              "Dl Completed...:   0%|          | 0/4 [00:00<?, ? file/s]"
            ]
          },
          "metadata": {}
        },
        {
          "output_type": "stream",
          "name": "stdout",
          "text": [
            "\n",
            "\u001b[1mDataset mnist downloaded and prepared to /root/tensorflow_datasets/mnist/3.0.1. Subsequent calls will reuse this data.\u001b[0m\n"
          ]
        }
      ]
    },
    {
      "cell_type": "code",
      "metadata": {
        "colab": {
          "base_uri": "https://localhost:8080/"
        },
        "id": "Y4BR3ch2JJ4b",
        "outputId": "9099ec7b-95a3-4ff1-a5ba-db9bd03cbaea"
      },
      "source": [
        "data"
      ],
      "execution_count": null,
      "outputs": [
        {
          "output_type": "execute_result",
          "data": {
            "text/plain": [
              "{'test': <PrefetchDataset shapes: {image: (28, 28, 1), label: ()}, types: {image: tf.uint8, label: tf.int64}>,\n",
              " 'train': <PrefetchDataset shapes: {image: (28, 28, 1), label: ()}, types: {image: tf.uint8, label: tf.int64}>}"
            ]
          },
          "metadata": {},
          "execution_count": 4
        }
      ]
    },
    {
      "cell_type": "code",
      "metadata": {
        "id": "US0DhbrtJL10"
      },
      "source": [
        "train_data, test_data = data['train'], data['test']"
      ],
      "execution_count": null,
      "outputs": []
    },
    {
      "cell_type": "code",
      "metadata": {
        "id": "PgvmOxeYg3bi",
        "colab": {
          "base_uri": "https://localhost:8080/"
        },
        "outputId": "d2abf004-f866-4945-e789-3d7dcc77a177"
      },
      "source": [
        "print(info)"
      ],
      "execution_count": null,
      "outputs": [
        {
          "output_type": "stream",
          "name": "stdout",
          "text": [
            "tfds.core.DatasetInfo(\n",
            "    name='mnist',\n",
            "    version=3.0.1,\n",
            "    description='The MNIST database of handwritten digits.',\n",
            "    homepage='http://yann.lecun.com/exdb/mnist/',\n",
            "    features=FeaturesDict({\n",
            "        'image': Image(shape=(28, 28, 1), dtype=tf.uint8),\n",
            "        'label': ClassLabel(shape=(), dtype=tf.int64, num_classes=10),\n",
            "    }),\n",
            "    total_num_examples=70000,\n",
            "    splits={\n",
            "        'test': 10000,\n",
            "        'train': 60000,\n",
            "    },\n",
            "    supervised_keys=('image', 'label'),\n",
            "    citation=\"\"\"@article{lecun2010mnist,\n",
            "      title={MNIST handwritten digit database},\n",
            "      author={LeCun, Yann and Cortes, Corinna and Burges, CJ},\n",
            "      journal={ATT Labs [Online]. Available: http://yann.lecun.com/exdb/mnist},\n",
            "      volume={2},\n",
            "      year={2010}\n",
            "    }\"\"\",\n",
            "    redistribution_info=,\n",
            ")\n",
            "\n"
          ]
        }
      ]
    },
    {
      "cell_type": "markdown",
      "metadata": {
        "id": "adN6woERhQrO"
      },
      "source": [
        "## tf.data\n",
        "\n",
        "- 생성\n",
        "  - `from_tensor_slices()`: 개별 또는 다중 넘파이를 받고, 배치를 지원\n",
        "\n",
        "  - `from_tensors()`: 배치를 지원하지 않음\n",
        "\n",
        "  - `from_generator()`: 생성자 함수에서 입력을 취함\n",
        "\n",
        "- 변환\n",
        "\n",
        "  - `batch()`: 순차적으로 지정한 배치사이즈로 데이터셋을 분할\n",
        "\n",
        "  - `repeat()`: 데이터를 복제\n",
        "\n",
        "  - `shuffle()`: 데이터를 무작위로 섞음\n",
        "\n",
        "  - `map()`: 데이터에 함수를 적용\n",
        "\n",
        "  - `filter()`: 데이터를 거르고자 할 때 사용\n",
        "- 반복\n",
        "  - `next_batch = iterator.get_next()` 사용"
      ]
    },
    {
      "cell_type": "markdown",
      "metadata": {
        "id": "51d2wkdMhTBn"
      },
      "source": [
        "### from_tensor_slices"
      ]
    },
    {
      "cell_type": "code",
      "metadata": {
        "id": "HWzGguIUg3Yi"
      },
      "source": [
        "import numpy as np"
      ],
      "execution_count": null,
      "outputs": []
    },
    {
      "cell_type": "code",
      "metadata": {
        "id": "aaO5aOqsg3Vf"
      },
      "source": [
        "num_items = 20\n",
        "num_list = np.arange(num_items)"
      ],
      "execution_count": null,
      "outputs": []
    },
    {
      "cell_type": "code",
      "metadata": {
        "id": "rFKz4nK2g3Sd"
      },
      "source": [
        "num_list_dataset = tf.data.Dataset.from_tensor_slices(num_list)"
      ],
      "execution_count": null,
      "outputs": []
    },
    {
      "cell_type": "code",
      "metadata": {
        "id": "gzqeoFS6g3Pg",
        "colab": {
          "base_uri": "https://localhost:8080/"
        },
        "outputId": "4890d0a9-2c30-4156-9a01-499f3377948c"
      },
      "source": [
        "num_list_dataset"
      ],
      "execution_count": null,
      "outputs": [
        {
          "output_type": "execute_result",
          "data": {
            "text/plain": [
              "<TensorSliceDataset shapes: (), types: tf.int64>"
            ]
          },
          "metadata": {},
          "execution_count": 10
        }
      ]
    },
    {
      "cell_type": "code",
      "metadata": {
        "id": "oBK4nAS7lpBJ",
        "colab": {
          "base_uri": "https://localhost:8080/"
        },
        "outputId": "a7295c4a-4f70-40e5-89a5-f90d9eccd71f"
      },
      "source": [
        "for item in num_list_dataset:\n",
        "  print(item) #20개의 생성된 텐서를 출력"
      ],
      "execution_count": null,
      "outputs": [
        {
          "output_type": "stream",
          "name": "stdout",
          "text": [
            "tf.Tensor(0, shape=(), dtype=int64)\n",
            "tf.Tensor(1, shape=(), dtype=int64)\n",
            "tf.Tensor(2, shape=(), dtype=int64)\n",
            "tf.Tensor(3, shape=(), dtype=int64)\n",
            "tf.Tensor(4, shape=(), dtype=int64)\n",
            "tf.Tensor(5, shape=(), dtype=int64)\n",
            "tf.Tensor(6, shape=(), dtype=int64)\n",
            "tf.Tensor(7, shape=(), dtype=int64)\n",
            "tf.Tensor(8, shape=(), dtype=int64)\n",
            "tf.Tensor(9, shape=(), dtype=int64)\n",
            "tf.Tensor(10, shape=(), dtype=int64)\n",
            "tf.Tensor(11, shape=(), dtype=int64)\n",
            "tf.Tensor(12, shape=(), dtype=int64)\n",
            "tf.Tensor(13, shape=(), dtype=int64)\n",
            "tf.Tensor(14, shape=(), dtype=int64)\n",
            "tf.Tensor(15, shape=(), dtype=int64)\n",
            "tf.Tensor(16, shape=(), dtype=int64)\n",
            "tf.Tensor(17, shape=(), dtype=int64)\n",
            "tf.Tensor(18, shape=(), dtype=int64)\n",
            "tf.Tensor(19, shape=(), dtype=int64)\n"
          ]
        }
      ]
    },
    {
      "cell_type": "markdown",
      "metadata": {
        "id": "8oSVGyqAsJz3"
      },
      "source": [
        "### from_generator()\n",
        "- 해당 클래스 메서드를 사용하면 생성자에서 데이터셋 생성 가능\n",
        "- output_types, output_shapes 인수로 출력 자료형과 크기를 지정해주어야 함"
      ]
    },
    {
      "cell_type": "code",
      "metadata": {
        "id": "5LEG6TzOsOAB",
        "colab": {
          "base_uri": "https://localhost:8080/"
        },
        "outputId": "627e9b1e-143d-45d9-cc78-73bd54f2b496"
      },
      "source": [
        "import itertools\n",
        "\n",
        "def gen():\n",
        "  for i in itertools.count(1):\n",
        "    yield(i, [1] * i)\n",
        "\n",
        "\n",
        "dataset = tf.data.Dataset.from_generator(\n",
        "    gen,\n",
        "    (tf.int64, tf.int64),       #output type\n",
        "    (tf.TensorShape([]), tf.TensorShape([None])) # Output shape\n",
        ")\n",
        "\n",
        "list(dataset.take(3).as_numpy_iterator())"
      ],
      "execution_count": null,
      "outputs": [
        {
          "output_type": "execute_result",
          "data": {
            "text/plain": [
              "[(1, array([1])), (2, array([1, 1])), (3, array([1, 1, 1]))]"
            ]
          },
          "metadata": {},
          "execution_count": 12
        }
      ]
    },
    {
      "cell_type": "code",
      "metadata": {
        "colab": {
          "base_uri": "https://localhost:8080/"
        },
        "id": "kJxj8-LnMjEj",
        "outputId": "cfe2f84e-dbb7-41d9-a01c-549117a2f4fa"
      },
      "source": [
        "def gen(stop):\n",
        "  for i in itertools.count(1):\n",
        "    if i < stop:\n",
        "      yield(i, [1] * i)\n",
        "\n",
        "dataset = tf.data.Dataset.from_generator(\n",
        "    gen, args = [10],\n",
        "    output_types = (tf.int64, tf.int64),\n",
        "    output_shapes = (tf.TensorShape([]), tf.TensorShape([None]))\n",
        ")\n",
        "\n",
        "list(dataset.take(5).as_numpy_iterator())"
      ],
      "execution_count": null,
      "outputs": [
        {
          "output_type": "execute_result",
          "data": {
            "text/plain": [
              "[(1, array([1])),\n",
              " (2, array([1, 1])),\n",
              " (3, array([1, 1, 1])),\n",
              " (4, array([1, 1, 1, 1])),\n",
              " (5, array([1, 1, 1, 1, 1]))]"
            ]
          },
          "metadata": {},
          "execution_count": 13
        }
      ]
    },
    {
      "cell_type": "markdown",
      "metadata": {
        "id": "IQUCMAdilyA1"
      },
      "source": [
        "### batch, repeat\n",
        "- `batch()`: 배치 사이즈 크기\n",
        "- `repeat()`: 반복 횟수"
      ]
    },
    {
      "cell_type": "code",
      "metadata": {
        "id": "qJunKghtl0Mk"
      },
      "source": [
        "dataset = num_list_dataset.repeat(3).batch(7)"
      ],
      "execution_count": null,
      "outputs": []
    },
    {
      "cell_type": "code",
      "metadata": {
        "id": "EwNlE6d2l0Qy",
        "colab": {
          "base_uri": "https://localhost:8080/"
        },
        "outputId": "60ce549f-da46-4bce-8ae4-c3dec5cbf45e"
      },
      "source": [
        "for item in dataset:\n",
        "  print(item)"
      ],
      "execution_count": null,
      "outputs": [
        {
          "output_type": "stream",
          "name": "stdout",
          "text": [
            "tf.Tensor([0 1 2 3 4 5 6], shape=(7,), dtype=int64)\n",
            "tf.Tensor([ 7  8  9 10 11 12 13], shape=(7,), dtype=int64)\n",
            "tf.Tensor([14 15 16 17 18 19  0], shape=(7,), dtype=int64)\n",
            "tf.Tensor([1 2 3 4 5 6 7], shape=(7,), dtype=int64)\n",
            "tf.Tensor([ 8  9 10 11 12 13 14], shape=(7,), dtype=int64)\n",
            "tf.Tensor([15 16 17 18 19  0  1], shape=(7,), dtype=int64)\n",
            "tf.Tensor([2 3 4 5 6 7 8], shape=(7,), dtype=int64)\n",
            "tf.Tensor([ 9 10 11 12 13 14 15], shape=(7,), dtype=int64)\n",
            "tf.Tensor([16 17 18 19], shape=(4,), dtype=int64)\n"
          ]
        }
      ]
    },
    {
      "cell_type": "code",
      "metadata": {
        "id": "cul1bFvImVxN"
      },
      "source": [
        "dataset = num_list_dataset.repeat(3).batch(7, drop_remainder = True)"
      ],
      "execution_count": null,
      "outputs": []
    },
    {
      "cell_type": "code",
      "metadata": {
        "id": "IHZ8JHIBmt_f",
        "colab": {
          "base_uri": "https://localhost:8080/"
        },
        "outputId": "aeda51e5-beaf-4a33-a3dd-79d861db2522"
      },
      "source": [
        "for item in dataset:\n",
        "  print(item)"
      ],
      "execution_count": null,
      "outputs": [
        {
          "output_type": "stream",
          "name": "stdout",
          "text": [
            "tf.Tensor([0 1 2 3 4 5 6], shape=(7,), dtype=int64)\n",
            "tf.Tensor([ 7  8  9 10 11 12 13], shape=(7,), dtype=int64)\n",
            "tf.Tensor([14 15 16 17 18 19  0], shape=(7,), dtype=int64)\n",
            "tf.Tensor([1 2 3 4 5 6 7], shape=(7,), dtype=int64)\n",
            "tf.Tensor([ 8  9 10 11 12 13 14], shape=(7,), dtype=int64)\n",
            "tf.Tensor([15 16 17 18 19  0  1], shape=(7,), dtype=int64)\n",
            "tf.Tensor([2 3 4 5 6 7 8], shape=(7,), dtype=int64)\n",
            "tf.Tensor([ 9 10 11 12 13 14 15], shape=(7,), dtype=int64)\n"
          ]
        }
      ]
    },
    {
      "cell_type": "markdown",
      "metadata": {
        "id": "xCAFfO6hmDDS"
      },
      "source": [
        "### map, filter\n",
        "- 전처리 단계에서 시행하여 원하지 않는 데이터를 거를 수 있음\n",
        "\n",
        "- `tf.Tensor` 자료형을 다룸"
      ]
    },
    {
      "cell_type": "code",
      "metadata": {
        "id": "lw37RX7KvN-K"
      },
      "source": [
        "from tensorflow.data import Dataset"
      ],
      "execution_count": null,
      "outputs": []
    },
    {
      "cell_type": "code",
      "metadata": {
        "id": "ubOuEgxal0Hv",
        "colab": {
          "base_uri": "https://localhost:8080/"
        },
        "outputId": "d2d809e2-3092-41ed-e2bc-918333037ecf"
      },
      "source": [
        "dataset = Dataset.range(1,6)\n",
        "dataset = dataset.map(lambda x: x *2)\n",
        "list(dataset.as_numpy_iterator())"
      ],
      "execution_count": null,
      "outputs": [
        {
          "output_type": "execute_result",
          "data": {
            "text/plain": [
              "[2, 4, 6, 8, 10]"
            ]
          },
          "metadata": {},
          "execution_count": 19
        }
      ]
    },
    {
      "cell_type": "code",
      "metadata": {
        "id": "jwxn37JRuzjV",
        "colab": {
          "base_uri": "https://localhost:8080/"
        },
        "outputId": "358c9610-f49a-4778-9798-d44969508434"
      },
      "source": [
        "dataset = Dataset.range(5)\n",
        "result = dataset.map(lambda x: x+1)\n",
        "result #맵이 적용된 결과를 객체정보로 저장됨"
      ],
      "execution_count": null,
      "outputs": [
        {
          "output_type": "execute_result",
          "data": {
            "text/plain": [
              "<MapDataset shapes: (), types: tf.int64>"
            ]
          },
          "metadata": {},
          "execution_count": 20
        }
      ]
    },
    {
      "cell_type": "code",
      "metadata": {
        "colab": {
          "base_uri": "https://localhost:8080/"
        },
        "id": "BOPmyi_MQu2p",
        "outputId": "f9704696-cd19-4e63-a1e2-8e84bdaf0b49"
      },
      "source": [
        "elements = [(1, 'one'), (2, 'two'), (3, 'three')]\n",
        "dataset = Dataset.from_generator(lambda: elements, (tf.int32, tf.string))\n",
        "result = dataset.map(lambda x_int, y_str: x_int)\n",
        "list(result.as_numpy_iterator())"
      ],
      "execution_count": null,
      "outputs": [
        {
          "output_type": "execute_result",
          "data": {
            "text/plain": [
              "[1, 2, 3]"
            ]
          },
          "metadata": {},
          "execution_count": 21
        }
      ]
    },
    {
      "cell_type": "code",
      "metadata": {
        "colab": {
          "base_uri": "https://localhost:8080/"
        },
        "id": "mF4Phf7CQylm",
        "outputId": "3c20ff86-672f-4ee7-9523-e32c81148c8d"
      },
      "source": [
        "dataset = Dataset.range(3)\n",
        "\n",
        "def g(x):\n",
        "  return tf.constant(10.5), tf.constant(['One', 'Two', 'Three'])\n",
        "\n",
        "result = dataset.map(g)\n",
        "result.element_spec"
      ],
      "execution_count": null,
      "outputs": [
        {
          "output_type": "execute_result",
          "data": {
            "text/plain": [
              "(TensorSpec(shape=(), dtype=tf.float32, name=None),\n",
              " TensorSpec(shape=(3,), dtype=tf.string, name=None))"
            ]
          },
          "metadata": {},
          "execution_count": 22
        }
      ]
    },
    {
      "cell_type": "code",
      "metadata": {
        "id": "LeKdClAA0Vjy",
        "colab": {
          "base_uri": "https://localhost:8080/"
        },
        "outputId": "b66f8943-c427-4a44-9e4c-a7780454853e"
      },
      "source": [
        "def h(x):\n",
        "  return 10.5, ['One', 'Two', 'Three'], np.array([1.0, 2.0], dtype = np.float64)\n",
        "\n",
        "result = dataset.map(h)\n",
        "result.element_spec"
      ],
      "execution_count": null,
      "outputs": [
        {
          "output_type": "execute_result",
          "data": {
            "text/plain": [
              "(TensorSpec(shape=(), dtype=tf.float32, name=None),\n",
              " TensorSpec(shape=(3,), dtype=tf.string, name=None),\n",
              " TensorSpec(shape=(2,), dtype=tf.float64, name=None))"
            ]
          },
          "metadata": {},
          "execution_count": 23
        }
      ]
    },
    {
      "cell_type": "code",
      "metadata": {
        "id": "mnMR0g6Y0X8g",
        "colab": {
          "base_uri": "https://localhost:8080/"
        },
        "outputId": "1d1550ea-8309-4042-bcd2-9703c2cbbb9d"
      },
      "source": [
        "def i(x):\n",
        "  return (10.5, [12, 11]), \"One\" ,'Two'\n",
        "\n",
        "result = dataset.map(i)\n",
        "result.element_spec"
      ],
      "execution_count": null,
      "outputs": [
        {
          "output_type": "execute_result",
          "data": {
            "text/plain": [
              "((TensorSpec(shape=(), dtype=tf.float32, name=None),\n",
              "  TensorSpec(shape=(2,), dtype=tf.int32, name=None)),\n",
              " TensorSpec(shape=(), dtype=tf.string, name=None),\n",
              " TensorSpec(shape=(), dtype=tf.string, name=None))"
            ]
          },
          "metadata": {},
          "execution_count": 24
        }
      ]
    },
    {
      "cell_type": "code",
      "metadata": {
        "colab": {
          "base_uri": "https://localhost:8080/"
        },
        "id": "IvAhi3v8S1Hb",
        "outputId": "1800074f-04b1-4104-d7b1-59d6e1c08ec4"
      },
      "source": [
        "dataset = Dataset.from_tensor_slices([1,2,3,4,5,6,7,8,9,10])\n",
        "dataset = dataset.filter(lambda x : x % 2== 1)\n",
        "list(dataset.as_numpy_iterator())"
      ],
      "execution_count": null,
      "outputs": [
        {
          "output_type": "execute_result",
          "data": {
            "text/plain": [
              "[1, 3, 5, 7, 9]"
            ]
          },
          "metadata": {},
          "execution_count": 25
        }
      ]
    },
    {
      "cell_type": "code",
      "metadata": {
        "colab": {
          "base_uri": "https://localhost:8080/"
        },
        "id": "nK9hBHAYTYZB",
        "outputId": "581d4e26-6ee7-431c-d717-46b72436f34f"
      },
      "source": [
        "dataset = Dataset.from_tensor_slices([0,1,2,1,2,1,0,1])\n",
        "dataset = dataset.filter(lambda x : x == 1)\n",
        "list(dataset.as_numpy_iterator())"
      ],
      "execution_count": null,
      "outputs": [
        {
          "output_type": "execute_result",
          "data": {
            "text/plain": [
              "[1, 1, 1, 1]"
            ]
          },
          "metadata": {},
          "execution_count": 26
        }
      ]
    },
    {
      "cell_type": "code",
      "metadata": {
        "colab": {
          "base_uri": "https://localhost:8080/"
        },
        "id": "jrillwO_S1E3",
        "outputId": "c205a170-54bf-471d-ecd9-f2cbfe61a1ad"
      },
      "source": [
        "dataset = Dataset.from_tensor_slices([0,1,2,1,2,1,0,1])\n",
        "def filter_fn(x):\n",
        "  return tf.math.equal(x, 2)\n",
        "\n",
        "dataset = dataset.filter(filter_fn)\n",
        "list(dataset.as_numpy_iterator())"
      ],
      "execution_count": null,
      "outputs": [
        {
          "output_type": "execute_result",
          "data": {
            "text/plain": [
              "[2, 2]"
            ]
          },
          "metadata": {},
          "execution_count": 27
        }
      ]
    },
    {
      "cell_type": "markdown",
      "metadata": {
        "id": "MZlHtx9HiBnw"
      },
      "source": [
        "### shuffle, take"
      ]
    },
    {
      "cell_type": "code",
      "metadata": {
        "id": "yVjGXd0Zg3MV",
        "colab": {
          "base_uri": "https://localhost:8080/",
          "height": 342,
          "referenced_widgets": [
            "0d587b3a963b4a4bb131016aead0c78d",
            "0aa4d517b82c4afd90679dbdf9900437",
            "3480bceb449741189abf22d2801c0af0",
            "c78aac0d972f46b69ca71c93a36309f9",
            "2ebab6b412204b5d81220845806417af",
            "6c048f16623e4e9694dcb62006f868eb",
            "53f959ad3d2e4af9b927ec4c62204190",
            "2c89115973524ed68a584e265e35f84e",
            "1af5352d46874fd99ea5e0ea9dfd6b55",
            "9159c467fe3d473e92b8753e1624d9f6",
            "504913ad3772433ea56579cff5011797",
            "dcf5163a6da844e5825873221d1a59f7",
            "dac1cb5b8ff04e1f8e8c54ff8fa11b5f",
            "9b3e2e292d4b45ed9f14a5d6872ce80f",
            "e70e1f46a9024dbcaea6a0d6a76d59d3",
            "4e1701531b214e5b97a3a640abfbc2e8",
            "e3f2187e4cda4646854180955519cfbc",
            "0cc0823896534d749454ce0daeb4ea48",
            "cc500c8f33b24555a6ca6bae6557b276",
            "d39676448bb541e38d164eb26c7c9051",
            "c1ac33c279064e2aba36119d52293782",
            "ca00fbda5d704578a8d26b3796fc54f4",
            "0ff1e5e5c1624a4cb0f5dad653d9e283",
            "ad34a145e79a40c282688f67733cfb35",
            "a7d1e07d69d24520adac2a64d5d57fe6",
            "e3a11872a5fa48f9af9c5e8079605575",
            "6679c67159514c32bd81748eaa5c7acb",
            "c7db08b8b31e489c95dcd005e572afbc",
            "02d55f31627949cdafcd641271214b33",
            "e5564c07897d487b9e169242f0c6c3af",
            "e74b24480db94e369ea60886278f08dc",
            "1448dc9455e64b0e864992bc1c950fe3",
            "5b2ed03794ae420fb845a466e2bed0ce",
            "937f61c440854e39baa6e5544e7bfaed",
            "6333cde839a6487f9e7f13b1aa97d28b",
            "6e1b5fd685594d6ab0b26fa7bfd428b4",
            "0431edc7323a406c9378d6abfbad1c52",
            "3c7097ca8b7541149c9d280a83352342",
            "12190218b81348c48dd67ca89edaee35",
            "9579142ae6f043f0b47107c271da9cbc",
            "c2c2e73cba2046a5b29af694cf80e695",
            "0983681f09384e97b422f427f8f8bfa0",
            "c491f5a0cdfd4e5c811d40016adb8876",
            "c8486e0bae1c49cf894687e239e713ae",
            "1993ab4ac02b4015b7f4182592824388",
            "cc6a8b6aaf134ba5bfa4ff4292b07156",
            "e5094a0e0c434638b63a897ea0f6e310",
            "bda18f1005014268858c42b25ddfad7c",
            "4455cdabc7814768abbd781e42752238",
            "972af69fe5b34a7c9849639d7c8d0654",
            "20af1e79763b4bad9b0161a8b1243ae7",
            "d2c3ac398bf247a4b842b86bf4ea15c8",
            "4ab9ed133f7441b09cb393a61ad5325d",
            "838e76366fd748878e014260da93e86c",
            "ad5f093940fb4fda8e899ff07d4e1219",
            "189876f0f3d948ec814d0290bb89a2f6",
            "8119f516ecae4789ab7b38fc77e8db7d",
            "1e6b079064a74a8ca6bf6fb9dfbaec28",
            "efaf1186817448a89c2ec2a51ada0a92",
            "12d35495abd34305936f179676e93460",
            "fadc77d87a63402cae44f672515423e1",
            "3d9c447972f743b2b81f287b070a6e9b",
            "f684be278ef44cbbaed0f40054e7a7dc",
            "164e0e80d5f5404dacf537656aaf9fbb",
            "98f1978a13a84539bee4b20dd501d944",
            "2552c2a0b2c645e18ae9da7cc05486ac",
            "97707c74b8784620a77097701065ac7c",
            "479e60f2df92469b8673dc0ec56dc15e",
            "49cd5113623e4d70b232d10983ae5328",
            "e46a5f58f71049eb9c0a8d6e92f1851b",
            "820bfdf83f0440549421964623584872",
            "c150365fa37848cba54ac2cec7db4bf9",
            "cb00eac8071c429c8828610d0629d461",
            "5275d2ff892d473cb178de421f0458e7",
            "b4bf174af9a64420bf0cd0ff907633af",
            "5d591f7a4e904ba0ba74babb3e601dd4",
            "b54197b41ffe4b4688ed10f5d8f09708",
            "c171127e52c049068d22a9a5e2606b14",
            "18185d7eb18340a59c9d8b5d695b6cf9",
            "6907918705f64c58ba89e7236176b25f",
            "d2648695bbba4ecdacc616bfa3848485",
            "1643426f9cd64b05b9ce42e273dace5a",
            "4f8b09f0efab423ca0ba6c8992e10761",
            "1b12ae27aa384ddaae886e05fd3bdf10",
            "ba0632764e314340b0f1db11c796a957",
            "a466728e229c4328a7155f5f12df0b70",
            "f725c4c92c2542fa9095213c80e855e1",
            "b578c3766a644425866a34eb79dc6197"
          ]
        },
        "outputId": "498bdf92-089e-4c74-ea4f-e9b41e8c7ada"
      },
      "source": [
        "dataset, info = tfds.load('imdb_reviews', with_info = True, as_supervised=True)"
      ],
      "execution_count": null,
      "outputs": [
        {
          "output_type": "stream",
          "name": "stdout",
          "text": [
            "\u001b[1mDownloading and preparing dataset imdb_reviews/plain_text/1.0.0 (download: 80.23 MiB, generated: Unknown size, total: 80.23 MiB) to /root/tensorflow_datasets/imdb_reviews/plain_text/1.0.0...\u001b[0m\n"
          ]
        },
        {
          "output_type": "display_data",
          "data": {
            "application/vnd.jupyter.widget-view+json": {
              "model_id": "0d587b3a963b4a4bb131016aead0c78d",
              "version_minor": 0,
              "version_major": 2
            },
            "text/plain": [
              "Dl Completed...: 0 url [00:00, ? url/s]"
            ]
          },
          "metadata": {}
        },
        {
          "output_type": "display_data",
          "data": {
            "application/vnd.jupyter.widget-view+json": {
              "model_id": "dcf5163a6da844e5825873221d1a59f7",
              "version_minor": 0,
              "version_major": 2
            },
            "text/plain": [
              "Dl Size...: 0 MiB [00:00, ? MiB/s]"
            ]
          },
          "metadata": {}
        },
        {
          "output_type": "stream",
          "name": "stdout",
          "text": [
            "\n",
            "\n"
          ]
        },
        {
          "output_type": "display_data",
          "data": {
            "application/vnd.jupyter.widget-view+json": {
              "model_id": "0ff1e5e5c1624a4cb0f5dad653d9e283",
              "version_minor": 0,
              "version_major": 2
            },
            "text/plain": [
              "0 examples [00:00, ? examples/s]"
            ]
          },
          "metadata": {}
        },
        {
          "output_type": "stream",
          "name": "stdout",
          "text": [
            "Shuffling and writing examples to /root/tensorflow_datasets/imdb_reviews/plain_text/1.0.0.incomplete6EAFB2/imdb_reviews-train.tfrecord\n"
          ]
        },
        {
          "output_type": "display_data",
          "data": {
            "application/vnd.jupyter.widget-view+json": {
              "model_id": "937f61c440854e39baa6e5544e7bfaed",
              "version_minor": 0,
              "version_major": 2
            },
            "text/plain": [
              "  0%|          | 0/25000 [00:00<?, ? examples/s]"
            ]
          },
          "metadata": {}
        },
        {
          "output_type": "display_data",
          "data": {
            "application/vnd.jupyter.widget-view+json": {
              "model_id": "1993ab4ac02b4015b7f4182592824388",
              "version_minor": 0,
              "version_major": 2
            },
            "text/plain": [
              "0 examples [00:00, ? examples/s]"
            ]
          },
          "metadata": {}
        },
        {
          "output_type": "stream",
          "name": "stdout",
          "text": [
            "Shuffling and writing examples to /root/tensorflow_datasets/imdb_reviews/plain_text/1.0.0.incomplete6EAFB2/imdb_reviews-test.tfrecord\n"
          ]
        },
        {
          "output_type": "display_data",
          "data": {
            "application/vnd.jupyter.widget-view+json": {
              "model_id": "189876f0f3d948ec814d0290bb89a2f6",
              "version_minor": 0,
              "version_major": 2
            },
            "text/plain": [
              "  0%|          | 0/25000 [00:00<?, ? examples/s]"
            ]
          },
          "metadata": {}
        },
        {
          "output_type": "display_data",
          "data": {
            "application/vnd.jupyter.widget-view+json": {
              "model_id": "97707c74b8784620a77097701065ac7c",
              "version_minor": 0,
              "version_major": 2
            },
            "text/plain": [
              "0 examples [00:00, ? examples/s]"
            ]
          },
          "metadata": {}
        },
        {
          "output_type": "stream",
          "name": "stdout",
          "text": [
            "Shuffling and writing examples to /root/tensorflow_datasets/imdb_reviews/plain_text/1.0.0.incomplete6EAFB2/imdb_reviews-unsupervised.tfrecord\n"
          ]
        },
        {
          "output_type": "display_data",
          "data": {
            "application/vnd.jupyter.widget-view+json": {
              "model_id": "c171127e52c049068d22a9a5e2606b14",
              "version_minor": 0,
              "version_major": 2
            },
            "text/plain": [
              "  0%|          | 0/50000 [00:00<?, ? examples/s]"
            ]
          },
          "metadata": {}
        },
        {
          "output_type": "stream",
          "name": "stderr",
          "text": [
            "WARNING:absl:Dataset is using deprecated text encoder API which will be removed soon. Please use the plain_text version of the dataset and migrate to `tensorflow_text`.\n"
          ]
        },
        {
          "output_type": "stream",
          "name": "stdout",
          "text": [
            "\u001b[1mDataset imdb_reviews downloaded and prepared to /root/tensorflow_datasets/imdb_reviews/plain_text/1.0.0. Subsequent calls will reuse this data.\u001b[0m\n"
          ]
        }
      ]
    },
    {
      "cell_type": "code",
      "metadata": {
        "id": "aIYeC8XMg3JR",
        "colab": {
          "base_uri": "https://localhost:8080/"
        },
        "outputId": "66011cd5-1151-44cf-ea69-6aaea67e5c97"
      },
      "source": [
        "train_dataset = dataset['train']\n",
        "train_dataset = train_dataset.batch(5).shuffle(5).take(2)\n",
        "\n",
        "for data in train_dataset:\n",
        "  print(data)\n"
      ],
      "execution_count": null,
      "outputs": [
        {
          "output_type": "stream",
          "name": "stdout",
          "text": [
            "(<tf.Tensor: shape=(5,), dtype=string, numpy=\n",
            "array([b'It was disgusting and painful. What a waste of a cast! I swear, the audience (1/2 full) laughed TWICE in 90 minutes. This is not a lie. Do not even rent it.<br /><br />Zeta Jones was just too mean to be believable.<br /><br />Cusack was OK. Just OK. I felt sorry for him (the actor) in case people remember this mess.<br /><br />Roberts was the same as she always is. Charming and sweet, but with no purpose. The \"romance\" with John was completely unbelievable.',\n",
            "       b'This is a straight-to-video movie, so it should go without saying that it\\'s not going to rival the first Lion King, but that said, this was downright good.<br /><br />My kids loved this, but that\\'s a given, they love anything that\\'s a cartoon. The big shock was that *I* liked it too, it was laugh out loud funny at some parts (even the fart jokes*), had lots of rather creative tie-ins with the first movie, and even some jokes that you had to be older to understand (but without being risqu\\xc3\\xa9 like in Shrek [\"do you think he\\'s compensating for something?\"]).<br /><br />A special note on the fart jokes, I was surprised to find that none of the jokes were just toilet noises (in fact there were almost no noises/imagery at all, the references were actually rather subtle), they actually had a setup/punchline/etc, and were almost in good taste. I\\'d like my kids to think that there\\'s more to humor than going to the bathroom, and this movie is fine in those regards.<br /><br />Hmm what else? The music was so-so, not nearly as creative as in the first or second movie, but plenty of fun for the kids. No painfully corny moments, which was a blessing for me. A little action but nothing too scary (the Secret of NIMH gave my kids nightmares, not sure a G rating was appropriate for that one...)<br /><br />All in all I\\'d say this is a great movie for kids of any age, one that\\'s 100% safe to let them watch (I try not to be overly sensitive but I\\'ve had to jump up and turn off the TV during a few movies that were less kid-appropriate than expected) - but you\\'re safe to leave the room during this one. I\\'d say stick around anyway though, you might find that you enjoy it too :)',\n",
            "       b'Finally, Timon and Pumbaa in their own film...<br /><br />\\'The Lion King 1 1/2: Hakuna Matata\\' is an irreverent new take on a classic tale. Which classic tale, you ask? Why, \\'The Lion King\\' of course!<br /><br />Yep, if there\\'s one thing that Disney is never short of, it\\'s narcissism.<br /><br />But that doesn\\'t mean that this isn\\'t a good film. It\\'s basically the events of \\'The Lion King\\' as told from Timon and Pumbaa\\'s perspective. And it\\'s because of this that you\\'ll have to know the story of \\'The Lion King\\' by heart to see where they\\'re coming from.<br /><br />Anyway, at one level I was watching this and thinking \"Oh my god this is so lame...\" and on another level I was having a ball. Much of the humour is predictable - I mean, when Pumbaa makes up two beds, a big one for himself and a small one for Timon, within the first nanosecond we all know that Timon is going to take the big one. But that doesn\\'t stop it from being hilarious, which, IMO, is \\'Hakuna Matata\\' in a nutshell. It\\'s not what happens, it\\'s how.<br /><br />And a note of warning: there are also some fart jokes. Seriously, did you expect anything else in a film where Pumbaa takes centre stage? But as fart jokes go, these are especially good, and should satisfy even the most particular connoisseur.<br /><br />The returning voice talent is great. I\\'m kinda surprised that some of the actors were willing to return, what with most of them only having two or three lines (if they\\'re lucky). Whoopi Goldberg is particularly welcome.<br /><br />The music is also great. From \\'Digga Tunnah\\' at the start to \\'That\\'s all I need\\', an adaption of \\'Warthog Rhapsody\\' (a song that was cut from \\'The Lion King\\' and is frankly much improved in this incarnation), the music leaves me with nothing to complain about whatsoever.<br /><br />In the end, Timon and Pumbaa are awesome characters, and while it may be argued that \\'Hakuna Matata\\' is simply an excuse to see them in various fun and assorted compromising situations then so be it. It\\'s rare to find characters that you just want to spend time with.<br /><br />Am I starting to sound creepy?<br /><br />Either way, \\'The Lion King 1 1/2\\' is great if you\\'ve seen \\'The Lion King\\' far too many times. Especially if you are right now thinking \"Don\\'t be silly, there\\'s no such thing as seeing \\'The Lion King\\' too many times!\"',\n",
            "       b'Indian Directors have it tough, They have to compete with movies like \"Laggan\" where 11 henpecked,Castrated males defend their village and half of them are certifiable idiots. \"Devdas\", a hapless, fedar- festooned foreign return drinking to oblivion, with characters running in endless corridors oblivious to any one\\'s feelings or sentiments-alas they live in an ornate squalor of red tapestry and pageantry. But to make a good movie, you have to tight-rope walk to appease the frontbenchers who are the quentessential gapers who are mesmerized with Split skirts and Dishum-Dishum fights preferably involving a nitwit \"Bollywood\" leading actor who is marginally handsome. So you can connect with a director who wants to tell a tale of Leonine village head who in own words \"defending his Village\" this is considered a violent movie or too masculine for a male audience. There are very few actors who can convey the anger and pathos like Nana Patekar (Narasimhan). Nana Patekar lets you in his courtyard and watch him beret and mock the Politician when his loyal admirers burst in laughter with every word of satire thrown at him, meanwhile his daughter is bathing his Grandson.This is as authentic a scene you can get in rural India. Nana Patekar is the essential actor who belongs to the old school of acting which is a disappearing breed in Hindi Films. The violence depicted is an intricate part of storytelling with Song&Dances thrown in for the gawkers without whom movies won\\'t sell, a sad but true state of affairs. Faster this changes better for \"Bollywood\". All said and done this is one good Movie.',\n",
            "       b\"Nathan Detroit runs illegal craps games for high rollers in NYC, but the heat is on and he can't find a secure location. He bets chronic gambler Sky Masterson that Sky can't make a prim missionary, Sarah Brown, go out to dinner with him. Sky takes up the challenge, but both men have some surprises in store \\xc2\\x85<br /><br />This is one of those expensive fifties MGM musicals in splashy colour, with big sets, loud music, larger-than-life roles and performances to match; Broadway photographed for the big screen if you like that sort of thing, which I don't. My main problem with these type of movies is simply the music. I like all kinds of music, from Albinoni to ZZ Top, but Broadway show tunes in swing time with never-ending pah-pah-tah-dah trumpet flourishes at the end of every fourth bar aren't my cup of tea. This was written by the tag team of Frank Loesser, Mankiewicz, Jo Swerling and Abe Burrows (based on a couple of Damon Runyon stories), and while the plot is quite affable the songs are weak. Blaine's two numbers for example are identical, unnecessary, don't advance the plot and grate on the ears (and are also flagrantly misogynistic if that sort of thing bothers you). There are only two memorable tunes, Luck Be A Lady (sung by Brando, not Sinatra as you might expect) and Sit Down, You're Rockin' The Boat (nicely performed by Kaye) but you have to sit through two hours to get to them. The movie's trump card is a young Brando giving a thoughtful, laid-back performance; he also sings quite well and even dances a little, and is evenly matched with the always interesting Simmons. The sequence where the two of them escape to Havana for the night is a welcome respite from all the noise, bustle and vowel-murdering of Noo Yawk. Fans of musicals may dig this, but in my view a musical has to do something more than just film the stage show.\"],\n",
            "      dtype=object)>, <tf.Tensor: shape=(5,), dtype=int64, numpy=array([0, 1, 1, 1, 0])>)\n",
            "(<tf.Tensor: shape=(5,), dtype=string, numpy=\n",
            "array([b'During a sleepless night, I was switching through the channels & found this embarrassment of a movie. What were they thinking?<br /><br />If this is life after \"Remote Control\" for Kari (Wuhrer) Salin, no wonder she\\'s gone nowhere.<br /><br />And why did David Keith take this role? It\\'s pathetic!<br /><br />Anyway, I turned on the movie near the end, so I didn\\'t get much of the plot. But this must\\'ve been the best part. This nerdy college kid brings home this dominatrix-ish girl...this scene is straight out of the comic books -- or the cheap porn movies. She calls the mother anal retentive and kisses the father \"Oh, I didn\\'t expect tongue!\" Great lines!<br /><br />After this, I had to see how it ended..<br /><br />Well, of course, this bitch from hell has a helluva past, so the SWAT team is upstairs. And yes...they surround her! And YES YES! The kid blows her brains out!!!! AHAHHAHAHAHA!!<br /><br />This is must-see TV. <br /><br />',\n",
            "       b'Cute film about three lively sisters from Switzerland (often seen running about in matching outfits) who want to get their parents back together (seems mom is still carrying the torch for dad) - so they sail off to New York to stop the dad from marrying a blonde gold-digger he calls \"Precious\". Dad hasn\\'t seen his daughters in ten years, they (oddly enough) don\\'t seem to mind and think he\\'s wonderful, and meanwhile Precious seems to lead a life mainly run by her overbearing mother (Alice Brady), a woman who just wants to see to it her daughter marries a rich man. The sisters get the idea of pushing Precious into the path of a drunken Hungarian count, tricking the two gold-digging women into thinking he is one of the richest men in Europe. But a case of mistaken identity makes the girls think the count is good-looking Ray Milland, who goes along with the scheme \\'cause he has a crush on sister Kay.<br /><br />This film is enjoyable, light fare. Barbara Read as Kay comes across as sweet and pretty, Ray Milland looks oh so young and handsome here (though, unfortunately, is given little to do), Alice Brady is quite good as the scheming mother - but it is Deanna Durbin, a real charmer and cute as a button playing youngest sister Penny, who pretty much steals the show. With absolutely beautiful vocals, she sings several songs throughout the film, though I actually would have liked to have seen them feature her even more in this. The plot in this film is a bit silly, but nevertheless, I found the film to be entertaining and fun.',\n",
            "       b\"This 1984 version of the Dickens' classic `A Christmas Carol,' directed by Clive Donner, stars George C. Scott as Ebenezer Scrooge. By this time around, the challenge for the filmmaker was to take such familiar material and make it seem fresh and new again; and, happily to say, with this film Donner not only met the challenge but surpassed any expectations anyone might have had for it. He tells the story with precision and an eye to detail, and extracts performances from his actors that are nothing less than superlative, especially Scott. One could argue that the definitive portrayal of Scrooge-- one of the best known characters in literary fiction, ever-- was created by Alastair Sim in the 1951 film; but I think with his performance here, Scott has now achieved that distinction. There is such a purity and honesty in his Scrooge that it becomes difficult to even consider anyone else in the role once you've seen Scott do it; simply put, he IS Scrooge. And what a tribute it is to such a gifted actor; to be able to take such a well known figure and make it so uniquely his own is quite miraculous. It is truly a joy to see an actor ply his trade so well, to be able to make a character so real, from every word he utters down to the finest expression of his face, and to make it all ring so true. It's a study in perfection.<br /><br />The other members of the cast are splendid as well, but then again they have to be in order to maintain the integrity of Scott's performance; and they do. Frank Finlay is the Ghost of Jacob Marley; a notable turn, though not as memorable, perhaps, as the one by Alec Guinness (as Marley) in the film, `Scrooge.' Angela Pleasence is a welcome visage as the Spirit of Christmas Past; Edward Woodward, grand and boisterous, and altogether convincing as the Spirit of Christmas Present; and Michael Carter, grim and menacing as the Spirit of Christmas Yet To Come.<br /><br />David Warner hits just the right mark with his Bob Cratchit, bringing a sincerity to the role that measures up well to the standard of quality set by Scott's Scrooge, and Susannah York fares just as well as Mrs. Cratchit. The real gem to be found here, though, is the performance of young Anthony Walters as Tiny Tim; it's heartfelt without ever becoming maudlin, and simply one of the best interpretations-- and the most real-- ever presented on film.<br /><br />The excellent supporting cast includes Roger Rees (Fred Holywell, and also the narrator of the film), Caroline Langrishe (Janet Holywell), Lucy Gutteridge (Belle), Michael Gough (Mr. Poole) and Joanne Whalley (Fan). A flawless presentation, this version of `A Christmas Carol' sets the standard against which all others must be gauged; no matter how many versions you may have seen, watching this one is like seeing it for the first time ever. And forever after, whenever you think of Scrooge, the image your mind will conjure up will be that of George C. Scott. A thoroughly entertaining and satisfying experience, this film demands a place in the annual schedule of the holiday festivities of every home. I rate this one 10/10.\",\n",
            "       b'Put the blame on executive producer Wes Craven and financiers the Weinsteins for this big-budget debacle: a thrash-metal updating of \"Dracula\", with a condescending verbal jab at Bram Stoker (who probably wouldn\\'t want his name on this thing anyway) and nothing much for the rest of us except slasher-styled jolts and gore. Christopher Plummer looks winded as Van Helsing in the modern-day--not just a descendant of Van Helsing but the real thing; he keeps himself going with leeches obtained from Count Dracula\\'s corpse, which is exhumed from its coffin after being stolen from Van Helsing\\'s vault and flown to New Orleans. This is just what New Orleans needs in the 21st Century! The film, well-produced but without a single original idea (except for multi-racial victims), is both repulsive and lazy, and after about an hour starts repeating itself. * from ****',\n",
            "       b'Hilarious, evocative, confusing, brilliant film. Reminds me of Bunuel\\'s L\\'Age D\\'Or or Jodorowsky\\'s Holy Mountain-- lots of strange characters mucking about and looking for..... what is it? I laughed almost the whole way through, all the while keeping a peripheral eye on the bewildered and occasionally horrified reactions of the audience that surrounded me in the theatre. Entertaining through and through, from the beginning to the guts and poisoned entrails all the way to the end, if it was an end. I only wish i could remember every detail. It haunts me sometimes.<br /><br />Honestly, though, i have only the most positive recollections of this film. As it doesn\\'t seem to be available to take home and watch, i suppose i\\'ll have to wait a few more years until Crispin Glover comes my way again with his Big Slide Show (and subsequent \"What is it?\" screening)... I saw this film in Atlanta almost directly after being involved in a rather devastating car crash, so i was slightly dazed at the time, which was perhaps a very good state of mind to watch the prophetic talking arthropods and the retards in the superhero costumes and godlike Glover in his appropriate burly-Q setting, scantily clad girlies rising out of the floor like a magnificent DADAist wet dream.<br /><br />Is it a statement on Life As We Know It? Of course everyone EXPECTS art to be just that. I rather think that the truth is more evident in the absences and in the negative space. What you don\\'t tell us is what we must deduce, but is far more valid than the lies that other people feed us day in and day out. Rather one \"WHAT IS IT?\" than 5000 movies like \"Titanic\" or \"Sleepless in Seattle\" (shudder, gag, groan).<br /><br />Thank you, Mr. Glover (additionally a fun man to watch on screen or at his Big Slide Show-- smart, funny, quirky, and outrageously hot). Make more films, write more books, keep the nightmare alive.'],\n",
            "      dtype=object)>, <tf.Tensor: shape=(5,), dtype=int64, numpy=array([0, 1, 1, 0, 1])>)\n"
          ]
        }
      ]
    },
    {
      "cell_type": "markdown",
      "metadata": {
        "id": "4OqOaYk6k7wy"
      },
      "source": [
        "### get_next()"
      ]
    },
    {
      "cell_type": "code",
      "metadata": {
        "id": "m57rjJsskp8t",
        "colab": {
          "base_uri": "https://localhost:8080/"
        },
        "outputId": "b161227c-485f-4ab7-b9e3-7fda5a7ac3f0"
      },
      "source": [
        "dataset = Dataset.range(2)\n",
        "for element in dataset:\n",
        "  print(element)"
      ],
      "execution_count": null,
      "outputs": [
        {
          "output_type": "stream",
          "name": "stdout",
          "text": [
            "tf.Tensor(0, shape=(), dtype=int64)\n",
            "tf.Tensor(1, shape=(), dtype=int64)\n"
          ]
        }
      ]
    },
    {
      "cell_type": "code",
      "metadata": {
        "id": "vitlC-JCkp4U",
        "colab": {
          "base_uri": "https://localhost:8080/"
        },
        "outputId": "8b12f43c-740b-41ae-d641-44d19753a74b"
      },
      "source": [
        "dataset = Dataset.range(2)\n",
        "iterator = iter(dataset)\n",
        "\n",
        "print(dataset)\n",
        "print(iterator.get_next())\n",
        "print(iterator.get_next())"
      ],
      "execution_count": null,
      "outputs": [
        {
          "output_type": "stream",
          "name": "stdout",
          "text": [
            "<RangeDataset shapes: (), types: tf.int64>\n",
            "tf.Tensor(0, shape=(), dtype=int64)\n",
            "tf.Tensor(1, shape=(), dtype=int64)\n"
          ]
        }
      ]
    },
    {
      "cell_type": "code",
      "metadata": {
        "id": "6o4XRcpLg3Fm",
        "colab": {
          "base_uri": "https://localhost:8080/"
        },
        "outputId": "79bf73ee-affc-4032-c93b-e68e186abbb9"
      },
      "source": [
        "a = np.random.randint(0, 10 ,size = (2, 3))\n",
        "print(a)\n",
        "dataset = Dataset.from_tensor_slices(a)\n",
        "\n",
        "iterator = iter(dataset)\n",
        "print(iterator.get_next())\n",
        "print(iterator.get_next())"
      ],
      "execution_count": null,
      "outputs": [
        {
          "output_type": "stream",
          "name": "stdout",
          "text": [
            "[[5 1 1]\n",
            " [5 6 7]]\n",
            "tf.Tensor([5 1 1], shape=(3,), dtype=int64)\n",
            "tf.Tensor([5 6 7], shape=(3,), dtype=int64)\n"
          ]
        }
      ]
    },
    {
      "cell_type": "markdown",
      "metadata": {
        "id": "oAK97VN4JObZ"
      },
      "source": [
        "## tf.dataset을 이용한 Fashion-MNIST 분류"
      ]
    },
    {
      "cell_type": "markdown",
      "metadata": {
        "id": "8FyGWr9h5s9m"
      },
      "source": [
        "### modules import"
      ]
    },
    {
      "cell_type": "code",
      "metadata": {
        "id": "wtumZQhkobI5"
      },
      "source": [
        "import matplotlib.pyplot as plt\n",
        "\n",
        "plt.style.use('seaborn-white')\n",
        "import tensorflow as tf\n",
        "\n",
        "from tensorflow.keras.layers import Dense, Input, Flatten, Dropout, Activation, BatchNormalization\n",
        "from tensorflow.keras.models import Model\n",
        "from tensorflow.keras.datasets.fashion_mnist import load_data"
      ],
      "execution_count": null,
      "outputs": []
    },
    {
      "cell_type": "markdown",
      "metadata": {
        "id": "VOTtgNwc3R6f"
      },
      "source": [
        "### 데이터 로드"
      ]
    },
    {
      "cell_type": "code",
      "metadata": {
        "id": "8434sHHjob1L",
        "colab": {
          "base_uri": "https://localhost:8080/"
        },
        "outputId": "7ab042da-c6cb-4a04-9965-0958b04771d2"
      },
      "source": [
        "(x_train, y_train), (x_test, y_test) = load_data()"
      ],
      "execution_count": null,
      "outputs": [
        {
          "output_type": "stream",
          "name": "stdout",
          "text": [
            "Downloading data from https://storage.googleapis.com/tensorflow/tf-keras-datasets/train-labels-idx1-ubyte.gz\n",
            "32768/29515 [=================================] - 0s 0us/step\n",
            "40960/29515 [=========================================] - 0s 0us/step\n",
            "Downloading data from https://storage.googleapis.com/tensorflow/tf-keras-datasets/train-images-idx3-ubyte.gz\n",
            "26427392/26421880 [==============================] - 0s 0us/step\n",
            "26435584/26421880 [==============================] - 0s 0us/step\n",
            "Downloading data from https://storage.googleapis.com/tensorflow/tf-keras-datasets/t10k-labels-idx1-ubyte.gz\n",
            "16384/5148 [===============================================================================================] - 0s 0us/step\n",
            "Downloading data from https://storage.googleapis.com/tensorflow/tf-keras-datasets/t10k-images-idx3-ubyte.gz\n",
            "4423680/4422102 [==============================] - 0s 0us/step\n",
            "4431872/4422102 [==============================] - 0s 0us/step\n"
          ]
        }
      ]
    },
    {
      "cell_type": "code",
      "metadata": {
        "id": "bfxxi0TJ3kwq",
        "colab": {
          "base_uri": "https://localhost:8080/"
        },
        "outputId": "d60dbd3f-675e-43bb-cd9a-39f61b0f8430"
      },
      "source": [
        "print(x_train.shape)\n",
        "print(y_train.shape)\n",
        "print(x_test.shape)\n",
        "print(y_test.shape)"
      ],
      "execution_count": null,
      "outputs": [
        {
          "output_type": "stream",
          "name": "stdout",
          "text": [
            "(60000, 28, 28)\n",
            "(60000,)\n",
            "(10000, 28, 28)\n",
            "(10000,)\n"
          ]
        }
      ]
    },
    {
      "cell_type": "markdown",
      "metadata": {
        "id": "PPR9OD1w3mBQ"
      },
      "source": [
        "### 데이터 전처리"
      ]
    },
    {
      "cell_type": "code",
      "metadata": {
        "id": "U3W43mhxob4P"
      },
      "source": [
        "x_train = x_train / 255.\n",
        "x_test = x_test / 255."
      ],
      "execution_count": null,
      "outputs": []
    },
    {
      "cell_type": "markdown",
      "metadata": {
        "id": "nm8NM-QX32sf"
      },
      "source": [
        "### tf.data 이용"
      ]
    },
    {
      "cell_type": "code",
      "metadata": {
        "id": "VC9howR-obaW"
      },
      "source": [
        "train_ds = Dataset.from_tensor_slices((x_train, y_train))\n",
        "train_ds = train_ds.shuffle(1000)\n",
        "train_ds = train_ds.batch(32)\n",
        "\n",
        "test_ds = Dataset.from_tensor_slices((x_test, y_test))\n",
        "test_ds = test_ds.batch(32)"
      ],
      "execution_count": null,
      "outputs": []
    },
    {
      "cell_type": "code",
      "metadata": {
        "id": "FkbVvnrU5Idc"
      },
      "source": [
        "class_names = ['T-shirt/top', 'Trouser', 'Pullover', 'Dress', 'Coat',\n",
        "               'Sanda', 'Shirt', 'Sneaker', 'Bag', 'Ankle boot']"
      ],
      "execution_count": null,
      "outputs": []
    },
    {
      "cell_type": "markdown",
      "metadata": {
        "id": "aXJEB1qg4eB0"
      },
      "source": [
        "### 데이터 확인"
      ]
    },
    {
      "cell_type": "code",
      "metadata": {
        "id": "COlETHf2obVD",
        "colab": {
          "base_uri": "https://localhost:8080/",
          "height": 1000
        },
        "outputId": "8a9d6239-8796-48d7-f3bf-b53a6accca10"
      },
      "source": [
        "for image, label in train_ds.take(5):\n",
        "  plt.title('{}'.format(class_names[label[0]]))\n",
        "  plt.imshow(image[0, :, :], cmap = 'gray')\n",
        "  plt.show()"
      ],
      "execution_count": null,
      "outputs": [
        {
          "output_type": "display_data",
          "data": {
            "image/png": "[encoded data removed]",
            "text/plain": [
              "<Figure size 432x288 with 1 Axes>"
            ]
          },
          "metadata": {}
        },
        {
          "output_type": "display_data",
          "data": {
            "image/png": "[encoded data removed]",
            "text/plain": [
              "<Figure size 432x288 with 1 Axes>"
            ]
          },
          "metadata": {}
        },
        {
          "output_type": "display_data",
          "data": {
            "image/png": "[encoded data removed]",
            "text/plain": [
              "<Figure size 432x288 with 1 Axes>"
            ]
          },
          "metadata": {}
        },
        {
          "output_type": "display_data",
          "data": {
            "image/png": "[encoded data removed]",
            "text/plain": [
              "<Figure size 432x288 with 1 Axes>"
            ]
          },
          "metadata": {}
        },
        {
          "output_type": "display_data",
          "data": {
            "image/png": "[encoded data removed]",
            "text/plain": [
              "<Figure size 432x288 with 1 Axes>"
            ]
          },
          "metadata": {}
        }
      ]
    },
    {
      "cell_type": "markdown",
      "metadata": {
        "id": "-2PTjY1D5g4L"
      },
      "source": [
        "### 모델 생성\n",
        "- 임의의 모델"
      ]
    },
    {
      "cell_type": "code",
      "metadata": {
        "id": "g29WUBIKobRN"
      },
      "source": [
        "def build_model():\n",
        "  input = Input(shape = (28, 28), name = 'input')\n",
        "  flatten = Flatten(input_shape = [28.28], name = 'flatten')(input)\n",
        "  hidden1 = Dense(256, kernel_initializer= 'he_normal', name = 'hidden1')(flatten)\n",
        "  hidden1 = BatchNormalization()(hidden1)\n",
        "  hidden1 = Activation('relu')(hidden1)\n",
        "  dropout1 = Dropout(0.5)(hidden1)\n",
        "\n",
        "  hidden2 = Dense(256, kernel_initializer= 'he_normal', name = 'hidden2')(dropout1)\n",
        "  hidden2 = BatchNormalization()(hidden2)\n",
        "  hidden2 = Activation('relu')(hidden2)\n",
        "  dropout2 = Dropout(0.5)(hidden2)\n",
        "\n",
        "  hidden3 = Dense(256, kernel_initializer= 'he_normal', name = 'hidden3')(dropout2)\n",
        "  hidden3 = BatchNormalization()(hidden3)\n",
        "  hidden3 = Activation('relu')(hidden3)\n",
        "  dropout3 = Dropout(0.5)(hidden3)\n",
        "\n",
        "  hidden4 = Dense(256, kernel_initializer= 'he_normal', name = 'hidden4')(dropout3)\n",
        "  hidden4 = BatchNormalization()(hidden4)\n",
        "  hidden4 = Activation('relu')(hidden4)\n",
        "  dropout4 = Dropout(0.5)(hidden4)\n",
        "\n",
        "  output = Dense(10, activation='softmax', name = 'output')(dropout4)\n",
        "\n",
        "  model = Model(inputs = [input], outputs = output)\n",
        "\n",
        "  return model"
      ],
      "execution_count": null,
      "outputs": []
    },
    {
      "cell_type": "code",
      "metadata": {
        "id": "q7YYIDZq8iRN"
      },
      "source": [
        "model = build_model()"
      ],
      "execution_count": null,
      "outputs": []
    },
    {
      "cell_type": "code",
      "metadata": {
        "id": "qNlPrHBT9w-G",
        "colab": {
          "base_uri": "https://localhost:8080/"
        },
        "outputId": "7984f84b-4ad8-402f-a54c-a647b730234b"
      },
      "source": [
        "model.summary()"
      ],
      "execution_count": null,
      "outputs": [
        {
          "output_type": "stream",
          "name": "stdout",
          "text": [
            "Model: \"model\"\n",
            "_________________________________________________________________\n",
            "Layer (type)                 Output Shape              Param #   \n",
            "=================================================================\n",
            "input (InputLayer)           [(None, 28, 28)]          0         \n",
            "_________________________________________________________________\n",
            "flatten (Flatten)            (None, 784)               0         \n",
            "_________________________________________________________________\n",
            "hidden1 (Dense)              (None, 256)               200960    \n",
            "_________________________________________________________________\n",
            "batch_normalization (BatchNo (None, 256)               1024      \n",
            "_________________________________________________________________\n",
            "activation (Activation)      (None, 256)               0         \n",
            "_________________________________________________________________\n",
            "dropout (Dropout)            (None, 256)               0         \n",
            "_________________________________________________________________\n",
            "hidden2 (Dense)              (None, 256)               65792     \n",
            "_________________________________________________________________\n",
            "batch_normalization_1 (Batch (None, 256)               1024      \n",
            "_________________________________________________________________\n",
            "activation_1 (Activation)    (None, 256)               0         \n",
            "_________________________________________________________________\n",
            "dropout_1 (Dropout)          (None, 256)               0         \n",
            "_________________________________________________________________\n",
            "hidden3 (Dense)              (None, 256)               65792     \n",
            "_________________________________________________________________\n",
            "batch_normalization_2 (Batch (None, 256)               1024      \n",
            "_________________________________________________________________\n",
            "activation_2 (Activation)    (None, 256)               0         \n",
            "_________________________________________________________________\n",
            "dropout_2 (Dropout)          (None, 256)               0         \n",
            "_________________________________________________________________\n",
            "hidden4 (Dense)              (None, 256)               65792     \n",
            "_________________________________________________________________\n",
            "batch_normalization_3 (Batch (None, 256)               1024      \n",
            "_________________________________________________________________\n",
            "activation_3 (Activation)    (None, 256)               0         \n",
            "_________________________________________________________________\n",
            "dropout_3 (Dropout)          (None, 256)               0         \n",
            "_________________________________________________________________\n",
            "output (Dense)               (None, 10)                2570      \n",
            "=================================================================\n",
            "Total params: 405,002\n",
            "Trainable params: 402,954\n",
            "Non-trainable params: 2,048\n",
            "_________________________________________________________________\n"
          ]
        }
      ]
    },
    {
      "cell_type": "markdown",
      "metadata": {
        "id": "8noHcg8C6xMM"
      },
      "source": [
        "### 모델 컴파일\n",
        "- 평가(metrics)방식의 다른 방법\n",
        "  - `tf.keras.metrics.Mean`\n",
        "  - `tf.keras.metrics.SparseCategoricalAccuracy`\n",
        "\n",
        "- 위 두 방식을 사용하여 loss값을 좀 더 smooth하게 만들기(평균을 내는 방식)"
      ]
    },
    {
      "cell_type": "code",
      "metadata": {
        "id": "gpjwC1pa7pvI"
      },
      "source": [
        "loss_object = tf.keras.losses.SparseCategoricalCrossentropy()\n",
        "optimizer = tf.keras.optimizers.Adam()"
      ],
      "execution_count": null,
      "outputs": []
    },
    {
      "cell_type": "code",
      "metadata": {
        "id": "DSA2H53-6967"
      },
      "source": [
        "train_loss = tf.keras.metrics.Mean(name = 'train_loss')\n",
        "train_accuracy = tf.keras.metrics.SparseCategoricalAccuracy(name = 'train_accuracy')\n",
        "\n",
        "test_loss = tf.keras.metrics.Mean(name = 'test_loss')\n",
        "test_accuracy = tf.keras.metrics.SparseCategoricalAccuracy(name = 'test_accuracy')"
      ],
      "execution_count": null,
      "outputs": []
    },
    {
      "cell_type": "markdown",
      "metadata": {
        "id": "1uC7KjrU6WqL"
      },
      "source": [
        "### 모델 학습"
      ]
    },
    {
      "cell_type": "markdown",
      "metadata": {
        "id": "ZTF2mvFYRoj_"
      },
      "source": [
        "@tf.function 으로 인해 학습이 시작되면 그래프를 생성하여 속도가 빠름\n"
      ]
    },
    {
      "cell_type": "code",
      "metadata": {
        "id": "rRw0DDmqobEv"
      },
      "source": [
        "@tf.function\n",
        "def train_step(images, labels):\n",
        "\n",
        "  with tf.GradientTape() as tape:\n",
        "    predictions = model(images)\n",
        "    loss = loss_object(labels, predictions)\n",
        "  \n",
        "  gradients = tape.gradient(loss ,model.trainable_variables)\n",
        "  optimizer.apply_gradients(zip(gradients, model.trainable_variables))\n",
        "\n",
        "  train_loss(loss)\n",
        "  train_accuracy(labels, predictions)"
      ],
      "execution_count": null,
      "outputs": []
    },
    {
      "cell_type": "code",
      "metadata": {
        "id": "rKoMJ7iJobB_"
      },
      "source": [
        "@tf.function\n",
        "def test_step(images, labels):\n",
        "  predictions = model(images)\n",
        "  t_loss = loss_object(labels, predictions)\n",
        "\n",
        "  test_loss(t_loss)\n",
        "  test_accuracy(labels, predictions)"
      ],
      "execution_count": null,
      "outputs": []
    },
    {
      "cell_type": "code",
      "metadata": {
        "id": "sYkJhFWIoa_m",
        "colab": {
          "base_uri": "https://localhost:8080/"
        },
        "outputId": "c6d41089-0c7f-437e-8843-3db06a89d110"
      },
      "source": [
        "epochs = 20\n",
        "\n",
        "for epoch in range(epochs):\n",
        "  for images, labels in train_ds:\n",
        "    train_step(images, labels)\n",
        "  \n",
        "  for test_images, test_labels in test_ds:\n",
        "    test_step(test_images, test_labels)\n",
        "  \n",
        "  template = 'Epochs : {:3d}\\tLoss: {:.4f}\\tAccuracy: {:.4f}\\tTest Loss{:.4f}\\tTest Accuracy: {:.4f}\\t'\n",
        "  print(template.format(epoch+1,\n",
        "                        train_loss.result(),\n",
        "                        train_accuracy.result()*100,\n",
        "                        test_loss.result(),\n",
        "                        test_accuracy.result() * 100))"
      ],
      "execution_count": null,
      "outputs": [
        {
          "output_type": "stream",
          "name": "stdout",
          "text": [
            "Epochs :   1\tLoss: 0.3951\tAccuracy: 85.4494\tTest Loss0.4057\tTest Accuracy: 85.6200\t\n",
            "Epochs :   2\tLoss: 0.3742\tAccuracy: 86.1904\tTest Loss0.3876\tTest Accuracy: 86.1650\t\n",
            "Epochs :   3\tLoss: 0.3577\tAccuracy: 86.7890\tTest Loss0.3784\tTest Accuracy: 86.4433\t\n",
            "Epochs :   4\tLoss: 0.3440\tAccuracy: 87.2714\tTest Loss0.3704\tTest Accuracy: 86.8000\t\n",
            "Epochs :   5\tLoss: 0.3323\tAccuracy: 87.6862\tTest Loss0.3678\tTest Accuracy: 86.9580\t\n",
            "Epochs :   6\tLoss: 0.3225\tAccuracy: 88.0379\tTest Loss0.3617\tTest Accuracy: 87.1350\t\n",
            "Epochs :   7\tLoss: 0.3136\tAccuracy: 88.3461\tTest Loss0.3590\tTest Accuracy: 87.2414\t\n",
            "Epochs :   8\tLoss: 0.3055\tAccuracy: 88.6242\tTest Loss0.3571\tTest Accuracy: 87.3788\t\n",
            "Epochs :   9\tLoss: 0.2984\tAccuracy: 88.8817\tTest Loss0.3559\tTest Accuracy: 87.4789\t\n",
            "Epochs :  10\tLoss: 0.2917\tAccuracy: 89.1233\tTest Loss0.3562\tTest Accuracy: 87.5550\t\n",
            "Epochs :  11\tLoss: 0.2852\tAccuracy: 89.3437\tTest Loss0.3583\tTest Accuracy: 87.5836\t\n",
            "Epochs :  12\tLoss: 0.2792\tAccuracy: 89.5554\tTest Loss0.3609\tTest Accuracy: 87.6550\t\n",
            "Epochs :  13\tLoss: 0.2735\tAccuracy: 89.7616\tTest Loss0.3608\tTest Accuracy: 87.7523\t\n",
            "Epochs :  14\tLoss: 0.2683\tAccuracy: 89.9470\tTest Loss0.3647\tTest Accuracy: 87.7586\t\n",
            "Epochs :  15\tLoss: 0.2633\tAccuracy: 90.1225\tTest Loss0.3661\tTest Accuracy: 87.8260\t\n",
            "Epochs :  16\tLoss: 0.2587\tAccuracy: 90.2819\tTest Loss0.3667\tTest Accuracy: 87.8694\t\n",
            "Epochs :  17\tLoss: 0.2543\tAccuracy: 90.4418\tTest Loss0.3686\tTest Accuracy: 87.9371\t\n",
            "Epochs :  18\tLoss: 0.2500\tAccuracy: 90.5929\tTest Loss0.3705\tTest Accuracy: 87.9783\t\n",
            "Epochs :  19\tLoss: 0.2460\tAccuracy: 90.7377\tTest Loss0.3734\tTest Accuracy: 88.0074\t\n",
            "Epochs :  20\tLoss: 0.2420\tAccuracy: 90.8783\tTest Loss0.3749\tTest Accuracy: 88.0420\t\n"
          ]
        }
      ]
    },
    {
      "cell_type": "markdown",
      "metadata": {
        "id": "ZEUXDyCMKWRo"
      },
      "source": [
        "### 모델 학습 : 2번째 방법 (Keras)"
      ]
    },
    {
      "cell_type": "code",
      "metadata": {
        "id": "TRlqurJ_Mz6v"
      },
      "source": [
        "from sklearn.model_selection import train_test_split"
      ],
      "execution_count": null,
      "outputs": []
    },
    {
      "cell_type": "code",
      "metadata": {
        "id": "XGLv1B6-KiWK",
        "colab": {
          "base_uri": "https://localhost:8080/"
        },
        "outputId": "613f7a4b-659b-47b6-f592-b2b66924b67e"
      },
      "source": [
        "(x_train_full, y_train_full),  (x_test, y_test)  =load_data()\n",
        "\n",
        "x_train, x_val , y_train, y_val = train_test_split(x_train_full, y_train_full,\n",
        "                                                   test_size = 0.3,\n",
        "                                                   random_state = 777)\n",
        "\n",
        "x_train = x_train / 255.\n",
        "x_val = x_val / 255.\n",
        "x_test = x_test / 255.\n",
        "\n",
        "print(x_train.shape)\n",
        "print(y_train.shape)\n",
        "print(x_val.shape)\n",
        "print(y_val.shape)\n",
        "print(x_test.shape)\n",
        "print(y_test.shape)\n",
        "\n",
        "model = build_model()\n",
        "model.compile( optimizer = 'sgd',\n",
        "              loss = 'sparse_categorical_crossentropy',\n",
        "              metrics = ['accuracy'])\n",
        "\n",
        "model.summary()"
      ],
      "execution_count": null,
      "outputs": [
        {
          "output_type": "stream",
          "name": "stdout",
          "text": [
            "(42000, 28, 28)\n",
            "(42000,)\n",
            "(18000, 28, 28)\n",
            "(18000,)\n",
            "(10000, 28, 28)\n",
            "(10000,)\n",
            "Model: \"model_3\"\n",
            "_________________________________________________________________\n",
            "Layer (type)                 Output Shape              Param #   \n",
            "=================================================================\n",
            "input (InputLayer)           [(None, 28, 28)]          0         \n",
            "_________________________________________________________________\n",
            "flatten (Flatten)            (None, 784)               0         \n",
            "_________________________________________________________________\n",
            "hidden1 (Dense)              (None, 256)               200960    \n",
            "_________________________________________________________________\n",
            "batch_normalization_12 (Batc (None, 256)               1024      \n",
            "_________________________________________________________________\n",
            "activation_12 (Activation)   (None, 256)               0         \n",
            "_________________________________________________________________\n",
            "dropout_12 (Dropout)         (None, 256)               0         \n",
            "_________________________________________________________________\n",
            "hidden2 (Dense)              (None, 256)               65792     \n",
            "_________________________________________________________________\n",
            "batch_normalization_13 (Batc (None, 256)               1024      \n",
            "_________________________________________________________________\n",
            "activation_13 (Activation)   (None, 256)               0         \n",
            "_________________________________________________________________\n",
            "dropout_13 (Dropout)         (None, 256)               0         \n",
            "_________________________________________________________________\n",
            "hidden3 (Dense)              (None, 256)               65792     \n",
            "_________________________________________________________________\n",
            "batch_normalization_14 (Batc (None, 256)               1024      \n",
            "_________________________________________________________________\n",
            "activation_14 (Activation)   (None, 256)               0         \n",
            "_________________________________________________________________\n",
            "dropout_14 (Dropout)         (None, 256)               0         \n",
            "_________________________________________________________________\n",
            "hidden4 (Dense)              (None, 256)               65792     \n",
            "_________________________________________________________________\n",
            "batch_normalization_15 (Batc (None, 256)               1024      \n",
            "_________________________________________________________________\n",
            "activation_15 (Activation)   (None, 256)               0         \n",
            "_________________________________________________________________\n",
            "dropout_15 (Dropout)         (None, 256)               0         \n",
            "_________________________________________________________________\n",
            "output (Dense)               (None, 10)                2570      \n",
            "=================================================================\n",
            "Total params: 405,002\n",
            "Trainable params: 402,954\n",
            "Non-trainable params: 2,048\n",
            "_________________________________________________________________\n"
          ]
        }
      ]
    },
    {
      "cell_type": "markdown",
      "metadata": {
        "id": "xBBuYErFFj0b"
      },
      "source": [
        "5~6분 소요"
      ]
    },
    {
      "cell_type": "code",
      "metadata": {
        "id": "32TtgSsWLT-0"
      },
      "source": [
        "from tensorflow.keras.callbacks import EarlyStopping"
      ],
      "execution_count": null,
      "outputs": []
    },
    {
      "cell_type": "code",
      "metadata": {
        "id": "TYEmlqkGKZbH",
        "colab": {
          "base_uri": "https://localhost:8080/"
        },
        "outputId": "2b7c326d-fe26-4619-c52d-f1688410ccab"
      },
      "source": [
        "early_stopping_cb = EarlyStopping(patience = 3, monitor = 'val_loss',\n",
        "                                  restore_best_weights = True)\n",
        "\n",
        "history = model.fit(x_train, y_train,\n",
        "                    batch_size = 256,\n",
        "                    epochs = 200,\n",
        "                    shuffle = True,\n",
        "                    validation_data = (x_val, y_val),\n",
        "                    callbacks = [early_stopping_cb])"
      ],
      "execution_count": null,
      "outputs": [
        {
          "output_type": "stream",
          "name": "stdout",
          "text": [
            "Epoch 1/200\n",
            "165/165 [==============================] - 5s 20ms/step - loss: 2.5412 - accuracy: 0.1679 - val_loss: 1.7743 - val_accuracy: 0.5218\n",
            "Epoch 2/200\n",
            "165/165 [==============================] - 3s 19ms/step - loss: 1.9854 - accuracy: 0.2987 - val_loss: 1.3622 - val_accuracy: 0.5747\n",
            "Epoch 3/200\n",
            "165/165 [==============================] - 3s 20ms/step - loss: 1.6585 - accuracy: 0.3972 - val_loss: 1.1370 - val_accuracy: 0.6299\n",
            "Epoch 4/200\n",
            "165/165 [==============================] - 3s 20ms/step - loss: 1.4483 - accuracy: 0.4638 - val_loss: 0.9951 - val_accuracy: 0.6682\n",
            "Epoch 5/200\n",
            "165/165 [==============================] - 3s 19ms/step - loss: 1.3047 - accuracy: 0.5109 - val_loss: 0.9061 - val_accuracy: 0.6993\n",
            "Epoch 6/200\n",
            "165/165 [==============================] - 3s 19ms/step - loss: 1.1937 - accuracy: 0.5518 - val_loss: 0.8435 - val_accuracy: 0.7051\n",
            "Epoch 7/200\n",
            "165/165 [==============================] - 3s 19ms/step - loss: 1.1254 - accuracy: 0.5730 - val_loss: 0.7901 - val_accuracy: 0.7278\n",
            "Epoch 8/200\n",
            "165/165 [==============================] - 3s 19ms/step - loss: 1.0592 - accuracy: 0.6009 - val_loss: 0.7578 - val_accuracy: 0.7361\n",
            "Epoch 9/200\n",
            "165/165 [==============================] - 3s 18ms/step - loss: 1.0186 - accuracy: 0.6110 - val_loss: 0.7274 - val_accuracy: 0.7415\n",
            "Epoch 10/200\n",
            "165/165 [==============================] - 3s 18ms/step - loss: 0.9756 - accuracy: 0.6306 - val_loss: 0.7050 - val_accuracy: 0.7494\n",
            "Epoch 11/200\n",
            "165/165 [==============================] - 3s 19ms/step - loss: 0.9418 - accuracy: 0.6422 - val_loss: 0.6829 - val_accuracy: 0.7545\n",
            "Epoch 12/200\n",
            "165/165 [==============================] - 3s 18ms/step - loss: 0.9217 - accuracy: 0.6479 - val_loss: 0.6650 - val_accuracy: 0.7611\n",
            "Epoch 13/200\n",
            "165/165 [==============================] - 3s 18ms/step - loss: 0.8945 - accuracy: 0.6601 - val_loss: 0.6515 - val_accuracy: 0.7635\n",
            "Epoch 14/200\n",
            "165/165 [==============================] - 3s 19ms/step - loss: 0.8757 - accuracy: 0.6696 - val_loss: 0.6391 - val_accuracy: 0.7673\n",
            "Epoch 15/200\n",
            "165/165 [==============================] - 3s 19ms/step - loss: 0.8578 - accuracy: 0.6784 - val_loss: 0.6252 - val_accuracy: 0.7720\n",
            "Epoch 16/200\n",
            "165/165 [==============================] - 3s 18ms/step - loss: 0.8394 - accuracy: 0.6869 - val_loss: 0.6165 - val_accuracy: 0.7721\n",
            "Epoch 17/200\n",
            "165/165 [==============================] - 3s 18ms/step - loss: 0.8236 - accuracy: 0.6916 - val_loss: 0.6053 - val_accuracy: 0.7745\n",
            "Epoch 18/200\n",
            "165/165 [==============================] - 3s 18ms/step - loss: 0.8073 - accuracy: 0.6984 - val_loss: 0.5974 - val_accuracy: 0.7781\n",
            "Epoch 19/200\n",
            "165/165 [==============================] - 3s 18ms/step - loss: 0.8027 - accuracy: 0.7031 - val_loss: 0.5878 - val_accuracy: 0.7828\n",
            "Epoch 20/200\n",
            "165/165 [==============================] - 3s 18ms/step - loss: 0.7872 - accuracy: 0.7075 - val_loss: 0.5800 - val_accuracy: 0.7875\n",
            "Epoch 21/200\n",
            "165/165 [==============================] - 3s 19ms/step - loss: 0.7747 - accuracy: 0.7140 - val_loss: 0.5735 - val_accuracy: 0.7877\n",
            "Epoch 22/200\n",
            "165/165 [==============================] - 3s 18ms/step - loss: 0.7629 - accuracy: 0.7181 - val_loss: 0.5644 - val_accuracy: 0.7927\n",
            "Epoch 23/200\n",
            "165/165 [==============================] - 3s 18ms/step - loss: 0.7537 - accuracy: 0.7229 - val_loss: 0.5587 - val_accuracy: 0.7963\n",
            "Epoch 24/200\n",
            "165/165 [==============================] - 3s 18ms/step - loss: 0.7473 - accuracy: 0.7254 - val_loss: 0.5510 - val_accuracy: 0.7991\n",
            "Epoch 25/200\n",
            "165/165 [==============================] - 3s 18ms/step - loss: 0.7380 - accuracy: 0.7275 - val_loss: 0.5448 - val_accuracy: 0.8018\n",
            "Epoch 26/200\n",
            "165/165 [==============================] - 3s 18ms/step - loss: 0.7329 - accuracy: 0.7311 - val_loss: 0.5408 - val_accuracy: 0.8032\n",
            "Epoch 27/200\n",
            "165/165 [==============================] - 3s 18ms/step - loss: 0.7269 - accuracy: 0.7366 - val_loss: 0.5378 - val_accuracy: 0.8060\n",
            "Epoch 28/200\n",
            "165/165 [==============================] - 3s 18ms/step - loss: 0.7183 - accuracy: 0.7385 - val_loss: 0.5292 - val_accuracy: 0.8072\n",
            "Epoch 29/200\n",
            "165/165 [==============================] - 3s 19ms/step - loss: 0.7114 - accuracy: 0.7424 - val_loss: 0.5267 - val_accuracy: 0.8094\n",
            "Epoch 30/200\n",
            "165/165 [==============================] - 3s 19ms/step - loss: 0.7021 - accuracy: 0.7435 - val_loss: 0.5227 - val_accuracy: 0.8115\n",
            "Epoch 31/200\n",
            "165/165 [==============================] - 3s 18ms/step - loss: 0.6923 - accuracy: 0.7510 - val_loss: 0.5154 - val_accuracy: 0.8123\n",
            "Epoch 32/200\n",
            "165/165 [==============================] - 3s 18ms/step - loss: 0.6902 - accuracy: 0.7497 - val_loss: 0.5112 - val_accuracy: 0.8149\n",
            "Epoch 33/200\n",
            "165/165 [==============================] - 3s 19ms/step - loss: 0.6876 - accuracy: 0.7519 - val_loss: 0.5087 - val_accuracy: 0.8152\n",
            "Epoch 34/200\n",
            "165/165 [==============================] - 3s 19ms/step - loss: 0.6828 - accuracy: 0.7532 - val_loss: 0.5058 - val_accuracy: 0.8167\n",
            "Epoch 35/200\n",
            "165/165 [==============================] - 3s 18ms/step - loss: 0.6775 - accuracy: 0.7563 - val_loss: 0.5024 - val_accuracy: 0.8179\n",
            "Epoch 36/200\n",
            "165/165 [==============================] - 3s 19ms/step - loss: 0.6680 - accuracy: 0.7595 - val_loss: 0.4979 - val_accuracy: 0.8197\n",
            "Epoch 37/200\n",
            "165/165 [==============================] - 3s 18ms/step - loss: 0.6604 - accuracy: 0.7634 - val_loss: 0.4941 - val_accuracy: 0.8210\n",
            "Epoch 38/200\n",
            "165/165 [==============================] - 3s 18ms/step - loss: 0.6551 - accuracy: 0.7661 - val_loss: 0.4911 - val_accuracy: 0.8224\n",
            "Epoch 39/200\n",
            "165/165 [==============================] - 3s 18ms/step - loss: 0.6566 - accuracy: 0.7654 - val_loss: 0.4892 - val_accuracy: 0.8229\n",
            "Epoch 40/200\n",
            "165/165 [==============================] - 3s 18ms/step - loss: 0.6473 - accuracy: 0.7699 - val_loss: 0.4850 - val_accuracy: 0.8240\n",
            "Epoch 41/200\n",
            "165/165 [==============================] - 3s 18ms/step - loss: 0.6455 - accuracy: 0.7700 - val_loss: 0.4826 - val_accuracy: 0.8251\n",
            "Epoch 42/200\n",
            "165/165 [==============================] - 3s 19ms/step - loss: 0.6484 - accuracy: 0.7678 - val_loss: 0.4772 - val_accuracy: 0.8274\n",
            "Epoch 43/200\n",
            "165/165 [==============================] - 3s 18ms/step - loss: 0.6368 - accuracy: 0.7741 - val_loss: 0.4781 - val_accuracy: 0.8282\n",
            "Epoch 44/200\n",
            "165/165 [==============================] - 3s 18ms/step - loss: 0.6344 - accuracy: 0.7745 - val_loss: 0.4745 - val_accuracy: 0.8292\n",
            "Epoch 45/200\n",
            "165/165 [==============================] - 3s 18ms/step - loss: 0.6337 - accuracy: 0.7766 - val_loss: 0.4718 - val_accuracy: 0.8303\n",
            "Epoch 46/200\n",
            "165/165 [==============================] - 3s 18ms/step - loss: 0.6276 - accuracy: 0.7770 - val_loss: 0.4689 - val_accuracy: 0.8308\n",
            "Epoch 47/200\n",
            "165/165 [==============================] - 3s 18ms/step - loss: 0.6259 - accuracy: 0.7796 - val_loss: 0.4674 - val_accuracy: 0.8318\n",
            "Epoch 48/200\n",
            "165/165 [==============================] - 3s 18ms/step - loss: 0.6193 - accuracy: 0.7818 - val_loss: 0.4646 - val_accuracy: 0.8329\n",
            "Epoch 49/200\n",
            "165/165 [==============================] - 3s 18ms/step - loss: 0.6201 - accuracy: 0.7798 - val_loss: 0.4696 - val_accuracy: 0.8294\n",
            "Epoch 50/200\n",
            "165/165 [==============================] - 3s 18ms/step - loss: 0.6117 - accuracy: 0.7851 - val_loss: 0.4604 - val_accuracy: 0.8343\n",
            "Epoch 51/200\n",
            "165/165 [==============================] - 3s 18ms/step - loss: 0.6154 - accuracy: 0.7838 - val_loss: 0.4586 - val_accuracy: 0.8353\n",
            "Epoch 52/200\n",
            "165/165 [==============================] - 3s 18ms/step - loss: 0.6078 - accuracy: 0.7848 - val_loss: 0.4588 - val_accuracy: 0.8357\n",
            "Epoch 53/200\n",
            "165/165 [==============================] - 3s 18ms/step - loss: 0.5964 - accuracy: 0.7878 - val_loss: 0.4549 - val_accuracy: 0.8363\n",
            "Epoch 54/200\n",
            "165/165 [==============================] - 3s 18ms/step - loss: 0.6008 - accuracy: 0.7875 - val_loss: 0.4534 - val_accuracy: 0.8374\n",
            "Epoch 55/200\n",
            "165/165 [==============================] - 3s 18ms/step - loss: 0.5943 - accuracy: 0.7880 - val_loss: 0.4537 - val_accuracy: 0.8367\n",
            "Epoch 56/200\n",
            "165/165 [==============================] - 3s 18ms/step - loss: 0.5976 - accuracy: 0.7907 - val_loss: 0.4524 - val_accuracy: 0.8366\n",
            "Epoch 57/200\n",
            "165/165 [==============================] - 3s 18ms/step - loss: 0.5932 - accuracy: 0.7913 - val_loss: 0.4481 - val_accuracy: 0.8401\n",
            "Epoch 58/200\n",
            "165/165 [==============================] - 3s 18ms/step - loss: 0.5924 - accuracy: 0.7925 - val_loss: 0.4478 - val_accuracy: 0.8391\n",
            "Epoch 59/200\n",
            "165/165 [==============================] - 3s 18ms/step - loss: 0.5912 - accuracy: 0.7920 - val_loss: 0.4463 - val_accuracy: 0.8416\n",
            "Epoch 60/200\n",
            "165/165 [==============================] - 3s 18ms/step - loss: 0.5855 - accuracy: 0.7951 - val_loss: 0.4440 - val_accuracy: 0.8417\n",
            "Epoch 61/200\n",
            "165/165 [==============================] - 3s 18ms/step - loss: 0.5818 - accuracy: 0.7968 - val_loss: 0.4465 - val_accuracy: 0.8403\n",
            "Epoch 62/200\n",
            "165/165 [==============================] - 3s 18ms/step - loss: 0.5820 - accuracy: 0.7955 - val_loss: 0.4401 - val_accuracy: 0.8438\n",
            "Epoch 63/200\n",
            "165/165 [==============================] - 3s 19ms/step - loss: 0.5829 - accuracy: 0.7959 - val_loss: 0.4457 - val_accuracy: 0.8401\n",
            "Epoch 64/200\n",
            "165/165 [==============================] - 3s 20ms/step - loss: 0.5795 - accuracy: 0.7953 - val_loss: 0.4369 - val_accuracy: 0.8439\n",
            "Epoch 65/200\n",
            "165/165 [==============================] - 3s 19ms/step - loss: 0.5844 - accuracy: 0.7960 - val_loss: 0.4385 - val_accuracy: 0.8426\n",
            "Epoch 66/200\n",
            "165/165 [==============================] - 3s 19ms/step - loss: 0.5772 - accuracy: 0.7993 - val_loss: 0.4381 - val_accuracy: 0.8432\n",
            "Epoch 67/200\n",
            "165/165 [==============================] - 3s 19ms/step - loss: 0.5746 - accuracy: 0.7990 - val_loss: 0.4361 - val_accuracy: 0.8445\n",
            "Epoch 68/200\n",
            "165/165 [==============================] - 3s 18ms/step - loss: 0.5702 - accuracy: 0.8012 - val_loss: 0.4336 - val_accuracy: 0.8452\n",
            "Epoch 69/200\n",
            "165/165 [==============================] - 3s 18ms/step - loss: 0.5738 - accuracy: 0.8003 - val_loss: 0.4335 - val_accuracy: 0.8454\n",
            "Epoch 70/200\n",
            "165/165 [==============================] - 3s 18ms/step - loss: 0.5654 - accuracy: 0.8024 - val_loss: 0.4317 - val_accuracy: 0.8458\n",
            "Epoch 71/200\n",
            "165/165 [==============================] - 3s 20ms/step - loss: 0.5631 - accuracy: 0.8026 - val_loss: 0.4275 - val_accuracy: 0.8492\n",
            "Epoch 72/200\n",
            "165/165 [==============================] - 3s 19ms/step - loss: 0.5637 - accuracy: 0.8022 - val_loss: 0.4270 - val_accuracy: 0.8491\n",
            "Epoch 73/200\n",
            "165/165 [==============================] - 3s 19ms/step - loss: 0.5593 - accuracy: 0.8052 - val_loss: 0.4276 - val_accuracy: 0.8477\n",
            "Epoch 74/200\n",
            "165/165 [==============================] - 3s 19ms/step - loss: 0.5524 - accuracy: 0.8075 - val_loss: 0.4264 - val_accuracy: 0.8481\n",
            "Epoch 75/200\n",
            "165/165 [==============================] - 3s 19ms/step - loss: 0.5518 - accuracy: 0.8073 - val_loss: 0.4235 - val_accuracy: 0.8497\n",
            "Epoch 76/200\n",
            "165/165 [==============================] - 3s 18ms/step - loss: 0.5563 - accuracy: 0.8067 - val_loss: 0.4225 - val_accuracy: 0.8515\n",
            "Epoch 77/200\n",
            "165/165 [==============================] - 3s 19ms/step - loss: 0.5530 - accuracy: 0.8100 - val_loss: 0.4204 - val_accuracy: 0.8508\n",
            "Epoch 78/200\n",
            "165/165 [==============================] - 3s 19ms/step - loss: 0.5522 - accuracy: 0.8093 - val_loss: 0.4190 - val_accuracy: 0.8503\n",
            "Epoch 79/200\n",
            "165/165 [==============================] - 3s 19ms/step - loss: 0.5520 - accuracy: 0.8075 - val_loss: 0.4237 - val_accuracy: 0.8496\n",
            "Epoch 80/200\n",
            "165/165 [==============================] - 3s 19ms/step - loss: 0.5472 - accuracy: 0.8085 - val_loss: 0.4196 - val_accuracy: 0.8506\n",
            "Epoch 81/200\n",
            "165/165 [==============================] - 3s 19ms/step - loss: 0.5488 - accuracy: 0.8087 - val_loss: 0.4177 - val_accuracy: 0.8528\n",
            "Epoch 82/200\n",
            "165/165 [==============================] - 3s 19ms/step - loss: 0.5449 - accuracy: 0.8103 - val_loss: 0.4182 - val_accuracy: 0.8503\n",
            "Epoch 83/200\n",
            "165/165 [==============================] - 3s 18ms/step - loss: 0.5417 - accuracy: 0.8112 - val_loss: 0.4151 - val_accuracy: 0.8530\n",
            "Epoch 84/200\n",
            "165/165 [==============================] - 3s 19ms/step - loss: 0.5486 - accuracy: 0.8093 - val_loss: 0.4160 - val_accuracy: 0.8527\n",
            "Epoch 85/200\n",
            "165/165 [==============================] - 3s 19ms/step - loss: 0.5426 - accuracy: 0.8116 - val_loss: 0.4133 - val_accuracy: 0.8536\n",
            "Epoch 86/200\n",
            "165/165 [==============================] - 3s 19ms/step - loss: 0.5419 - accuracy: 0.8115 - val_loss: 0.4151 - val_accuracy: 0.8524\n",
            "Epoch 87/200\n",
            "165/165 [==============================] - 3s 19ms/step - loss: 0.5353 - accuracy: 0.8134 - val_loss: 0.4111 - val_accuracy: 0.8538\n",
            "Epoch 88/200\n",
            "165/165 [==============================] - 3s 19ms/step - loss: 0.5366 - accuracy: 0.8123 - val_loss: 0.4110 - val_accuracy: 0.8547\n",
            "Epoch 89/200\n",
            "165/165 [==============================] - 3s 18ms/step - loss: 0.5334 - accuracy: 0.8144 - val_loss: 0.4115 - val_accuracy: 0.8536\n",
            "Epoch 90/200\n",
            "165/165 [==============================] - 3s 19ms/step - loss: 0.5318 - accuracy: 0.8167 - val_loss: 0.4108 - val_accuracy: 0.8548\n",
            "Epoch 91/200\n",
            "165/165 [==============================] - 3s 19ms/step - loss: 0.5362 - accuracy: 0.8151 - val_loss: 0.4082 - val_accuracy: 0.8549\n",
            "Epoch 92/200\n",
            "165/165 [==============================] - 3s 20ms/step - loss: 0.5271 - accuracy: 0.8158 - val_loss: 0.4084 - val_accuracy: 0.8547\n",
            "Epoch 93/200\n",
            "165/165 [==============================] - 3s 19ms/step - loss: 0.5288 - accuracy: 0.8180 - val_loss: 0.4053 - val_accuracy: 0.8571\n",
            "Epoch 94/200\n",
            "165/165 [==============================] - 3s 19ms/step - loss: 0.5262 - accuracy: 0.8162 - val_loss: 0.4054 - val_accuracy: 0.8563\n",
            "Epoch 95/200\n",
            "165/165 [==============================] - 3s 18ms/step - loss: 0.5283 - accuracy: 0.8167 - val_loss: 0.4060 - val_accuracy: 0.8557\n",
            "Epoch 96/200\n",
            "165/165 [==============================] - 3s 19ms/step - loss: 0.5246 - accuracy: 0.8188 - val_loss: 0.4056 - val_accuracy: 0.8562\n"
          ]
        }
      ]
    },
    {
      "cell_type": "code",
      "metadata": {
        "id": "RaeHz1VFKZVM",
        "colab": {
          "base_uri": "https://localhost:8080/"
        },
        "outputId": "447124cb-5709-4a4f-b839-78b06dd28482"
      },
      "source": [
        "history.history.keys()"
      ],
      "execution_count": null,
      "outputs": [
        {
          "output_type": "execute_result",
          "data": {
            "text/plain": [
              "dict_keys(['loss', 'accuracy', 'val_loss', 'val_accuracy'])"
            ]
          },
          "metadata": {},
          "execution_count": 58
        }
      ]
    },
    {
      "cell_type": "markdown",
      "metadata": {
        "id": "5pJ6MDW9CcwX"
      },
      "source": [
        "### 모델 평가"
      ]
    },
    {
      "cell_type": "code",
      "metadata": {
        "id": "e4MxgLKOCeL9",
        "colab": {
          "base_uri": "https://localhost:8080/"
        },
        "outputId": "122fba1f-8931-462e-ab74-1c220d9adb5d"
      },
      "source": [
        "model.evaluate(x_test, y_test, batch_size = 100)"
      ],
      "execution_count": null,
      "outputs": [
        {
          "output_type": "stream",
          "name": "stdout",
          "text": [
            "100/100 [==============================] - 1s 4ms/step - loss: 0.4406 - accuracy: 0.8414\n"
          ]
        },
        {
          "output_type": "execute_result",
          "data": {
            "text/plain": [
              "[0.44057032465934753, 0.8414000272750854]"
            ]
          },
          "metadata": {},
          "execution_count": 59
        }
      ]
    },
    {
      "cell_type": "markdown",
      "metadata": {
        "id": "8McnnarjV2Tf"
      },
      "source": [
        "### 결과 확인"
      ]
    },
    {
      "cell_type": "code",
      "metadata": {
        "id": "7zHvs2FICeHD",
        "colab": {
          "base_uri": "https://localhost:8080/"
        },
        "outputId": "47ca34c8-d2f8-45ee-ec6d-b2a5d886050b"
      },
      "source": [
        "test_img = x_test[0 , : ,:]\n",
        "print(test_img.shape)"
      ],
      "execution_count": null,
      "outputs": [
        {
          "output_type": "stream",
          "name": "stdout",
          "text": [
            "(28, 28)\n"
          ]
        }
      ]
    },
    {
      "cell_type": "code",
      "metadata": {
        "id": "L9TlZb73CeEj",
        "colab": {
          "base_uri": "https://localhost:8080/",
          "height": 277
        },
        "outputId": "3e02815d-3934-4134-f9cf-bc0b929af067"
      },
      "source": [
        "plt.title(class_names[y_test[0]])\n",
        "plt.imshow(test_img, cmap = 'gray')\n",
        "plt.show()"
      ],
      "execution_count": null,
      "outputs": [
        {
          "output_type": "display_data",
          "data": {
            "image/png": "[encoded data removed]",
            "text/plain": [
              "<Figure size 432x288 with 1 Axes>"
            ]
          },
          "metadata": {}
        }
      ]
    },
    {
      "cell_type": "code",
      "metadata": {
        "id": "tLU39hstWLfh"
      },
      "source": [
        "pred = model.predict(test_img.reshape(1, 28, 28))"
      ],
      "execution_count": null,
      "outputs": []
    },
    {
      "cell_type": "code",
      "metadata": {
        "id": "VvN3dvdZWXRd",
        "colab": {
          "base_uri": "https://localhost:8080/"
        },
        "outputId": "b7d511a8-26e0-4c95-ee97-3748f2864d64"
      },
      "source": [
        "pred"
      ],
      "execution_count": null,
      "outputs": [
        {
          "output_type": "execute_result",
          "data": {
            "text/plain": [
              "array([[7.9127240e-05, 8.1286686e-05, 4.0952018e-05, 3.8445994e-04,\n",
              "        5.0070106e-05, 5.1095236e-02, 1.5856811e-05, 3.5643870e-01,\n",
              "        9.2411722e-04, 5.9089017e-01]], dtype=float32)"
            ]
          },
          "metadata": {},
          "execution_count": 64
        }
      ]
    },
    {
      "cell_type": "code",
      "metadata": {
        "id": "gXCeb-f2WYm1",
        "colab": {
          "base_uri": "https://localhost:8080/",
          "height": 35
        },
        "outputId": "05dfaeca-2f3d-415c-fbe1-50002172096a"
      },
      "source": [
        "class_names[np.argmax(pred)]"
      ],
      "execution_count": null,
      "outputs": [
        {
          "output_type": "execute_result",
          "data": {
            "application/vnd.google.colaboratory.intrinsic+json": {
              "type": "string"
            },
            "text/plain": [
              "'Ankle boot'"
            ]
          },
          "metadata": {},
          "execution_count": 65
        }
      ]
    },
    {
      "cell_type": "markdown",
      "metadata": {
        "id": "MJL5wVZiWqtw"
      },
      "source": [
        "### Test Batch Dataset"
      ]
    },
    {
      "cell_type": "code",
      "metadata": {
        "id": "joaO3OqrWxIp",
        "colab": {
          "base_uri": "https://localhost:8080/"
        },
        "outputId": "416ff384-9ff3-41f1-83d1-1f5e127b0cb2"
      },
      "source": [
        "test_batch = x_test[:32, :, :]\n",
        "test_batch_y = y_test[:32]\n",
        "print(test_batch.shape)"
      ],
      "execution_count": null,
      "outputs": [
        {
          "output_type": "stream",
          "name": "stdout",
          "text": [
            "(32, 28, 28)\n"
          ]
        }
      ]
    },
    {
      "cell_type": "code",
      "metadata": {
        "id": "OxqBhlqXWmXl",
        "colab": {
          "base_uri": "https://localhost:8080/"
        },
        "outputId": "4875d892-3bf0-4dc6-a1e3-11648efcae34"
      },
      "source": [
        "preds= model.predict(test_batch)\n",
        "preds.shape"
      ],
      "execution_count": null,
      "outputs": [
        {
          "output_type": "execute_result",
          "data": {
            "text/plain": [
              "(32, 10)"
            ]
          },
          "metadata": {},
          "execution_count": 75
        }
      ]
    },
    {
      "cell_type": "code",
      "metadata": {
        "id": "53xdFvATW85m"
      },
      "source": [
        "preds_arg = np.argmax(preds, axis = 1)"
      ],
      "execution_count": null,
      "outputs": []
    },
    {
      "cell_type": "code",
      "metadata": {
        "colab": {
          "base_uri": "https://localhost:8080/",
          "height": 553
        },
        "id": "MhS3sxoDKcNP",
        "outputId": "732b53b6-578d-431c-d26e-2b4f12613360"
      },
      "source": [
        "num_rows = 8\n",
        "num_cols = 4\n",
        "num_images = num_rows * num_cols\n",
        "\n",
        "plt.figure(figsize = (16, 10))\n",
        "\n",
        "for i in range(1, 33, 1):\n",
        "  plt.subplot(num_rows, num_cols , i)\n",
        "  plt.title('Predicted: {}, True: {}'.format(class_names[preds_arg[i - 1]],\n",
        "                                             class_names[test_batch_y[i - 1]]))\n",
        "  plt.imshow(test_batch[i-1], cmap ='gray')\n",
        "\n",
        "plt.show()"
      ],
      "execution_count": null,
      "outputs": [
        {
          "output_type": "display_data",
          "data": {
            "image/png": "[encoded data removed]",
            "text/plain": [
              "<Figure size 1152x720 with 32 Axes>"
            ]
          },
          "metadata": {}
        }
      ]
    }
  ]
}